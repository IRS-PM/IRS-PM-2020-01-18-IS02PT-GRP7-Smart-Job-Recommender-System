{
 "cells": [
  {
   "cell_type": "code",
   "execution_count": 1,
   "metadata": {},
   "outputs": [],
   "source": [
    "import pandas as pd\n",
    "import numpy as np\n",
    "import matplotlib.pyplot as plt\n",
    "import seaborn as sns\n",
    "import scipy.stats as stats\n",
    "import warnings\n",
    "warnings.filterwarnings('ignore')\n",
    "\n",
    "plt.style.use('fivethirtyeight')\n",
    "sns.set_style('whitegrid')\n",
    "\n",
    "%config InlineBackend.figure_format = 'retina'\n",
    "%matplotlib inline"
   ]
  },
  {
   "cell_type": "code",
   "execution_count": 2,
   "metadata": {},
   "outputs": [],
   "source": [
    "import statsmodels.formula.api as sm\n",
    "import patsy\n",
    "import itertools\n",
    "from sklearn.metrics import classification_report, confusion_matrix, accuracy_score, roc_curve, roc_auc_score, auc\n",
    "from sklearn.model_selection import cross_val_score, cross_val_predict, KFold, GridSearchCV,learning_curve\n",
    "from sklearn.model_selection import train_test_split, GridSearchCV, StratifiedKFold, StratifiedShuffleSplit\n",
    "from sklearn.linear_model import LogisticRegression, LogisticRegressionCV\n",
    "from sklearn.naive_bayes import MultinomialNB, BernoulliNB, GaussianNB\n",
    "from sklearn.preprocessing import StandardScaler\n",
    "from sklearn.feature_extraction.text import CountVectorizer, TfidfTransformer, TfidfVectorizer \n",
    "from sklearn.pipeline import Pipeline"
   ]
  },
  {
   "cell_type": "code",
   "execution_count": 3,
   "metadata": {},
   "outputs": [
    {
     "name": "stdout",
     "output_type": "stream",
     "text": [
      "['DS_27Mar2020a.csv', 'DS_27Mar2020b.csv', 'ML_27Mar2020b.csv', 'ML_27Mar2020a.csv', 'AI_26Mar2020.csv']\n"
     ]
    }
   ],
   "source": [
    "import glob, os     \n",
    "extension = 'csv' \n",
    "all_filenames = [i for i in glob.glob('*.{}'.format(extension))] \n",
    "print(all_filenames)\n",
    "\n",
    "#combine all files in the list \n",
    "\n",
    "df_raw = pd.concat([pd.read_csv(f, encoding='unicode escape',skiprows=0) for f in all_filenames ]) \n",
    "df_raw.reset_index(inplace=True) \n",
    "df_raw = df_raw.drop(columns=['index','Unnamed: 0']) "
   ]
  },
  {
   "cell_type": "code",
   "execution_count": 4,
   "metadata": {},
   "outputs": [
    {
     "data": {
      "text/plain": [
       "(1091, 11)"
      ]
     },
     "execution_count": 4,
     "metadata": {},
     "output_type": "execute_result"
    }
   ],
   "source": [
    "df_raw.shape"
   ]
  },
  {
   "cell_type": "markdown",
   "metadata": {},
   "source": [
    "# EDA and Features Engineering"
   ]
  },
  {
   "cell_type": "code",
   "execution_count": 5,
   "metadata": {},
   "outputs": [
    {
     "name": "stdout",
     "output_type": "stream",
     "text": [
      "<class 'pandas.core.frame.DataFrame'>\n",
      "RangeIndex: 1091 entries, 0 to 1090\n",
      "Data columns (total 11 columns):\n",
      " #   Column           Non-Null Count  Dtype \n",
      "---  ------           --------------  ----- \n",
      " 0   Job_Id           1043 non-null   object\n",
      " 1   Emp_Type         1043 non-null   object\n",
      " 2   Job_Title        1043 non-null   object\n",
      " 3   Company          1043 non-null   object\n",
      " 4   Date_Posted      1043 non-null   object\n",
      " 5   Salary_Range     1043 non-null   object\n",
      " 6   Salary_Type      1043 non-null   object\n",
      " 7   Year_Experience  1043 non-null   object\n",
      " 8   Seniority        1043 non-null   object\n",
      " 9   Category         1043 non-null   object\n",
      " 10  Requirements     1043 non-null   object\n",
      "dtypes: object(11)\n",
      "memory usage: 93.9+ KB\n"
     ]
    }
   ],
   "source": [
    "df_raw.info()"
   ]
  },
  {
   "cell_type": "code",
   "execution_count": 6,
   "metadata": {},
   "outputs": [
    {
     "data": {
      "text/plain": [
       "(802, 10)"
      ]
     },
     "execution_count": 6,
     "metadata": {},
     "output_type": "execute_result"
    }
   ],
   "source": [
    "job_clean = df_raw.drop_duplicates(subset='Job_Id', keep='first') #remove duplicate based on Job ID\n",
    "\n",
    "#drop Salary_Type due to only one unique value 'Monthly'\n",
    "job_clean = job_clean.drop(columns='Salary_Type')\n",
    "job_clean.shape"
   ]
  },
  {
   "cell_type": "code",
   "execution_count": 7,
   "metadata": {},
   "outputs": [
    {
     "data": {
      "text/html": [
       "<div>\n",
       "<style scoped>\n",
       "    .dataframe tbody tr th:only-of-type {\n",
       "        vertical-align: middle;\n",
       "    }\n",
       "\n",
       "    .dataframe tbody tr th {\n",
       "        vertical-align: top;\n",
       "    }\n",
       "\n",
       "    .dataframe thead th {\n",
       "        text-align: right;\n",
       "    }\n",
       "</style>\n",
       "<table border=\"1\" class=\"dataframe\">\n",
       "  <thead>\n",
       "    <tr style=\"text-align: right;\">\n",
       "      <th></th>\n",
       "      <th>Job_Id</th>\n",
       "      <th>Emp_Type</th>\n",
       "      <th>Job_Title</th>\n",
       "      <th>Company</th>\n",
       "      <th>Date_Posted</th>\n",
       "      <th>Salary_Range</th>\n",
       "      <th>Year_Experience</th>\n",
       "      <th>Seniority</th>\n",
       "      <th>Category</th>\n",
       "      <th>Requirements</th>\n",
       "    </tr>\n",
       "  </thead>\n",
       "  <tbody>\n",
       "    <tr>\n",
       "      <th>0</th>\n",
       "      <td>[b'MCF-2020-0045240']</td>\n",
       "      <td>[b'Contract, Full Time']</td>\n",
       "      <td>[b'Scientist (Machine Intellection), I2R']</td>\n",
       "      <td>[b'A*STAR RESEARCH ENTITIES']</td>\n",
       "      <td>[b'Posted 27 Mar 2020']</td>\n",
       "      <td>[b'&lt;div class=\"lh-solid\"&gt;&lt;span class=\"dib\"&gt;$4,...</td>\n",
       "      <td>[]</td>\n",
       "      <td>[b'Professional']</td>\n",
       "      <td>[b'Sciences / Laboratory / R&amp;amp;D']</td>\n",
       "      <td>['\\nDeveloping, enhancing, automating, and man...</td>\n",
       "    </tr>\n",
       "    <tr>\n",
       "      <th>1</th>\n",
       "      <td>[b'MCF-2020-0045289']</td>\n",
       "      <td>[b'Contract, Full Time']</td>\n",
       "      <td>[b'Scientist (Machine Intellection), I2R']</td>\n",
       "      <td>[b'A*STAR RESEARCH ENTITIES']</td>\n",
       "      <td>[b'Posted 27 Mar 2020']</td>\n",
       "      <td>[b'&lt;div class=\"lh-solid\"&gt;&lt;span class=\"dib\"&gt;$4,...</td>\n",
       "      <td>[]</td>\n",
       "      <td>[b'Professional']</td>\n",
       "      <td>[b'Sciences / Laboratory / R&amp;amp;D']</td>\n",
       "      <td>['\\nProtein nodes discovering in cancer\\nBioma...</td>\n",
       "    </tr>\n",
       "    <tr>\n",
       "      <th>2</th>\n",
       "      <td>[b'MCF-2020-0045282']</td>\n",
       "      <td>[b'Contract, Full Time']</td>\n",
       "      <td>[b'Scientist (Machine Intellection), I2R']</td>\n",
       "      <td>[b'A*STAR RESEARCH ENTITIES']</td>\n",
       "      <td>[b'Posted 27 Mar 2020']</td>\n",
       "      <td>[b'&lt;div class=\"lh-solid\"&gt;&lt;span class=\"dib\"&gt;$4,...</td>\n",
       "      <td>[]</td>\n",
       "      <td>[b'Professional']</td>\n",
       "      <td>[b'Sciences / Laboratory / R&amp;amp;D']</td>\n",
       "      <td>['\\nProtein nodes discovering in cancer\\nBioma...</td>\n",
       "    </tr>\n",
       "  </tbody>\n",
       "</table>\n",
       "</div>"
      ],
      "text/plain": [
       "                  Job_Id                  Emp_Type  \\\n",
       "0  [b'MCF-2020-0045240']  [b'Contract, Full Time']   \n",
       "1  [b'MCF-2020-0045289']  [b'Contract, Full Time']   \n",
       "2  [b'MCF-2020-0045282']  [b'Contract, Full Time']   \n",
       "\n",
       "                                    Job_Title                        Company  \\\n",
       "0  [b'Scientist (Machine Intellection), I2R']  [b'A*STAR RESEARCH ENTITIES']   \n",
       "1  [b'Scientist (Machine Intellection), I2R']  [b'A*STAR RESEARCH ENTITIES']   \n",
       "2  [b'Scientist (Machine Intellection), I2R']  [b'A*STAR RESEARCH ENTITIES']   \n",
       "\n",
       "               Date_Posted                                       Salary_Range  \\\n",
       "0  [b'Posted 27 Mar 2020']  [b'<div class=\"lh-solid\"><span class=\"dib\">$4,...   \n",
       "1  [b'Posted 27 Mar 2020']  [b'<div class=\"lh-solid\"><span class=\"dib\">$4,...   \n",
       "2  [b'Posted 27 Mar 2020']  [b'<div class=\"lh-solid\"><span class=\"dib\">$4,...   \n",
       "\n",
       "  Year_Experience          Seniority                              Category  \\\n",
       "0              []  [b'Professional']  [b'Sciences / Laboratory / R&amp;D']   \n",
       "1              []  [b'Professional']  [b'Sciences / Laboratory / R&amp;D']   \n",
       "2              []  [b'Professional']  [b'Sciences / Laboratory / R&amp;D']   \n",
       "\n",
       "                                        Requirements  \n",
       "0  ['\\nDeveloping, enhancing, automating, and man...  \n",
       "1  ['\\nProtein nodes discovering in cancer\\nBioma...  \n",
       "2  ['\\nProtein nodes discovering in cancer\\nBioma...  "
      ]
     },
     "execution_count": 7,
     "metadata": {},
     "output_type": "execute_result"
    }
   ],
   "source": [
    "job_clean.head(3)"
   ]
  },
  {
   "cell_type": "code",
   "execution_count": 8,
   "metadata": {},
   "outputs": [
    {
     "data": {
      "text/html": [
       "<div>\n",
       "<style scoped>\n",
       "    .dataframe tbody tr th:only-of-type {\n",
       "        vertical-align: middle;\n",
       "    }\n",
       "\n",
       "    .dataframe tbody tr th {\n",
       "        vertical-align: top;\n",
       "    }\n",
       "\n",
       "    .dataframe thead th {\n",
       "        text-align: right;\n",
       "    }\n",
       "</style>\n",
       "<table border=\"1\" class=\"dataframe\">\n",
       "  <thead>\n",
       "    <tr style=\"text-align: right;\">\n",
       "      <th></th>\n",
       "      <th>Job_Id</th>\n",
       "      <th>Emp_Type</th>\n",
       "      <th>Job_Title</th>\n",
       "      <th>Company</th>\n",
       "      <th>Date_Posted</th>\n",
       "      <th>Salary_Range</th>\n",
       "      <th>Year_Experience</th>\n",
       "      <th>Seniority</th>\n",
       "      <th>Category</th>\n",
       "      <th>Requirements</th>\n",
       "    </tr>\n",
       "  </thead>\n",
       "  <tbody>\n",
       "    <tr>\n",
       "      <th>0</th>\n",
       "      <td>MCF-2020-0045240</td>\n",
       "      <td>Contract, Full Time</td>\n",
       "      <td>Scientist (Machine Intellection), I2R</td>\n",
       "      <td>A*STAR RESEARCH ENTITIES</td>\n",
       "      <td>Posted 27 Mar 2020</td>\n",
       "      <td>$4,500to$9,000</td>\n",
       "      <td></td>\n",
       "      <td>Professional</td>\n",
       "      <td>Sciences / Laboratory / R&amp;D</td>\n",
       "      <td>Developing, enhancing, automating, and mana...</td>\n",
       "    </tr>\n",
       "    <tr>\n",
       "      <th>1</th>\n",
       "      <td>MCF-2020-0045289</td>\n",
       "      <td>Contract, Full Time</td>\n",
       "      <td>Scientist (Machine Intellection), I2R</td>\n",
       "      <td>A*STAR RESEARCH ENTITIES</td>\n",
       "      <td>Posted 27 Mar 2020</td>\n",
       "      <td>$4,500to$9,000</td>\n",
       "      <td></td>\n",
       "      <td>Professional</td>\n",
       "      <td>Sciences / Laboratory / R&amp;D</td>\n",
       "      <td>Protein nodes discovering in cancer Biomark...</td>\n",
       "    </tr>\n",
       "  </tbody>\n",
       "</table>\n",
       "</div>"
      ],
      "text/plain": [
       "             Job_Id             Emp_Type  \\\n",
       "0  MCF-2020-0045240  Contract, Full Time   \n",
       "1  MCF-2020-0045289  Contract, Full Time   \n",
       "\n",
       "                               Job_Title                   Company  \\\n",
       "0  Scientist (Machine Intellection), I2R  A*STAR RESEARCH ENTITIES   \n",
       "1  Scientist (Machine Intellection), I2R  A*STAR RESEARCH ENTITIES   \n",
       "\n",
       "          Date_Posted    Salary_Range Year_Experience     Seniority  \\\n",
       "0  Posted 27 Mar 2020  $4,500to$9,000                  Professional   \n",
       "1  Posted 27 Mar 2020  $4,500to$9,000                  Professional   \n",
       "\n",
       "                      Category  \\\n",
       "0  Sciences / Laboratory / R&D   \n",
       "1  Sciences / Laboratory / R&D   \n",
       "\n",
       "                                        Requirements  \n",
       "0     Developing, enhancing, automating, and mana...  \n",
       "1     Protein nodes discovering in cancer Biomark...  "
      ]
     },
     "execution_count": 8,
     "metadata": {},
     "output_type": "execute_result"
    }
   ],
   "source": [
    "#perform data cleaning on every row and columms\n",
    "clean_list = \"(\\[|\\]|b'|Requirements|'|amp;|xa0|\\\\\\|xe2x80x93|\\\\n|div class=|div class=|span class=|dib|lh-solid|/span|f5-5 i fw4 gray|f5 fw4 ph1|<|>|/div|\\\")\"\n",
    "for col in job_clean.columns.difference(['Requirements']):\n",
    "    job_clean[col]=job_clean[col].str.replace(clean_list, \"\")\n",
    "\n",
    "#space remain for Requirements column    \n",
    "job_clean['Requirements']=job_clean['Requirements'].str.replace(clean_list, \" \")\n",
    "job_clean.head(2)"
   ]
  },
  {
   "cell_type": "code",
   "execution_count": 9,
   "metadata": {},
   "outputs": [
    {
     "data": {
      "text/html": [
       "<div>\n",
       "<style scoped>\n",
       "    .dataframe tbody tr th:only-of-type {\n",
       "        vertical-align: middle;\n",
       "    }\n",
       "\n",
       "    .dataframe tbody tr th {\n",
       "        vertical-align: top;\n",
       "    }\n",
       "\n",
       "    .dataframe thead th {\n",
       "        text-align: right;\n",
       "    }\n",
       "</style>\n",
       "<table border=\"1\" class=\"dataframe\">\n",
       "  <thead>\n",
       "    <tr style=\"text-align: right;\">\n",
       "      <th></th>\n",
       "      <th>Job_Id</th>\n",
       "      <th>Emp_Type</th>\n",
       "      <th>Job_Title</th>\n",
       "      <th>Company</th>\n",
       "      <th>Date_Posted</th>\n",
       "      <th>Salary_Range</th>\n",
       "      <th>Year_Experience</th>\n",
       "      <th>Seniority</th>\n",
       "      <th>Category</th>\n",
       "      <th>Requirements</th>\n",
       "    </tr>\n",
       "  </thead>\n",
       "  <tbody>\n",
       "    <tr>\n",
       "      <th>0</th>\n",
       "      <td>MCF-2020-0045240</td>\n",
       "      <td>Contract, Full Time</td>\n",
       "      <td>Scientist (Machine Intellection), I2R</td>\n",
       "      <td>A*STAR RESEARCH ENTITIES</td>\n",
       "      <td>Posted 27 Mar 2020</td>\n",
       "      <td>$4,500to$9,000</td>\n",
       "      <td></td>\n",
       "      <td>Professional</td>\n",
       "      <td>Sciences / Laboratory / R&amp;D</td>\n",
       "      <td>Developing, enhancing, automating, and mana...</td>\n",
       "    </tr>\n",
       "    <tr>\n",
       "      <th>1</th>\n",
       "      <td>MCF-2020-0045289</td>\n",
       "      <td>Contract, Full Time</td>\n",
       "      <td>Scientist (Machine Intellection), I2R</td>\n",
       "      <td>A*STAR RESEARCH ENTITIES</td>\n",
       "      <td>Posted 27 Mar 2020</td>\n",
       "      <td>$4,500to$9,000</td>\n",
       "      <td></td>\n",
       "      <td>Professional</td>\n",
       "      <td>Sciences / Laboratory / R&amp;D</td>\n",
       "      <td>Protein nodes discovering in cancer Biomark...</td>\n",
       "    </tr>\n",
       "  </tbody>\n",
       "</table>\n",
       "</div>"
      ],
      "text/plain": [
       "             Job_Id             Emp_Type  \\\n",
       "0  MCF-2020-0045240  Contract, Full Time   \n",
       "1  MCF-2020-0045289  Contract, Full Time   \n",
       "\n",
       "                               Job_Title                   Company  \\\n",
       "0  Scientist (Machine Intellection), I2R  A*STAR RESEARCH ENTITIES   \n",
       "1  Scientist (Machine Intellection), I2R  A*STAR RESEARCH ENTITIES   \n",
       "\n",
       "          Date_Posted    Salary_Range Year_Experience     Seniority  \\\n",
       "0  Posted 27 Mar 2020  $4,500to$9,000                  Professional   \n",
       "1  Posted 27 Mar 2020  $4,500to$9,000                  Professional   \n",
       "\n",
       "                      Category  \\\n",
       "0  Sciences / Laboratory / R&D   \n",
       "1  Sciences / Laboratory / R&D   \n",
       "\n",
       "                                        Requirements  \n",
       "0     Developing, enhancing, automating, and mana...  \n",
       "1     Protein nodes discovering in cancer Biomark...  "
      ]
     },
     "execution_count": 9,
     "metadata": {},
     "output_type": "execute_result"
    }
   ],
   "source": [
    "clean_list = \"(Ã¢Â€Â|Ã¢Â€Âœ|Ã¢Â€Â™|ïƒ¼ Â|ïƒ¨|ïƒ¼|Â Â Â Â Â|Â|â€“|â€™|â€œâ€|)\"\n",
    "job_clean['Requirements']=job_clean['Requirements'].str.replace(clean_list, \"\")\n",
    "job_clean.head(2)"
   ]
  },
  {
   "cell_type": "code",
   "execution_count": 10,
   "metadata": {},
   "outputs": [
    {
     "data": {
      "text/plain": [
       "(801, 10)"
      ]
     },
     "execution_count": 10,
     "metadata": {},
     "output_type": "execute_result"
    }
   ],
   "source": [
    "#remove job without title\n",
    "job_no_title = job_clean['Job_Title'] == ''\n",
    "job_clean = job_clean[~job_no_title]\n",
    "\n",
    "#remove row with Job_Title NaN\n",
    "job_clean[job_clean.isnull().any(axis=1)]\n",
    "job_clean = job_clean.dropna()\n",
    "job_clean.shape"
   ]
  },
  {
   "cell_type": "code",
   "execution_count": 11,
   "metadata": {},
   "outputs": [
    {
     "name": "stdout",
     "output_type": "stream",
     "text": [
      "with salary (775, 10)\n",
      "without salary (26, 10)\n"
     ]
    }
   ],
   "source": [
    "#remove row without salary\n",
    "no_salary = job_clean['Salary_Range'].str.contains('Salary undisclosed')\n",
    "\n",
    "df_salary = job_clean[~no_salary]\n",
    "print('with salary', df_salary.shape)\n",
    "df_no_salary = job_clean[no_salary]\n",
    "print('without salary', df_no_salary.shape)"
   ]
  },
  {
   "cell_type": "code",
   "execution_count": 12,
   "metadata": {},
   "outputs": [
    {
     "data": {
      "text/html": [
       "<div>\n",
       "<style scoped>\n",
       "    .dataframe tbody tr th:only-of-type {\n",
       "        vertical-align: middle;\n",
       "    }\n",
       "\n",
       "    .dataframe tbody tr th {\n",
       "        vertical-align: top;\n",
       "    }\n",
       "\n",
       "    .dataframe thead th {\n",
       "        text-align: right;\n",
       "    }\n",
       "</style>\n",
       "<table border=\"1\" class=\"dataframe\">\n",
       "  <thead>\n",
       "    <tr style=\"text-align: right;\">\n",
       "      <th></th>\n",
       "      <th>Min_Salary</th>\n",
       "      <th>Max_Salary</th>\n",
       "    </tr>\n",
       "  </thead>\n",
       "  <tbody>\n",
       "    <tr>\n",
       "      <th>0</th>\n",
       "      <td>4500.0</td>\n",
       "      <td>9000.0</td>\n",
       "    </tr>\n",
       "    <tr>\n",
       "      <th>1</th>\n",
       "      <td>4500.0</td>\n",
       "      <td>9000.0</td>\n",
       "    </tr>\n",
       "  </tbody>\n",
       "</table>\n",
       "</div>"
      ],
      "text/plain": [
       "   Min_Salary  Max_Salary\n",
       "0      4500.0      9000.0\n",
       "1      4500.0      9000.0"
      ]
     },
     "execution_count": 12,
     "metadata": {},
     "output_type": "execute_result"
    }
   ],
   "source": [
    "#extract salary columns due to contain multiple information\n",
    "salary_range = df_salary[\"Salary_Range\"].str.split(\"to\", n = 2, expand = True) \n",
    "\n",
    "#Give columns name to the dataframe\n",
    "salary_range = salary_range.rename({0:'Min_Salary',1:'Max_Salary'}, axis='columns')\n",
    "\n",
    "#removed $ and , from salary \n",
    "for col in salary_range.columns:\n",
    "    salary_range[col]=salary_range[col].str.replace('(\\$|,)', '')\n",
    "\n",
    "#convert from ojbect to float for statistical infomation\n",
    "salary_range['Min_Salary'] = salary_range['Min_Salary'].astype('float64')\n",
    "salary_range['Max_Salary'] = salary_range['Max_Salary'].astype('float64')\n",
    "\n",
    "salary_range.head(2)"
   ]
  },
  {
   "cell_type": "code",
   "execution_count": 13,
   "metadata": {},
   "outputs": [
    {
     "data": {
      "text/html": [
       "<div>\n",
       "<style scoped>\n",
       "    .dataframe tbody tr th:only-of-type {\n",
       "        vertical-align: middle;\n",
       "    }\n",
       "\n",
       "    .dataframe tbody tr th {\n",
       "        vertical-align: top;\n",
       "    }\n",
       "\n",
       "    .dataframe thead th {\n",
       "        text-align: right;\n",
       "    }\n",
       "</style>\n",
       "<table border=\"1\" class=\"dataframe\">\n",
       "  <thead>\n",
       "    <tr style=\"text-align: right;\">\n",
       "      <th></th>\n",
       "      <th>Job_Id</th>\n",
       "      <th>Emp_Type</th>\n",
       "      <th>Job_Title</th>\n",
       "      <th>Company</th>\n",
       "      <th>Date_Posted</th>\n",
       "      <th>Year_Experience</th>\n",
       "      <th>Seniority</th>\n",
       "      <th>Category</th>\n",
       "      <th>Requirements</th>\n",
       "      <th>Min_Salary</th>\n",
       "      <th>Max_Salary</th>\n",
       "    </tr>\n",
       "  </thead>\n",
       "  <tbody>\n",
       "    <tr>\n",
       "      <th>0</th>\n",
       "      <td>MCF-2020-0045240</td>\n",
       "      <td>Contract, Full Time</td>\n",
       "      <td>Scientist (Machine Intellection), I2R</td>\n",
       "      <td>A*STAR RESEARCH ENTITIES</td>\n",
       "      <td>Posted 27 Mar 2020</td>\n",
       "      <td></td>\n",
       "      <td>Professional</td>\n",
       "      <td>Sciences / Laboratory / R&amp;D</td>\n",
       "      <td>Developing, enhancing, automating, and mana...</td>\n",
       "      <td>4500.0</td>\n",
       "      <td>9000.0</td>\n",
       "    </tr>\n",
       "  </tbody>\n",
       "</table>\n",
       "</div>"
      ],
      "text/plain": [
       "             Job_Id             Emp_Type  \\\n",
       "0  MCF-2020-0045240  Contract, Full Time   \n",
       "\n",
       "                               Job_Title                   Company  \\\n",
       "0  Scientist (Machine Intellection), I2R  A*STAR RESEARCH ENTITIES   \n",
       "\n",
       "          Date_Posted Year_Experience     Seniority  \\\n",
       "0  Posted 27 Mar 2020                  Professional   \n",
       "\n",
       "                      Category  \\\n",
       "0  Sciences / Laboratory / R&D   \n",
       "\n",
       "                                        Requirements  Min_Salary  Max_Salary  \n",
       "0     Developing, enhancing, automating, and mana...      4500.0      9000.0  "
      ]
     },
     "execution_count": 13,
     "metadata": {},
     "output_type": "execute_result"
    }
   ],
   "source": [
    "#concat min_max salary dataframe with salary range dataframe\n",
    "df_salary1 = pd.concat([df_salary, salary_range], axis=1)\n",
    "df_salary1 = df_salary1.drop(columns='Salary_Range')\n",
    "df_salary1.head(1)"
   ]
  },
  {
   "cell_type": "code",
   "execution_count": 14,
   "metadata": {},
   "outputs": [
    {
     "data": {
      "text/html": [
       "<div>\n",
       "<style scoped>\n",
       "    .dataframe tbody tr th:only-of-type {\n",
       "        vertical-align: middle;\n",
       "    }\n",
       "\n",
       "    .dataframe tbody tr th {\n",
       "        vertical-align: top;\n",
       "    }\n",
       "\n",
       "    .dataframe thead th {\n",
       "        text-align: right;\n",
       "    }\n",
       "</style>\n",
       "<table border=\"1\" class=\"dataframe\">\n",
       "  <thead>\n",
       "    <tr style=\"text-align: right;\">\n",
       "      <th></th>\n",
       "      <th>Min_Salary</th>\n",
       "      <th>Max_Salary</th>\n",
       "    </tr>\n",
       "  </thead>\n",
       "  <tbody>\n",
       "    <tr>\n",
       "      <th>count</th>\n",
       "      <td>775.000000</td>\n",
       "      <td>775.000000</td>\n",
       "    </tr>\n",
       "    <tr>\n",
       "      <th>mean</th>\n",
       "      <td>5822.113548</td>\n",
       "      <td>9736.495484</td>\n",
       "    </tr>\n",
       "    <tr>\n",
       "      <th>std</th>\n",
       "      <td>5396.435909</td>\n",
       "      <td>7601.907104</td>\n",
       "    </tr>\n",
       "    <tr>\n",
       "      <th>min</th>\n",
       "      <td>4.000000</td>\n",
       "      <td>7.000000</td>\n",
       "    </tr>\n",
       "    <tr>\n",
       "      <th>25%</th>\n",
       "      <td>4000.000000</td>\n",
       "      <td>6500.000000</td>\n",
       "    </tr>\n",
       "    <tr>\n",
       "      <th>50%</th>\n",
       "      <td>5000.000000</td>\n",
       "      <td>9000.000000</td>\n",
       "    </tr>\n",
       "    <tr>\n",
       "      <th>75%</th>\n",
       "      <td>7000.000000</td>\n",
       "      <td>12000.000000</td>\n",
       "    </tr>\n",
       "    <tr>\n",
       "      <th>max</th>\n",
       "      <td>110000.000000</td>\n",
       "      <td>152000.000000</td>\n",
       "    </tr>\n",
       "  </tbody>\n",
       "</table>\n",
       "</div>"
      ],
      "text/plain": [
       "          Min_Salary     Max_Salary\n",
       "count     775.000000     775.000000\n",
       "mean     5822.113548    9736.495484\n",
       "std      5396.435909    7601.907104\n",
       "min         4.000000       7.000000\n",
       "25%      4000.000000    6500.000000\n",
       "50%      5000.000000    9000.000000\n",
       "75%      7000.000000   12000.000000\n",
       "max    110000.000000  152000.000000"
      ]
     },
     "execution_count": 14,
     "metadata": {},
     "output_type": "execute_result"
    }
   ],
   "source": [
    "#from the min and max value, extream outliers were observed\n",
    "df_salary1[['Min_Salary','Max_Salary']].describe()"
   ]
  },
  {
   "cell_type": "code",
   "execution_count": 15,
   "metadata": {},
   "outputs": [
    {
     "name": "stdout",
     "output_type": "stream",
     "text": [
      "97365.0\n",
      "58221.0\n"
     ]
    },
    {
     "data": {
      "text/html": [
       "<div>\n",
       "<style scoped>\n",
       "    .dataframe tbody tr th:only-of-type {\n",
       "        vertical-align: middle;\n",
       "    }\n",
       "\n",
       "    .dataframe tbody tr th {\n",
       "        vertical-align: top;\n",
       "    }\n",
       "\n",
       "    .dataframe thead th {\n",
       "        text-align: right;\n",
       "    }\n",
       "</style>\n",
       "<table border=\"1\" class=\"dataframe\">\n",
       "  <thead>\n",
       "    <tr style=\"text-align: right;\">\n",
       "      <th></th>\n",
       "      <th>Job_Id</th>\n",
       "      <th>Emp_Type</th>\n",
       "      <th>Job_Title</th>\n",
       "      <th>Company</th>\n",
       "      <th>Date_Posted</th>\n",
       "      <th>Year_Experience</th>\n",
       "      <th>Seniority</th>\n",
       "      <th>Category</th>\n",
       "      <th>Requirements</th>\n",
       "      <th>Min_Salary</th>\n",
       "      <th>Max_Salary</th>\n",
       "    </tr>\n",
       "  </thead>\n",
       "  <tbody>\n",
       "    <tr>\n",
       "      <th>125</th>\n",
       "      <td>MCF-2020-0063368</td>\n",
       "      <td>Full Time</td>\n",
       "      <td>Analytics Team Lead, Large Customers, South APAC</td>\n",
       "      <td>CRITEO SINGAPORE PTE. LTD.</td>\n",
       "      <td>Posted 13 Mar 2020</td>\n",
       "      <td>5 years  exp</td>\n",
       "      <td>Manager</td>\n",
       "      <td>Advertising / Media</td>\n",
       "      <td>Manage the operations of Analytics team (al...</td>\n",
       "      <td>91040.0</td>\n",
       "      <td>152000.0</td>\n",
       "    </tr>\n",
       "    <tr>\n",
       "      <th>819</th>\n",
       "      <td>MCF-2020-0067727</td>\n",
       "      <td>Permanent, Full Time</td>\n",
       "      <td>Quantitative Trader</td>\n",
       "      <td>ALPHAGREP PTE. LTD.</td>\n",
       "      <td>Posted 20 Mar 2020</td>\n",
       "      <td>1 year  exp</td>\n",
       "      <td>Middle Management</td>\n",
       "      <td>Others</td>\n",
       "      <td>A proven ability to develop new, profitable...</td>\n",
       "      <td>110000.0</td>\n",
       "      <td>120000.0</td>\n",
       "    </tr>\n",
       "  </tbody>\n",
       "</table>\n",
       "</div>"
      ],
      "text/plain": [
       "               Job_Id              Emp_Type  \\\n",
       "125  MCF-2020-0063368             Full Time   \n",
       "819  MCF-2020-0067727  Permanent, Full Time   \n",
       "\n",
       "                                            Job_Title  \\\n",
       "125  Analytics Team Lead, Large Customers, South APAC   \n",
       "819                               Quantitative Trader   \n",
       "\n",
       "                        Company         Date_Posted Year_Experience  \\\n",
       "125  CRITEO SINGAPORE PTE. LTD.  Posted 13 Mar 2020    5 years  exp   \n",
       "819         ALPHAGREP PTE. LTD.  Posted 20 Mar 2020     1 year  exp   \n",
       "\n",
       "             Seniority             Category  \\\n",
       "125            Manager  Advertising / Media   \n",
       "819  Middle Management               Others   \n",
       "\n",
       "                                          Requirements  Min_Salary  Max_Salary  \n",
       "125     Manage the operations of Analytics team (al...     91040.0    152000.0  \n",
       "819     A proven ability to develop new, profitable...    110000.0    120000.0  "
      ]
     },
     "execution_count": 15,
     "metadata": {},
     "output_type": "execute_result"
    }
   ],
   "source": [
    "#create a condition to check for high outliers\n",
    "abovemean_min = round(10*np.mean(df_salary1['Min_Salary']),0)\n",
    "abovemean_max = round(10*np.mean(df_salary1['Max_Salary']),0)\n",
    "print(abovemean_max)\n",
    "print(abovemean_min)\n",
    "\n",
    "#found salary which is 10 times higher than mean are actually Annual salary\n",
    "df_salary1[(df_salary1['Min_Salary'] > abovemean_min) | (df_salary1['Max_Salary'] > abovemean_max)]"
   ]
  },
  {
   "cell_type": "code",
   "execution_count": 16,
   "metadata": {},
   "outputs": [],
   "source": [
    "#convert yearly salary into monthly salary\n",
    "\n",
    "df_salary1['Min_Salary'] = np.where((df_salary1['Min_Salary'] > abovemean_min),\n",
    "                                    round((df_salary1['Min_Salary']/12),0), df_salary1['Min_Salary'])\n",
    "\n",
    "df_salary1['Max_Salary'] = np.where((df_salary1['Max_Salary'] > abovemean_min),\n",
    "                                    round((df_salary1['Max_Salary']/12),0), df_salary1['Max_Salary'])"
   ]
  },
  {
   "cell_type": "code",
   "execution_count": 17,
   "metadata": {},
   "outputs": [
    {
     "data": {
      "text/html": [
       "<div>\n",
       "<style scoped>\n",
       "    .dataframe tbody tr th:only-of-type {\n",
       "        vertical-align: middle;\n",
       "    }\n",
       "\n",
       "    .dataframe tbody tr th {\n",
       "        vertical-align: top;\n",
       "    }\n",
       "\n",
       "    .dataframe thead th {\n",
       "        text-align: right;\n",
       "    }\n",
       "</style>\n",
       "<table border=\"1\" class=\"dataframe\">\n",
       "  <thead>\n",
       "    <tr style=\"text-align: right;\">\n",
       "      <th></th>\n",
       "      <th>Job_Id</th>\n",
       "      <th>Emp_Type</th>\n",
       "      <th>Job_Title</th>\n",
       "      <th>Company</th>\n",
       "      <th>Date_Posted</th>\n",
       "      <th>Year_Experience</th>\n",
       "      <th>Seniority</th>\n",
       "      <th>Category</th>\n",
       "      <th>Requirements</th>\n",
       "      <th>Min_Salary</th>\n",
       "      <th>Max_Salary</th>\n",
       "    </tr>\n",
       "  </thead>\n",
       "  <tbody>\n",
       "  </tbody>\n",
       "</table>\n",
       "</div>"
      ],
      "text/plain": [
       "Empty DataFrame\n",
       "Columns: [Job_Id, Emp_Type, Job_Title, Company, Date_Posted, Year_Experience, Seniority, Category, Requirements, Min_Salary, Max_Salary]\n",
       "Index: []"
      ]
     },
     "execution_count": 17,
     "metadata": {},
     "output_type": "execute_result"
    }
   ],
   "source": [
    "#check unrealistic min and max monthly salary range (which is more than 10 times)\n",
    "df_salary1.loc[(df_salary1['Max_Salary']>10*df_salary1['Min_Salary'])]"
   ]
  },
  {
   "cell_type": "code",
   "execution_count": 18,
   "metadata": {},
   "outputs": [
    {
     "data": {
      "text/html": [
       "<div>\n",
       "<style scoped>\n",
       "    .dataframe tbody tr th:only-of-type {\n",
       "        vertical-align: middle;\n",
       "    }\n",
       "\n",
       "    .dataframe tbody tr th {\n",
       "        vertical-align: top;\n",
       "    }\n",
       "\n",
       "    .dataframe thead th {\n",
       "        text-align: right;\n",
       "    }\n",
       "</style>\n",
       "<table border=\"1\" class=\"dataframe\">\n",
       "  <thead>\n",
       "    <tr style=\"text-align: right;\">\n",
       "      <th></th>\n",
       "      <th>Job_Id</th>\n",
       "      <th>Emp_Type</th>\n",
       "      <th>Job_Title</th>\n",
       "      <th>Company</th>\n",
       "      <th>Date_Posted</th>\n",
       "      <th>Year_Experience</th>\n",
       "      <th>Seniority</th>\n",
       "      <th>Category</th>\n",
       "      <th>Requirements</th>\n",
       "      <th>Min_Salary</th>\n",
       "      <th>Max_Salary</th>\n",
       "    </tr>\n",
       "  </thead>\n",
       "  <tbody>\n",
       "    <tr>\n",
       "      <th>346</th>\n",
       "      <td>MCF-2020-0061417</td>\n",
       "      <td>Full Time</td>\n",
       "      <td>data scientist &amp; Python Developer</td>\n",
       "      <td>PLATINUM ANALYTICS SINGAPORE PTE. LTD.</td>\n",
       "      <td>Posted 12 Mar 2020</td>\n",
       "      <td>1 year  exp</td>\n",
       "      <td>Non-executive</td>\n",
       "      <td>Professional Services</td>\n",
       "      <td></td>\n",
       "      <td>4.0</td>\n",
       "      <td>7.0</td>\n",
       "    </tr>\n",
       "    <tr>\n",
       "      <th>642</th>\n",
       "      <td>MCF-2020-0072990</td>\n",
       "      <td>Internship</td>\n",
       "      <td>Junior Analyst Intern</td>\n",
       "      <td>XYPHER PTE. LTD.</td>\n",
       "      <td>Posted 27 Mar 2020</td>\n",
       "      <td>2 years  exp</td>\n",
       "      <td>Executive</td>\n",
       "      <td>Information Technology</td>\n",
       "      <td></td>\n",
       "      <td>1000.0</td>\n",
       "      <td>1200.0</td>\n",
       "    </tr>\n",
       "    <tr>\n",
       "      <th>768</th>\n",
       "      <td>MCF-2020-0069231</td>\n",
       "      <td>Contract</td>\n",
       "      <td>UX Designer</td>\n",
       "      <td>KNOWLEDGE NAVIGATOR PTE. LTD.</td>\n",
       "      <td>Posted 23 Mar 2020</td>\n",
       "      <td>1 year  exp</td>\n",
       "      <td>Non-executive</td>\n",
       "      <td>Design, Information Technology, Others</td>\n",
       "      <td>Build reusable libraries of interface artef...</td>\n",
       "      <td>1800.0</td>\n",
       "      <td>2500.0</td>\n",
       "    </tr>\n",
       "    <tr>\n",
       "      <th>882</th>\n",
       "      <td>MCF-2020-0065517</td>\n",
       "      <td>Full Time</td>\n",
       "      <td>Operations Associate</td>\n",
       "      <td>TAURUS ONE PRIVATE LIMITED</td>\n",
       "      <td>Posted 17 Mar 2020</td>\n",
       "      <td>1 year  exp</td>\n",
       "      <td>Fresh/entry level</td>\n",
       "      <td>Logistics / Supply Chain</td>\n",
       "      <td></td>\n",
       "      <td>1700.0</td>\n",
       "      <td>2200.0</td>\n",
       "    </tr>\n",
       "    <tr>\n",
       "      <th>948</th>\n",
       "      <td>MCF-2020-0066351</td>\n",
       "      <td>Contract, Part Time</td>\n",
       "      <td>Research Assistant (Law)</td>\n",
       "      <td>NANYANG TECHNOLOGICAL UNIVERSITY</td>\n",
       "      <td>Posted 18 Mar 2020</td>\n",
       "      <td>1 year  exp</td>\n",
       "      <td>Professional</td>\n",
       "      <td>Legal</td>\n",
       "      <td>Conduct the search for latest literature (i...</td>\n",
       "      <td>1500.0</td>\n",
       "      <td>2300.0</td>\n",
       "    </tr>\n",
       "    <tr>\n",
       "      <th>981</th>\n",
       "      <td>MCF-2020-0061567</td>\n",
       "      <td>Permanent</td>\n",
       "      <td>IT Specialist</td>\n",
       "      <td>LITE-ON SINGAPORE PTE. LTD.</td>\n",
       "      <td>Posted 12 Mar 2020</td>\n",
       "      <td>2 years  exp</td>\n",
       "      <td>Non-executive</td>\n",
       "      <td>Information Technology</td>\n",
       "      <td>Responsible for technical support for end u...</td>\n",
       "      <td>1800.0</td>\n",
       "      <td>2700.0</td>\n",
       "    </tr>\n",
       "    <tr>\n",
       "      <th>1027</th>\n",
       "      <td>MCF-2020-0056225</td>\n",
       "      <td>Full Time</td>\n",
       "      <td>Order Executive</td>\n",
       "      <td>STAFFONDEMAND PTE. LTD.</td>\n",
       "      <td>Posted 06 Mar 2020</td>\n",
       "      <td>2 years  exp</td>\n",
       "      <td>Non-executive</td>\n",
       "      <td>General Management, Sales / Retail</td>\n",
       "      <td>Handling of service provisioning responsibi...</td>\n",
       "      <td>1800.0</td>\n",
       "      <td>2200.0</td>\n",
       "    </tr>\n",
       "  </tbody>\n",
       "</table>\n",
       "</div>"
      ],
      "text/plain": [
       "                Job_Id             Emp_Type  \\\n",
       "346   MCF-2020-0061417            Full Time   \n",
       "642   MCF-2020-0072990           Internship   \n",
       "768   MCF-2020-0069231             Contract   \n",
       "882   MCF-2020-0065517            Full Time   \n",
       "948   MCF-2020-0066351  Contract, Part Time   \n",
       "981   MCF-2020-0061567            Permanent   \n",
       "1027  MCF-2020-0056225            Full Time   \n",
       "\n",
       "                              Job_Title  \\\n",
       "346   data scientist & Python Developer   \n",
       "642               Junior Analyst Intern   \n",
       "768                         UX Designer   \n",
       "882                Operations Associate   \n",
       "948            Research Assistant (Law)   \n",
       "981                       IT Specialist   \n",
       "1027                    Order Executive   \n",
       "\n",
       "                                     Company         Date_Posted  \\\n",
       "346   PLATINUM ANALYTICS SINGAPORE PTE. LTD.  Posted 12 Mar 2020   \n",
       "642                         XYPHER PTE. LTD.  Posted 27 Mar 2020   \n",
       "768            KNOWLEDGE NAVIGATOR PTE. LTD.  Posted 23 Mar 2020   \n",
       "882               TAURUS ONE PRIVATE LIMITED  Posted 17 Mar 2020   \n",
       "948         NANYANG TECHNOLOGICAL UNIVERSITY  Posted 18 Mar 2020   \n",
       "981              LITE-ON SINGAPORE PTE. LTD.  Posted 12 Mar 2020   \n",
       "1027                 STAFFONDEMAND PTE. LTD.  Posted 06 Mar 2020   \n",
       "\n",
       "     Year_Experience          Seniority  \\\n",
       "346      1 year  exp      Non-executive   \n",
       "642     2 years  exp          Executive   \n",
       "768      1 year  exp      Non-executive   \n",
       "882      1 year  exp  Fresh/entry level   \n",
       "948      1 year  exp       Professional   \n",
       "981     2 years  exp      Non-executive   \n",
       "1027    2 years  exp      Non-executive   \n",
       "\n",
       "                                    Category  \\\n",
       "346                    Professional Services   \n",
       "642                   Information Technology   \n",
       "768   Design, Information Technology, Others   \n",
       "882                 Logistics / Supply Chain   \n",
       "948                                    Legal   \n",
       "981                   Information Technology   \n",
       "1027      General Management, Sales / Retail   \n",
       "\n",
       "                                           Requirements  Min_Salary  \\\n",
       "346                                                             4.0   \n",
       "642                                                          1000.0   \n",
       "768      Build reusable libraries of interface artef...      1800.0   \n",
       "882                                                          1700.0   \n",
       "948      Conduct the search for latest literature (i...      1500.0   \n",
       "981      Responsible for technical support for end u...      1800.0   \n",
       "1027     Handling of service provisioning responsibi...      1800.0   \n",
       "\n",
       "      Max_Salary  \n",
       "346          7.0  \n",
       "642       1200.0  \n",
       "768       2500.0  \n",
       "882       2200.0  \n",
       "948       2300.0  \n",
       "981       2700.0  \n",
       "1027      2200.0  "
      ]
     },
     "execution_count": 18,
     "metadata": {},
     "output_type": "execute_result"
    }
   ],
   "source": [
    "#to drop job with max salary less than 2500, assuming data entry/admin/operator job\n",
    "\n",
    "df_salary1.loc[(df_salary1['Min_Salary']<=1800) | (df_salary1['Max_Salary']<=2000)]"
   ]
  },
  {
   "cell_type": "code",
   "execution_count": 19,
   "metadata": {},
   "outputs": [
    {
     "name": "stdout",
     "output_type": "stream",
     "text": [
      "(767, 11)\n"
     ]
    },
    {
     "data": {
      "text/html": [
       "<div>\n",
       "<style scoped>\n",
       "    .dataframe tbody tr th:only-of-type {\n",
       "        vertical-align: middle;\n",
       "    }\n",
       "\n",
       "    .dataframe tbody tr th {\n",
       "        vertical-align: top;\n",
       "    }\n",
       "\n",
       "    .dataframe thead th {\n",
       "        text-align: right;\n",
       "    }\n",
       "</style>\n",
       "<table border=\"1\" class=\"dataframe\">\n",
       "  <thead>\n",
       "    <tr style=\"text-align: right;\">\n",
       "      <th></th>\n",
       "      <th>Min_Salary</th>\n",
       "      <th>Max_Salary</th>\n",
       "    </tr>\n",
       "  </thead>\n",
       "  <tbody>\n",
       "    <tr>\n",
       "      <th>count</th>\n",
       "      <td>767.000000</td>\n",
       "      <td>767.000000</td>\n",
       "    </tr>\n",
       "    <tr>\n",
       "      <th>mean</th>\n",
       "      <td>5627.441982</td>\n",
       "      <td>9492.625815</td>\n",
       "    </tr>\n",
       "    <tr>\n",
       "      <th>std</th>\n",
       "      <td>2356.662769</td>\n",
       "      <td>3925.563351</td>\n",
       "    </tr>\n",
       "    <tr>\n",
       "      <th>min</th>\n",
       "      <td>2000.000000</td>\n",
       "      <td>2800.000000</td>\n",
       "    </tr>\n",
       "    <tr>\n",
       "      <th>25%</th>\n",
       "      <td>4000.000000</td>\n",
       "      <td>6500.000000</td>\n",
       "    </tr>\n",
       "    <tr>\n",
       "      <th>50%</th>\n",
       "      <td>5000.000000</td>\n",
       "      <td>9000.000000</td>\n",
       "    </tr>\n",
       "    <tr>\n",
       "      <th>75%</th>\n",
       "      <td>7000.000000</td>\n",
       "      <td>12000.000000</td>\n",
       "    </tr>\n",
       "    <tr>\n",
       "      <th>max</th>\n",
       "      <td>24000.000000</td>\n",
       "      <td>35000.000000</td>\n",
       "    </tr>\n",
       "  </tbody>\n",
       "</table>\n",
       "</div>"
      ],
      "text/plain": [
       "         Min_Salary    Max_Salary\n",
       "count    767.000000    767.000000\n",
       "mean    5627.441982   9492.625815\n",
       "std     2356.662769   3925.563351\n",
       "min     2000.000000   2800.000000\n",
       "25%     4000.000000   6500.000000\n",
       "50%     5000.000000   9000.000000\n",
       "75%     7000.000000  12000.000000\n",
       "max    24000.000000  35000.000000"
      ]
     },
     "execution_count": 19,
     "metadata": {},
     "output_type": "execute_result"
    }
   ],
   "source": [
    "#to drop job with max salary less than 2500, assuming data entry/admin/operator job\n",
    "low_sal = ((df_salary1['Min_Salary']<=1800) | (df_salary1['Max_Salary']<=2500))\n",
    "df_salary2 = df_salary1[~low_sal]\n",
    "\n",
    "print(df_salary2.shape)\n",
    "df_salary2.describe()"
   ]
  },
  {
   "cell_type": "code",
   "execution_count": 20,
   "metadata": {},
   "outputs": [
    {
     "data": {
      "text/plain": [
       "(767, 11)"
      ]
     },
     "execution_count": 20,
     "metadata": {},
     "output_type": "execute_result"
    }
   ],
   "source": [
    "#further remove job with same data from all columns\n",
    "job_df = df_salary2.drop_duplicates(subset=df_salary2.columns, keep='first')\n",
    "job_df.shape"
   ]
  },
  {
   "cell_type": "code",
   "execution_count": 21,
   "metadata": {},
   "outputs": [
    {
     "data": {
      "text/plain": [
       "(703, 11)"
      ]
     },
     "execution_count": 21,
     "metadata": {},
     "output_type": "execute_result"
    }
   ],
   "source": [
    "#further filter on job title with specific keywords\n",
    "title_key = ['DATA', 'MACHINE','ANALYST','MACHINE LEARNING','ANALYTICS', \"SCIENCE\", '4.0','APPLICATION'\n",
    "             'DEEP LEARNING','RESEARCH','NLP', 'ARTIFICIAL', \"INTELLIGENT\", 'AI', 'SCIENTIST','SYSTEM'\n",
    "             'Industry', 'IOT', 'FINANCE', 'FINTECH', 'SOFTWARE', 'ENGINEER', 'ENGINEERING','PROFESSOR'\n",
    "             'BUSINESS', 'DEVELOPER', 'INDUSTRIAL','AUTOMATION', 'CLOUD','SOLUTION','ARCHITECT',\n",
    "             'MANAGER','VP','PRESIDENT', 'TECHNOLOGY', 'SPECIALIST', 'TECHNICAL','LEAD','TECHNOLOGIST']\n",
    "key = '|'.join(title_key)\n",
    "data_job = job_df['Job_Title'].str.upper().str.contains(key)\n",
    "job_df1 = job_df[data_job]\n",
    "job_df1.shape"
   ]
  },
  {
   "cell_type": "code",
   "execution_count": 22,
   "metadata": {},
   "outputs": [
    {
     "data": {
      "text/plain": [
       "(637, 11)"
      ]
     },
     "execution_count": 22,
     "metadata": {},
     "output_type": "execute_result"
    }
   ],
   "source": [
    "#remove job title with unwanted keywords\n",
    "title_key = ['PHYSIOTHERAPIST','ACCOUNT','AUDIT','COUNSEL','EXECUTIVE','SALES','GENERAL','MARKET','ELECTRICAL',\n",
    "             'BUSINESS','ADMIN','CUSTOMER','OFFICER','OPERATION', 'MECHANICAL','CHEMICAL','COORDINATOR','LECTURER',\n",
    "             'TECHNICIAN']\n",
    "key = '|'.join(title_key)\n",
    "non_data_job = job_df['Job_Title'].str.upper().str.contains(key)\n",
    "job_df1 = job_df[~non_data_job]\n",
    "job_df1.shape"
   ]
  },
  {
   "cell_type": "code",
   "execution_count": 23,
   "metadata": {},
   "outputs": [
    {
     "data": {
      "text/plain": [
       "<matplotlib.axes._subplots.AxesSubplot at 0x1a2655fad0>"
      ]
     },
     "execution_count": 23,
     "metadata": {},
     "output_type": "execute_result"
    },
    {
     "data": {
      "image/png": "[encoded data removed]",
      "text/plain": [
       "<Figure size 864x360 with 2 Axes>"
      ]
     },
     "metadata": {
      "image/png": {
       "height": 314,
       "width": 766
      },
      "needs_background": "light"
     },
     "output_type": "display_data"
    }
   ],
   "source": [
    "fig, ax =plt.subplots(nrows=1, ncols=2, figsize=(12,5))\n",
    "sns.boxplot(job_df1['Max_Salary'], ax=ax[0])\n",
    "sns.distplot(job_df1['Max_Salary'],bins=15, ax=ax[1])"
   ]
  },
  {
   "cell_type": "markdown",
   "metadata": {},
   "source": [
    "After few extream outliers were removed, median for sal_max is around $7500 but there are still few job with very high monthly salary"
   ]
  },
  {
   "cell_type": "code",
   "execution_count": 24,
   "metadata": {},
   "outputs": [
    {
     "data": {
      "text/html": [
       "<div>\n",
       "<style scoped>\n",
       "    .dataframe tbody tr th:only-of-type {\n",
       "        vertical-align: middle;\n",
       "    }\n",
       "\n",
       "    .dataframe tbody tr th {\n",
       "        vertical-align: top;\n",
       "    }\n",
       "\n",
       "    .dataframe thead th {\n",
       "        text-align: right;\n",
       "    }\n",
       "</style>\n",
       "<table border=\"1\" class=\"dataframe\">\n",
       "  <thead>\n",
       "    <tr style=\"text-align: right;\">\n",
       "      <th></th>\n",
       "      <th></th>\n",
       "      <th>Job_Id</th>\n",
       "      <th>Emp_Type</th>\n",
       "      <th>Job_Title</th>\n",
       "      <th>Date_Posted</th>\n",
       "      <th>Year_Experience</th>\n",
       "      <th>Category</th>\n",
       "      <th>Requirements</th>\n",
       "      <th>Min_Salary</th>\n",
       "      <th>Max_Salary</th>\n",
       "    </tr>\n",
       "    <tr>\n",
       "      <th>Company</th>\n",
       "      <th>Seniority</th>\n",
       "      <th></th>\n",
       "      <th></th>\n",
       "      <th></th>\n",
       "      <th></th>\n",
       "      <th></th>\n",
       "      <th></th>\n",
       "      <th></th>\n",
       "      <th></th>\n",
       "      <th></th>\n",
       "    </tr>\n",
       "  </thead>\n",
       "  <tbody>\n",
       "    <tr>\n",
       "      <th>AMAZON WEB SERVICES SINGAPORE PRIVATE LIMITED</th>\n",
       "      <th>Professional</th>\n",
       "      <td>1</td>\n",
       "      <td>1</td>\n",
       "      <td>1</td>\n",
       "      <td>1</td>\n",
       "      <td>1</td>\n",
       "      <td>1</td>\n",
       "      <td>1</td>\n",
       "      <td>1</td>\n",
       "      <td>1</td>\n",
       "    </tr>\n",
       "    <tr>\n",
       "      <th>GO-JEK SINGAPORE PTE. LTD.</th>\n",
       "      <th>Senior Management</th>\n",
       "      <td>1</td>\n",
       "      <td>1</td>\n",
       "      <td>1</td>\n",
       "      <td>1</td>\n",
       "      <td>1</td>\n",
       "      <td>1</td>\n",
       "      <td>1</td>\n",
       "      <td>1</td>\n",
       "      <td>1</td>\n",
       "    </tr>\n",
       "    <tr>\n",
       "      <th>STANDARD CHARTERED BANK (SINGAPORE) LIMITED</th>\n",
       "      <th>Middle Management</th>\n",
       "      <td>1</td>\n",
       "      <td>1</td>\n",
       "      <td>1</td>\n",
       "      <td>1</td>\n",
       "      <td>1</td>\n",
       "      <td>1</td>\n",
       "      <td>1</td>\n",
       "      <td>1</td>\n",
       "      <td>1</td>\n",
       "    </tr>\n",
       "    <tr>\n",
       "      <th>ZEBRA TECHNOLOGIES ASIA PACIFIC PTE. LTD.</th>\n",
       "      <th>Senior Management</th>\n",
       "      <td>1</td>\n",
       "      <td>1</td>\n",
       "      <td>1</td>\n",
       "      <td>1</td>\n",
       "      <td>1</td>\n",
       "      <td>1</td>\n",
       "      <td>1</td>\n",
       "      <td>1</td>\n",
       "      <td>1</td>\n",
       "    </tr>\n",
       "  </tbody>\n",
       "</table>\n",
       "</div>"
      ],
      "text/plain": [
       "                                                                 Job_Id  \\\n",
       "Company                                       Seniority                   \n",
       "AMAZON WEB SERVICES SINGAPORE PRIVATE LIMITED Professional            1   \n",
       "GO-JEK SINGAPORE PTE. LTD.                    Senior Management       1   \n",
       "STANDARD CHARTERED BANK (SINGAPORE) LIMITED   Middle Management       1   \n",
       "ZEBRA TECHNOLOGIES ASIA PACIFIC PTE. LTD.     Senior Management       1   \n",
       "\n",
       "                                                                 Emp_Type  \\\n",
       "Company                                       Seniority                     \n",
       "AMAZON WEB SERVICES SINGAPORE PRIVATE LIMITED Professional              1   \n",
       "GO-JEK SINGAPORE PTE. LTD.                    Senior Management         1   \n",
       "STANDARD CHARTERED BANK (SINGAPORE) LIMITED   Middle Management         1   \n",
       "ZEBRA TECHNOLOGIES ASIA PACIFIC PTE. LTD.     Senior Management         1   \n",
       "\n",
       "                                                                 Job_Title  \\\n",
       "Company                                       Seniority                      \n",
       "AMAZON WEB SERVICES SINGAPORE PRIVATE LIMITED Professional               1   \n",
       "GO-JEK SINGAPORE PTE. LTD.                    Senior Management          1   \n",
       "STANDARD CHARTERED BANK (SINGAPORE) LIMITED   Middle Management          1   \n",
       "ZEBRA TECHNOLOGIES ASIA PACIFIC PTE. LTD.     Senior Management          1   \n",
       "\n",
       "                                                                 Date_Posted  \\\n",
       "Company                                       Seniority                        \n",
       "AMAZON WEB SERVICES SINGAPORE PRIVATE LIMITED Professional                 1   \n",
       "GO-JEK SINGAPORE PTE. LTD.                    Senior Management            1   \n",
       "STANDARD CHARTERED BANK (SINGAPORE) LIMITED   Middle Management            1   \n",
       "ZEBRA TECHNOLOGIES ASIA PACIFIC PTE. LTD.     Senior Management            1   \n",
       "\n",
       "                                                                 Year_Experience  \\\n",
       "Company                                       Seniority                            \n",
       "AMAZON WEB SERVICES SINGAPORE PRIVATE LIMITED Professional                     1   \n",
       "GO-JEK SINGAPORE PTE. LTD.                    Senior Management                1   \n",
       "STANDARD CHARTERED BANK (SINGAPORE) LIMITED   Middle Management                1   \n",
       "ZEBRA TECHNOLOGIES ASIA PACIFIC PTE. LTD.     Senior Management                1   \n",
       "\n",
       "                                                                 Category  \\\n",
       "Company                                       Seniority                     \n",
       "AMAZON WEB SERVICES SINGAPORE PRIVATE LIMITED Professional              1   \n",
       "GO-JEK SINGAPORE PTE. LTD.                    Senior Management         1   \n",
       "STANDARD CHARTERED BANK (SINGAPORE) LIMITED   Middle Management         1   \n",
       "ZEBRA TECHNOLOGIES ASIA PACIFIC PTE. LTD.     Senior Management         1   \n",
       "\n",
       "                                                                 Requirements  \\\n",
       "Company                                       Seniority                         \n",
       "AMAZON WEB SERVICES SINGAPORE PRIVATE LIMITED Professional                  1   \n",
       "GO-JEK SINGAPORE PTE. LTD.                    Senior Management             1   \n",
       "STANDARD CHARTERED BANK (SINGAPORE) LIMITED   Middle Management             1   \n",
       "ZEBRA TECHNOLOGIES ASIA PACIFIC PTE. LTD.     Senior Management             1   \n",
       "\n",
       "                                                                 Min_Salary  \\\n",
       "Company                                       Seniority                       \n",
       "AMAZON WEB SERVICES SINGAPORE PRIVATE LIMITED Professional                1   \n",
       "GO-JEK SINGAPORE PTE. LTD.                    Senior Management           1   \n",
       "STANDARD CHARTERED BANK (SINGAPORE) LIMITED   Middle Management           1   \n",
       "ZEBRA TECHNOLOGIES ASIA PACIFIC PTE. LTD.     Senior Management           1   \n",
       "\n",
       "                                                                 Max_Salary  \n",
       "Company                                       Seniority                      \n",
       "AMAZON WEB SERVICES SINGAPORE PRIVATE LIMITED Professional                1  \n",
       "GO-JEK SINGAPORE PTE. LTD.                    Senior Management           1  \n",
       "STANDARD CHARTERED BANK (SINGAPORE) LIMITED   Middle Management           1  \n",
       "ZEBRA TECHNOLOGIES ASIA PACIFIC PTE. LTD.     Senior Management           1  "
      ]
     },
     "execution_count": 24,
     "metadata": {},
     "output_type": "execute_result"
    }
   ],
   "source": [
    "job_df1[job_df1['Max_Salary']>20000].groupby(['Company', 'Seniority']).count()"
   ]
  },
  {
   "cell_type": "code",
   "execution_count": 25,
   "metadata": {},
   "outputs": [
    {
     "name": "stdout",
     "output_type": "stream",
     "text": [
      "(637, 12)\n"
     ]
    },
    {
     "data": {
      "text/plain": [
       "count      637.000000\n",
       "mean      7542.431711\n",
       "std       2780.238389\n",
       "min       3000.000000\n",
       "25%       5500.000000\n",
       "50%       6750.000000\n",
       "75%       9000.000000\n",
       "max      20000.000000\n",
       "Name: Avg_Salary, dtype: float64"
      ]
     },
     "execution_count": 25,
     "metadata": {},
     "output_type": "execute_result"
    }
   ],
   "source": [
    "#create new feature for average salary\n",
    "job_df1['Avg_Salary'] = (job_df1['Min_Salary'] + job_df1['Max_Salary']) / 2\n",
    "print(job_df1.shape)\n",
    "job_df1['Avg_Salary'].describe()"
   ]
  },
  {
   "cell_type": "code",
   "execution_count": 26,
   "metadata": {},
   "outputs": [
    {
     "data": {
      "text/plain": [
       "(637, 12)"
      ]
     },
     "execution_count": 26,
     "metadata": {},
     "output_type": "execute_result"
    }
   ],
   "source": [
    "salary_outlier = ((job_df1['Avg_Salary']>20000) | (job_df1['Avg_Salary']<3000))\n",
    "job_df1 = job_df1[~salary_outlier]\n",
    "job_df1.shape"
   ]
  },
  {
   "cell_type": "code",
   "execution_count": 27,
   "metadata": {},
   "outputs": [
    {
     "data": {
      "text/plain": [
       "<matplotlib.axes._subplots.AxesSubplot at 0x110b7f0d0>"
      ]
     },
     "execution_count": 27,
     "metadata": {},
     "output_type": "execute_result"
    },
    {
     "data": {
      "image/png": "[encoded data removed]",
      "text/plain": [
       "<Figure size 864x360 with 2 Axes>"
      ]
     },
     "metadata": {
      "image/png": {
       "height": 314,
       "width": 770
      },
      "needs_background": "light"
     },
     "output_type": "display_data"
    }
   ],
   "source": [
    "fig, ax =plt.subplots(nrows=1, ncols=2, figsize=(12,5))\n",
    "sns.boxplot(job_df1['Avg_Salary'], ax=ax[0])\n",
    "sns.distplot(job_df1['Avg_Salary'],bins=15, ax=ax[1])"
   ]
  },
  {
   "cell_type": "markdown",
   "metadata": {},
   "source": [
    "Average monthly salary column was created for labeling purpose for next step. The mean value around 7500 for the average salary and median at 6750, which in Singapore is consider as high pay.\n",
    "Next label was created for high and low salary according to median salary."
   ]
  },
  {
   "cell_type": "code",
   "execution_count": 28,
   "metadata": {},
   "outputs": [
    {
     "data": {
      "text/html": [
       "<div>\n",
       "<style scoped>\n",
       "    .dataframe tbody tr th:only-of-type {\n",
       "        vertical-align: middle;\n",
       "    }\n",
       "\n",
       "    .dataframe tbody tr th {\n",
       "        vertical-align: top;\n",
       "    }\n",
       "\n",
       "    .dataframe thead th {\n",
       "        text-align: right;\n",
       "    }\n",
       "</style>\n",
       "<table border=\"1\" class=\"dataframe\">\n",
       "  <thead>\n",
       "    <tr style=\"text-align: right;\">\n",
       "      <th></th>\n",
       "      <th>Job_Id</th>\n",
       "      <th>Emp_Type</th>\n",
       "      <th>Job_Title</th>\n",
       "      <th>Company</th>\n",
       "      <th>Date_Posted</th>\n",
       "      <th>Year_Experience</th>\n",
       "      <th>Seniority</th>\n",
       "      <th>Category</th>\n",
       "      <th>Requirements</th>\n",
       "      <th>Min_Salary</th>\n",
       "      <th>Max_Salary</th>\n",
       "      <th>Avg_Salary</th>\n",
       "      <th>Salary_range</th>\n",
       "    </tr>\n",
       "  </thead>\n",
       "  <tbody>\n",
       "    <tr>\n",
       "      <th>0</th>\n",
       "      <td>MCF-2020-0045240</td>\n",
       "      <td>Contract, Full Time</td>\n",
       "      <td>Scientist (Machine Intellection), I2R</td>\n",
       "      <td>A*STAR RESEARCH ENTITIES</td>\n",
       "      <td>Posted 27 Mar 2020</td>\n",
       "      <td></td>\n",
       "      <td>Professional</td>\n",
       "      <td>Sciences / Laboratory / R&amp;D</td>\n",
       "      <td>Developing, enhancing, automating, and mana...</td>\n",
       "      <td>4500.0</td>\n",
       "      <td>9000.0</td>\n",
       "      <td>6750.0</td>\n",
       "      <td>Med</td>\n",
       "    </tr>\n",
       "    <tr>\n",
       "      <th>1</th>\n",
       "      <td>MCF-2020-0045289</td>\n",
       "      <td>Contract, Full Time</td>\n",
       "      <td>Scientist (Machine Intellection), I2R</td>\n",
       "      <td>A*STAR RESEARCH ENTITIES</td>\n",
       "      <td>Posted 27 Mar 2020</td>\n",
       "      <td></td>\n",
       "      <td>Professional</td>\n",
       "      <td>Sciences / Laboratory / R&amp;D</td>\n",
       "      <td>Protein nodes discovering in cancer Biomark...</td>\n",
       "      <td>4500.0</td>\n",
       "      <td>9000.0</td>\n",
       "      <td>6750.0</td>\n",
       "      <td>Med</td>\n",
       "    </tr>\n",
       "    <tr>\n",
       "      <th>2</th>\n",
       "      <td>MCF-2020-0045282</td>\n",
       "      <td>Contract, Full Time</td>\n",
       "      <td>Scientist (Machine Intellection), I2R</td>\n",
       "      <td>A*STAR RESEARCH ENTITIES</td>\n",
       "      <td>Posted 27 Mar 2020</td>\n",
       "      <td></td>\n",
       "      <td>Professional</td>\n",
       "      <td>Sciences / Laboratory / R&amp;D</td>\n",
       "      <td>Protein nodes discovering in cancer Biomark...</td>\n",
       "      <td>4500.0</td>\n",
       "      <td>9000.0</td>\n",
       "      <td>6750.0</td>\n",
       "      <td>Med</td>\n",
       "    </tr>\n",
       "    <tr>\n",
       "      <th>3</th>\n",
       "      <td>MCF-2020-0072490</td>\n",
       "      <td>Permanent</td>\n",
       "      <td>Data Science Experimentation Specialist, Apple...</td>\n",
       "      <td>APPLE SOUTH ASIA PTE. LTD.</td>\n",
       "      <td>Posted 26 Mar 2020</td>\n",
       "      <td>10 years  exp</td>\n",
       "      <td>Executive</td>\n",
       "      <td>Engineering</td>\n",
       "      <td></td>\n",
       "      <td>8000.0</td>\n",
       "      <td>16000.0</td>\n",
       "      <td>12000.0</td>\n",
       "      <td>High</td>\n",
       "    </tr>\n",
       "    <tr>\n",
       "      <th>4</th>\n",
       "      <td>MCF-2020-0072489</td>\n",
       "      <td>Permanent</td>\n",
       "      <td>Data Science Experimentation Specialist, Apple...</td>\n",
       "      <td>APPLE SOUTH ASIA PTE. LTD.</td>\n",
       "      <td>Posted 26 Mar 2020</td>\n",
       "      <td>5 years  exp</td>\n",
       "      <td>Executive</td>\n",
       "      <td>Engineering</td>\n",
       "      <td></td>\n",
       "      <td>6000.0</td>\n",
       "      <td>11000.0</td>\n",
       "      <td>8500.0</td>\n",
       "      <td>High</td>\n",
       "    </tr>\n",
       "  </tbody>\n",
       "</table>\n",
       "</div>"
      ],
      "text/plain": [
       "             Job_Id             Emp_Type  \\\n",
       "0  MCF-2020-0045240  Contract, Full Time   \n",
       "1  MCF-2020-0045289  Contract, Full Time   \n",
       "2  MCF-2020-0045282  Contract, Full Time   \n",
       "3  MCF-2020-0072490            Permanent   \n",
       "4  MCF-2020-0072489            Permanent   \n",
       "\n",
       "                                           Job_Title  \\\n",
       "0              Scientist (Machine Intellection), I2R   \n",
       "1              Scientist (Machine Intellection), I2R   \n",
       "2              Scientist (Machine Intellection), I2R   \n",
       "3  Data Science Experimentation Specialist, Apple...   \n",
       "4  Data Science Experimentation Specialist, Apple...   \n",
       "\n",
       "                      Company         Date_Posted Year_Experience  \\\n",
       "0    A*STAR RESEARCH ENTITIES  Posted 27 Mar 2020                   \n",
       "1    A*STAR RESEARCH ENTITIES  Posted 27 Mar 2020                   \n",
       "2    A*STAR RESEARCH ENTITIES  Posted 27 Mar 2020                   \n",
       "3  APPLE SOUTH ASIA PTE. LTD.  Posted 26 Mar 2020   10 years  exp   \n",
       "4  APPLE SOUTH ASIA PTE. LTD.  Posted 26 Mar 2020    5 years  exp   \n",
       "\n",
       "      Seniority                     Category  \\\n",
       "0  Professional  Sciences / Laboratory / R&D   \n",
       "1  Professional  Sciences / Laboratory / R&D   \n",
       "2  Professional  Sciences / Laboratory / R&D   \n",
       "3     Executive                  Engineering   \n",
       "4     Executive                  Engineering   \n",
       "\n",
       "                                        Requirements  Min_Salary  Max_Salary  \\\n",
       "0     Developing, enhancing, automating, and mana...      4500.0      9000.0   \n",
       "1     Protein nodes discovering in cancer Biomark...      4500.0      9000.0   \n",
       "2     Protein nodes discovering in cancer Biomark...      4500.0      9000.0   \n",
       "3                                                         8000.0     16000.0   \n",
       "4                                                         6000.0     11000.0   \n",
       "\n",
       "   Avg_Salary Salary_range  \n",
       "0      6750.0          Med  \n",
       "1      6750.0          Med  \n",
       "2      6750.0          Med  \n",
       "3     12000.0         High  \n",
       "4      8500.0         High  "
      ]
     },
     "execution_count": 28,
     "metadata": {},
     "output_type": "execute_result"
    }
   ],
   "source": [
    "#bin salary into 4 groups:\n",
    "#3000 to 5500 - Low\n",
    "#5500 to 8000 - Med\n",
    "#8000 and above - High\n",
    "\n",
    "bins = [3000, 5500, 8000, np.inf]\n",
    "names = ['Low', 'Med', 'High']\n",
    "\n",
    "job_df1['Salary_range'] = pd.cut(job_df1['Avg_Salary'], bins, labels=names)\n",
    "job_df1 = job_df1.reset_index(drop=True)\n",
    "job_df1.head()"
   ]
  },
  {
   "cell_type": "code",
   "execution_count": 29,
   "metadata": {},
   "outputs": [
    {
     "data": {
      "text/plain": [
       "Med     250\n",
       "High    227\n",
       "Low     159\n",
       "Name: Salary_range, dtype: int64"
      ]
     },
     "execution_count": 29,
     "metadata": {},
     "output_type": "execute_result"
    }
   ],
   "source": [
    "job_df1['Salary_range'].value_counts()"
   ]
  },
  {
   "cell_type": "code",
   "execution_count": 30,
   "metadata": {},
   "outputs": [
    {
     "data": {
      "text/html": [
       "<div>\n",
       "<style scoped>\n",
       "    .dataframe tbody tr th:only-of-type {\n",
       "        vertical-align: middle;\n",
       "    }\n",
       "\n",
       "    .dataframe tbody tr th {\n",
       "        vertical-align: top;\n",
       "    }\n",
       "\n",
       "    .dataframe thead th {\n",
       "        text-align: right;\n",
       "    }\n",
       "</style>\n",
       "<table border=\"1\" class=\"dataframe\">\n",
       "  <thead>\n",
       "    <tr style=\"text-align: right;\">\n",
       "      <th></th>\n",
       "      <th>Job_Id</th>\n",
       "      <th>Emp_Type</th>\n",
       "      <th>Job_Title</th>\n",
       "      <th>Company</th>\n",
       "      <th>Date_Posted</th>\n",
       "      <th>Year_Experience</th>\n",
       "      <th>Seniority</th>\n",
       "      <th>Category</th>\n",
       "      <th>Requirements</th>\n",
       "      <th>Min_Salary</th>\n",
       "      <th>Max_Salary</th>\n",
       "      <th>Avg_Salary</th>\n",
       "      <th>Salary_range</th>\n",
       "    </tr>\n",
       "  </thead>\n",
       "  <tbody>\n",
       "    <tr>\n",
       "      <th>92</th>\n",
       "      <td>MCF-2020-0063470</td>\n",
       "      <td>Full Time</td>\n",
       "      <td>User Research Lead</td>\n",
       "      <td>STAFFONDEMAND PTE. LTD.</td>\n",
       "      <td>Posted 13 Mar 2020</td>\n",
       "      <td>7 years  exp</td>\n",
       "      <td>Manager, Executive</td>\n",
       "      <td>Marketing / Public Relations</td>\n",
       "      <td>Both a Lead and a Practitioner - Lead a tea...</td>\n",
       "      <td>6000.0</td>\n",
       "      <td>12000.0</td>\n",
       "      <td>9000.0</td>\n",
       "      <td>High</td>\n",
       "    </tr>\n",
       "    <tr>\n",
       "      <th>175</th>\n",
       "      <td>MCF-2020-0049715</td>\n",
       "      <td>Contract, Freelance</td>\n",
       "      <td>Associate Trainer â ICT</td>\n",
       "      <td>STAFFONDEMAND PTE. LTD.</td>\n",
       "      <td>Posted 28 Feb 2020</td>\n",
       "      <td>5 years  exp</td>\n",
       "      <td>Manager, Executive</td>\n",
       "      <td>Education and Training</td>\n",
       "      <td>Conduct ICT vendor-based training as per SS...</td>\n",
       "      <td>3000.0</td>\n",
       "      <td>5000.0</td>\n",
       "      <td>4000.0</td>\n",
       "      <td>Low</td>\n",
       "    </tr>\n",
       "    <tr>\n",
       "      <th>391</th>\n",
       "      <td>MCF-2020-0049706</td>\n",
       "      <td>Contract, Freelance</td>\n",
       "      <td>Associate Trainer â Microsoft Technical Courses</td>\n",
       "      <td>STAFFONDEMAND PTE. LTD.</td>\n",
       "      <td>Posted 28 Feb 2020</td>\n",
       "      <td>5 years  exp</td>\n",
       "      <td>Manager, Executive</td>\n",
       "      <td>Education and Training</td>\n",
       "      <td>Deliver classroom training and conduct comp...</td>\n",
       "      <td>3000.0</td>\n",
       "      <td>5000.0</td>\n",
       "      <td>4000.0</td>\n",
       "      <td>Low</td>\n",
       "    </tr>\n",
       "    <tr>\n",
       "      <th>624</th>\n",
       "      <td>MCF-2020-0052814</td>\n",
       "      <td>Full Time</td>\n",
       "      <td>Group Product Manager â Mobile Application a...</td>\n",
       "      <td>STAFFONDEMAND PTE. LTD.</td>\n",
       "      <td>Posted 03 Mar 2020</td>\n",
       "      <td>10 years  exp</td>\n",
       "      <td>Middle Management, Manager</td>\n",
       "      <td>Marketing / Public Relations, Sales / Retail</td>\n",
       "      <td>Taking full responsibility for the Strategy...</td>\n",
       "      <td>9000.0</td>\n",
       "      <td>14000.0</td>\n",
       "      <td>11500.0</td>\n",
       "      <td>High</td>\n",
       "    </tr>\n",
       "  </tbody>\n",
       "</table>\n",
       "</div>"
      ],
      "text/plain": [
       "               Job_Id             Emp_Type  \\\n",
       "92   MCF-2020-0063470            Full Time   \n",
       "175  MCF-2020-0049715  Contract, Freelance   \n",
       "391  MCF-2020-0049706  Contract, Freelance   \n",
       "624  MCF-2020-0052814            Full Time   \n",
       "\n",
       "                                             Job_Title  \\\n",
       "92                                  User Research Lead   \n",
       "175                          Associate Trainer â ICT   \n",
       "391  Associate Trainer â Microsoft Technical Courses   \n",
       "624  Group Product Manager â Mobile Application a...   \n",
       "\n",
       "                     Company         Date_Posted Year_Experience  \\\n",
       "92   STAFFONDEMAND PTE. LTD.  Posted 13 Mar 2020    7 years  exp   \n",
       "175  STAFFONDEMAND PTE. LTD.  Posted 28 Feb 2020    5 years  exp   \n",
       "391  STAFFONDEMAND PTE. LTD.  Posted 28 Feb 2020    5 years  exp   \n",
       "624  STAFFONDEMAND PTE. LTD.  Posted 03 Mar 2020   10 years  exp   \n",
       "\n",
       "                      Seniority                                      Category  \\\n",
       "92           Manager, Executive                  Marketing / Public Relations   \n",
       "175          Manager, Executive                        Education and Training   \n",
       "391          Manager, Executive                        Education and Training   \n",
       "624  Middle Management, Manager  Marketing / Public Relations, Sales / Retail   \n",
       "\n",
       "                                          Requirements  Min_Salary  \\\n",
       "92      Both a Lead and a Practitioner - Lead a tea...      6000.0   \n",
       "175     Conduct ICT vendor-based training as per SS...      3000.0   \n",
       "391     Deliver classroom training and conduct comp...      3000.0   \n",
       "624     Taking full responsibility for the Strategy...      9000.0   \n",
       "\n",
       "     Max_Salary  Avg_Salary Salary_range  \n",
       "92      12000.0      9000.0         High  \n",
       "175      5000.0      4000.0          Low  \n",
       "391      5000.0      4000.0          Low  \n",
       "624     14000.0     11500.0         High  "
      ]
     },
     "execution_count": 30,
     "metadata": {},
     "output_type": "execute_result"
    }
   ],
   "source": [
    "#check seniority with multiple rank\n",
    "job_df1[job_df1['Seniority'].str.count(',')>=1].head()"
   ]
  },
  {
   "cell_type": "code",
   "execution_count": 31,
   "metadata": {},
   "outputs": [
    {
     "data": {
      "text/html": [
       "<div>\n",
       "<style scoped>\n",
       "    .dataframe tbody tr th:only-of-type {\n",
       "        vertical-align: middle;\n",
       "    }\n",
       "\n",
       "    .dataframe tbody tr th {\n",
       "        vertical-align: top;\n",
       "    }\n",
       "\n",
       "    .dataframe thead th {\n",
       "        text-align: right;\n",
       "    }\n",
       "</style>\n",
       "<table border=\"1\" class=\"dataframe\">\n",
       "  <thead>\n",
       "    <tr style=\"text-align: right;\">\n",
       "      <th></th>\n",
       "      <th>Job_Id</th>\n",
       "      <th>Emp_Type</th>\n",
       "      <th>Job_Title</th>\n",
       "      <th>Company</th>\n",
       "      <th>Date_Posted</th>\n",
       "      <th>Year_Experience</th>\n",
       "      <th>Seniority</th>\n",
       "      <th>Category</th>\n",
       "      <th>Requirements</th>\n",
       "      <th>Min_Salary</th>\n",
       "      <th>Max_Salary</th>\n",
       "      <th>Avg_Salary</th>\n",
       "      <th>Salary_range</th>\n",
       "    </tr>\n",
       "  </thead>\n",
       "  <tbody>\n",
       "    <tr>\n",
       "      <th>190</th>\n",
       "      <td>JOB-2018-0215413</td>\n",
       "      <td>Full Time</td>\n",
       "      <td>Data Analytics Lead</td>\n",
       "      <td>GOVERNMENT TECHNOLOGY AGENCY</td>\n",
       "      <td>Posted 06 Dec 2019</td>\n",
       "      <td></td>\n",
       "      <td></td>\n",
       "      <td>Information Technology, Public / Civil Service</td>\n",
       "      <td>Chart and drive the data analytics strategy...</td>\n",
       "      <td>5000.0</td>\n",
       "      <td>14000.0</td>\n",
       "      <td>9500.0</td>\n",
       "      <td>High</td>\n",
       "    </tr>\n",
       "    <tr>\n",
       "      <th>426</th>\n",
       "      <td>JOB-2019-0235741</td>\n",
       "      <td>Full Time</td>\n",
       "      <td>Software Engineer, Artificial Intelligence Pla...</td>\n",
       "      <td>GOVERNMENT TECHNOLOGY AGENCY</td>\n",
       "      <td>Posted 06 Dec 2019</td>\n",
       "      <td></td>\n",
       "      <td></td>\n",
       "      <td>Information Technology, Public / Civil Service</td>\n",
       "      <td>Build prototypes to demonstrate technology...</td>\n",
       "      <td>6000.0</td>\n",
       "      <td>11000.0</td>\n",
       "      <td>8500.0</td>\n",
       "      <td>High</td>\n",
       "    </tr>\n",
       "  </tbody>\n",
       "</table>\n",
       "</div>"
      ],
      "text/plain": [
       "               Job_Id   Emp_Type  \\\n",
       "190  JOB-2018-0215413  Full Time   \n",
       "426  JOB-2019-0235741  Full Time   \n",
       "\n",
       "                                             Job_Title  \\\n",
       "190                                Data Analytics Lead   \n",
       "426  Software Engineer, Artificial Intelligence Pla...   \n",
       "\n",
       "                          Company         Date_Posted Year_Experience  \\\n",
       "190  GOVERNMENT TECHNOLOGY AGENCY  Posted 06 Dec 2019                   \n",
       "426  GOVERNMENT TECHNOLOGY AGENCY  Posted 06 Dec 2019                   \n",
       "\n",
       "    Seniority                                        Category  \\\n",
       "190            Information Technology, Public / Civil Service   \n",
       "426            Information Technology, Public / Civil Service   \n",
       "\n",
       "                                          Requirements  Min_Salary  \\\n",
       "190     Chart and drive the data analytics strategy...      5000.0   \n",
       "426      Build prototypes to demonstrate technology...      6000.0   \n",
       "\n",
       "     Max_Salary  Avg_Salary Salary_range  \n",
       "190     14000.0      9500.0         High  \n",
       "426     11000.0      8500.0         High  "
      ]
     },
     "execution_count": 31,
     "metadata": {},
     "output_type": "execute_result"
    }
   ],
   "source": [
    "job_df1[(job_df1['Seniority']=='')]"
   ]
  },
  {
   "cell_type": "code",
   "execution_count": 32,
   "metadata": {},
   "outputs": [],
   "source": [
    "job_df1['Seniority'][92,190] = 'Manager'\n",
    "job_df1['Seniority'][175,391,] = 'Executive'\n",
    "job_df1['Seniority'][426] = 'Professional'\n",
    "job_df1['Seniority'][624] = 'Middle Management'"
   ]
  },
  {
   "cell_type": "code",
   "execution_count": 33,
   "metadata": {},
   "outputs": [
    {
     "data": {
      "text/plain": [
       "Professional         280\n",
       "Executive            130\n",
       "Senior Executive      68\n",
       "Manager               48\n",
       "Middle Management     30\n",
       "Fresh/entry level     25\n",
       "Non-executive         22\n",
       "Junior Executive      21\n",
       "Senior Management     13\n",
       "Name: Seniority, dtype: int64"
      ]
     },
     "execution_count": 33,
     "metadata": {},
     "output_type": "execute_result"
    }
   ],
   "source": [
    "job_df1['Seniority'].value_counts()"
   ]
  },
  {
   "cell_type": "code",
   "execution_count": 34,
   "metadata": {},
   "outputs": [
    {
     "data": {
      "text/plain": [
       "<matplotlib.axes._subplots.AxesSubplot at 0x1a25988790>"
      ]
     },
     "execution_count": 34,
     "metadata": {},
     "output_type": "execute_result"
    },
    {
     "data": {
      "image/png": "[encoded data removed]",
      "text/plain": [
       "<Figure size 864x360 with 2 Axes>"
      ]
     },
     "metadata": {
      "image/png": {
       "height": 314,
       "width": 766
      },
      "needs_background": "light"
     },
     "output_type": "display_data"
    }
   ],
   "source": [
    "exec_only = job_df1['Seniority']=='Executive'\n",
    "job_exec = job_df1[exec_only]\n",
    "\n",
    "fig, ax =plt.subplots(nrows=1, ncols=2, figsize=(12,5))\n",
    "sns.boxplot(job_exec['Avg_Salary'], ax=ax[0])\n",
    "sns.distplot(job_exec['Avg_Salary'],bins=15, ax=ax[1])"
   ]
  },
  {
   "cell_type": "code",
   "execution_count": 35,
   "metadata": {},
   "outputs": [
    {
     "data": {
      "text/html": [
       "<div>\n",
       "<style scoped>\n",
       "    .dataframe tbody tr th:only-of-type {\n",
       "        vertical-align: middle;\n",
       "    }\n",
       "\n",
       "    .dataframe tbody tr th {\n",
       "        vertical-align: top;\n",
       "    }\n",
       "\n",
       "    .dataframe thead th {\n",
       "        text-align: right;\n",
       "    }\n",
       "</style>\n",
       "<table border=\"1\" class=\"dataframe\">\n",
       "  <thead>\n",
       "    <tr style=\"text-align: right;\">\n",
       "      <th></th>\n",
       "      <th>Job_Id</th>\n",
       "      <th>Emp_Type</th>\n",
       "      <th>Job_Title</th>\n",
       "      <th>Company</th>\n",
       "      <th>Date_Posted</th>\n",
       "      <th>Year_Experience</th>\n",
       "      <th>Seniority</th>\n",
       "      <th>Category</th>\n",
       "      <th>Requirements</th>\n",
       "      <th>Min_Salary</th>\n",
       "      <th>Max_Salary</th>\n",
       "      <th>Avg_Salary</th>\n",
       "      <th>Salary_range</th>\n",
       "    </tr>\n",
       "  </thead>\n",
       "  <tbody>\n",
       "    <tr>\n",
       "      <th>3</th>\n",
       "      <td>MCF-2020-0072490</td>\n",
       "      <td>Permanent</td>\n",
       "      <td>Data Science Experimentation Specialist, Apple...</td>\n",
       "      <td>APPLE SOUTH ASIA PTE. LTD.</td>\n",
       "      <td>Posted 26 Mar 2020</td>\n",
       "      <td>10 years  exp</td>\n",
       "      <td>Executive</td>\n",
       "      <td>Engineering</td>\n",
       "      <td></td>\n",
       "      <td>8000.0</td>\n",
       "      <td>16000.0</td>\n",
       "      <td>12000.0</td>\n",
       "      <td>High</td>\n",
       "    </tr>\n",
       "    <tr>\n",
       "      <th>4</th>\n",
       "      <td>MCF-2020-0072489</td>\n",
       "      <td>Permanent</td>\n",
       "      <td>Data Science Experimentation Specialist, Apple...</td>\n",
       "      <td>APPLE SOUTH ASIA PTE. LTD.</td>\n",
       "      <td>Posted 26 Mar 2020</td>\n",
       "      <td>5 years  exp</td>\n",
       "      <td>Executive</td>\n",
       "      <td>Engineering</td>\n",
       "      <td></td>\n",
       "      <td>6000.0</td>\n",
       "      <td>11000.0</td>\n",
       "      <td>8500.0</td>\n",
       "      <td>High</td>\n",
       "    </tr>\n",
       "    <tr>\n",
       "      <th>35</th>\n",
       "      <td>MCF-2020-0070145</td>\n",
       "      <td>Permanent</td>\n",
       "      <td>Data Scientist -  (Full Stack Developer)</td>\n",
       "      <td>LMA RECRUITMENT SINGAPORE PTE. LTD.</td>\n",
       "      <td>Posted 24 Mar 2020</td>\n",
       "      <td>5 years  exp</td>\n",
       "      <td>Executive</td>\n",
       "      <td>Information Technology</td>\n",
       "      <td></td>\n",
       "      <td>7000.0</td>\n",
       "      <td>10000.0</td>\n",
       "      <td>8500.0</td>\n",
       "      <td>High</td>\n",
       "    </tr>\n",
       "    <tr>\n",
       "      <th>36</th>\n",
       "      <td>MCF-2020-0070323</td>\n",
       "      <td>Full Time</td>\n",
       "      <td>Finance Associate</td>\n",
       "      <td>NETFLIX PTE. LTD.</td>\n",
       "      <td>Posted 24 Mar 2020</td>\n",
       "      <td>5 years  exp</td>\n",
       "      <td>Executive</td>\n",
       "      <td>Banking and Finance</td>\n",
       "      <td>The Associate will report to the Manager, C...</td>\n",
       "      <td>12000.0</td>\n",
       "      <td>15000.0</td>\n",
       "      <td>13500.0</td>\n",
       "      <td>High</td>\n",
       "    </tr>\n",
       "    <tr>\n",
       "      <th>107</th>\n",
       "      <td>MCF-2020-0060440</td>\n",
       "      <td>Permanent, Full Time</td>\n",
       "      <td>Data Scientist (Optimization)</td>\n",
       "      <td>CARTRACK TECHNOLOGIES SOUTH EAST ASIA PTE. LTD.</td>\n",
       "      <td>Posted 11 Mar 2020</td>\n",
       "      <td>4 years  exp</td>\n",
       "      <td>Executive</td>\n",
       "      <td>Information Technology</td>\n",
       "      <td>Conceptualize and develop real-time models ...</td>\n",
       "      <td>8500.0</td>\n",
       "      <td>13000.0</td>\n",
       "      <td>10750.0</td>\n",
       "      <td>High</td>\n",
       "    </tr>\n",
       "    <tr>\n",
       "      <th>...</th>\n",
       "      <td>...</td>\n",
       "      <td>...</td>\n",
       "      <td>...</td>\n",
       "      <td>...</td>\n",
       "      <td>...</td>\n",
       "      <td>...</td>\n",
       "      <td>...</td>\n",
       "      <td>...</td>\n",
       "      <td>...</td>\n",
       "      <td>...</td>\n",
       "      <td>...</td>\n",
       "      <td>...</td>\n",
       "      <td>...</td>\n",
       "    </tr>\n",
       "    <tr>\n",
       "      <th>558</th>\n",
       "      <td>MCF-2020-0066258</td>\n",
       "      <td>Full Time</td>\n",
       "      <td>Senior Data Scientist</td>\n",
       "      <td>AGODA COMPANY PTE. LTD.</td>\n",
       "      <td>Posted 18 Mar 2020</td>\n",
       "      <td>5 years  exp</td>\n",
       "      <td>Executive</td>\n",
       "      <td>Information Technology</td>\n",
       "      <td>Crack our business problems and come up wit...</td>\n",
       "      <td>9000.0</td>\n",
       "      <td>15000.0</td>\n",
       "      <td>12000.0</td>\n",
       "      <td>High</td>\n",
       "    </tr>\n",
       "    <tr>\n",
       "      <th>564</th>\n",
       "      <td>MCF-2020-0066678</td>\n",
       "      <td>Contract, Permanent, Full Time</td>\n",
       "      <td>Java Software Engineer, Payments Technology - ...</td>\n",
       "      <td>JPMORGAN CHASE BANK, N.A.</td>\n",
       "      <td>Posted 18 Mar 2020</td>\n",
       "      <td>6 years  exp</td>\n",
       "      <td>Executive</td>\n",
       "      <td>Banking and Finance</td>\n",
       "      <td>BS/BA degree or equivalent experience Advan...</td>\n",
       "      <td>7000.0</td>\n",
       "      <td>14000.0</td>\n",
       "      <td>10500.0</td>\n",
       "      <td>High</td>\n",
       "    </tr>\n",
       "    <tr>\n",
       "      <th>567</th>\n",
       "      <td>MCF-2020-0066675</td>\n",
       "      <td>Contract, Permanent, Full Time</td>\n",
       "      <td>Java Software Engineer, Payments Technology - ...</td>\n",
       "      <td>JPMORGAN CHASE BANK, N.A.</td>\n",
       "      <td>Posted 18 Mar 2020</td>\n",
       "      <td>6 years  exp</td>\n",
       "      <td>Executive</td>\n",
       "      <td>Banking and Finance</td>\n",
       "      <td>BS/BA degree or equivalent experience Advan...</td>\n",
       "      <td>6000.0</td>\n",
       "      <td>12000.0</td>\n",
       "      <td>9000.0</td>\n",
       "      <td>High</td>\n",
       "    </tr>\n",
       "    <tr>\n",
       "      <th>591</th>\n",
       "      <td>MCF-2020-0070472</td>\n",
       "      <td>Contract, Full Time</td>\n",
       "      <td>Senior Bioinformatician (CBAU), IMCB</td>\n",
       "      <td>A*STAR RESEARCH ENTITIES</td>\n",
       "      <td>Posted 24 Mar 2020</td>\n",
       "      <td></td>\n",
       "      <td>Executive</td>\n",
       "      <td>Sciences / Laboratory / R&amp;D</td>\n",
       "      <td>Masters degree in bioinformatics, biostatis...</td>\n",
       "      <td>5900.0</td>\n",
       "      <td>11800.0</td>\n",
       "      <td>8850.0</td>\n",
       "      <td>High</td>\n",
       "    </tr>\n",
       "    <tr>\n",
       "      <th>625</th>\n",
       "      <td>MCF-2020-0052725</td>\n",
       "      <td>Permanent</td>\n",
       "      <td>Systems Engineer</td>\n",
       "      <td>NUTONOMY ASIA PTE. LTD.</td>\n",
       "      <td>Posted 03 Mar 2020</td>\n",
       "      <td>4 years  exp</td>\n",
       "      <td>Executive</td>\n",
       "      <td>Information Technology</td>\n",
       "      <td>Define, model and simulate the behavior of ...</td>\n",
       "      <td>7000.0</td>\n",
       "      <td>15000.0</td>\n",
       "      <td>11000.0</td>\n",
       "      <td>High</td>\n",
       "    </tr>\n",
       "  </tbody>\n",
       "</table>\n",
       "<p>63 rows × 13 columns</p>\n",
       "</div>"
      ],
      "text/plain": [
       "               Job_Id                        Emp_Type  \\\n",
       "3    MCF-2020-0072490                       Permanent   \n",
       "4    MCF-2020-0072489                       Permanent   \n",
       "35   MCF-2020-0070145                       Permanent   \n",
       "36   MCF-2020-0070323                       Full Time   \n",
       "107  MCF-2020-0060440            Permanent, Full Time   \n",
       "..                ...                             ...   \n",
       "558  MCF-2020-0066258                       Full Time   \n",
       "564  MCF-2020-0066678  Contract, Permanent, Full Time   \n",
       "567  MCF-2020-0066675  Contract, Permanent, Full Time   \n",
       "591  MCF-2020-0070472             Contract, Full Time   \n",
       "625  MCF-2020-0052725                       Permanent   \n",
       "\n",
       "                                             Job_Title  \\\n",
       "3    Data Science Experimentation Specialist, Apple...   \n",
       "4    Data Science Experimentation Specialist, Apple...   \n",
       "35            Data Scientist -  (Full Stack Developer)   \n",
       "36                                   Finance Associate   \n",
       "107                     Data Scientist (Optimization)    \n",
       "..                                                 ...   \n",
       "558                              Senior Data Scientist   \n",
       "564  Java Software Engineer, Payments Technology - ...   \n",
       "567  Java Software Engineer, Payments Technology - ...   \n",
       "591               Senior Bioinformatician (CBAU), IMCB   \n",
       "625                                   Systems Engineer   \n",
       "\n",
       "                                             Company         Date_Posted  \\\n",
       "3                         APPLE SOUTH ASIA PTE. LTD.  Posted 26 Mar 2020   \n",
       "4                         APPLE SOUTH ASIA PTE. LTD.  Posted 26 Mar 2020   \n",
       "35               LMA RECRUITMENT SINGAPORE PTE. LTD.  Posted 24 Mar 2020   \n",
       "36                                 NETFLIX PTE. LTD.  Posted 24 Mar 2020   \n",
       "107  CARTRACK TECHNOLOGIES SOUTH EAST ASIA PTE. LTD.  Posted 11 Mar 2020   \n",
       "..                                               ...                 ...   \n",
       "558                          AGODA COMPANY PTE. LTD.  Posted 18 Mar 2020   \n",
       "564                        JPMORGAN CHASE BANK, N.A.  Posted 18 Mar 2020   \n",
       "567                        JPMORGAN CHASE BANK, N.A.  Posted 18 Mar 2020   \n",
       "591                         A*STAR RESEARCH ENTITIES  Posted 24 Mar 2020   \n",
       "625                          NUTONOMY ASIA PTE. LTD.  Posted 03 Mar 2020   \n",
       "\n",
       "    Year_Experience  Seniority                     Category  \\\n",
       "3     10 years  exp  Executive                  Engineering   \n",
       "4      5 years  exp  Executive                  Engineering   \n",
       "35     5 years  exp  Executive       Information Technology   \n",
       "36     5 years  exp  Executive          Banking and Finance   \n",
       "107    4 years  exp  Executive       Information Technology   \n",
       "..              ...        ...                          ...   \n",
       "558    5 years  exp  Executive       Information Technology   \n",
       "564    6 years  exp  Executive          Banking and Finance   \n",
       "567    6 years  exp  Executive          Banking and Finance   \n",
       "591                  Executive  Sciences / Laboratory / R&D   \n",
       "625    4 years  exp  Executive       Information Technology   \n",
       "\n",
       "                                          Requirements  Min_Salary  \\\n",
       "3                                                           8000.0   \n",
       "4                                                           6000.0   \n",
       "35                                                          7000.0   \n",
       "36      The Associate will report to the Manager, C...     12000.0   \n",
       "107     Conceptualize and develop real-time models ...      8500.0   \n",
       "..                                                 ...         ...   \n",
       "558     Crack our business problems and come up wit...      9000.0   \n",
       "564     BS/BA degree or equivalent experience Advan...      7000.0   \n",
       "567     BS/BA degree or equivalent experience Advan...      6000.0   \n",
       "591     Masters degree in bioinformatics, biostatis...      5900.0   \n",
       "625     Define, model and simulate the behavior of ...      7000.0   \n",
       "\n",
       "     Max_Salary  Avg_Salary Salary_range  \n",
       "3       16000.0     12000.0         High  \n",
       "4       11000.0      8500.0         High  \n",
       "35      10000.0      8500.0         High  \n",
       "36      15000.0     13500.0         High  \n",
       "107     13000.0     10750.0         High  \n",
       "..          ...         ...          ...  \n",
       "558     15000.0     12000.0         High  \n",
       "564     14000.0     10500.0         High  \n",
       "567     12000.0      9000.0         High  \n",
       "591     11800.0      8850.0         High  \n",
       "625     15000.0     11000.0         High  \n",
       "\n",
       "[63 rows x 13 columns]"
      ]
     },
     "execution_count": 35,
     "metadata": {},
     "output_type": "execute_result"
    }
   ],
   "source": [
    "job_df1[(job_df1['Seniority']=='Executive') & (job_df1['Avg_Salary']>8000)]"
   ]
  },
  {
   "cell_type": "code",
   "execution_count": 36,
   "metadata": {},
   "outputs": [
    {
     "data": {
      "text/plain": [
       "<matplotlib.axes._subplots.AxesSubplot at 0x1a25bcf210>"
      ]
     },
     "execution_count": 36,
     "metadata": {},
     "output_type": "execute_result"
    },
    {
     "data": {
      "image/png": "[encoded data removed]",
      "text/plain": [
       "<Figure size 864x360 with 2 Axes>"
      ]
     },
     "metadata": {
      "image/png": {
       "height": 314,
       "width": 766
      },
      "needs_background": "light"
     },
     "output_type": "display_data"
    }
   ],
   "source": [
    "pro_only = job_df1['Seniority']=='Professional'\n",
    "job_pro = job_df1[pro_only]\n",
    "\n",
    "fig, ax =plt.subplots(nrows=1, ncols=2, figsize=(12,5))\n",
    "sns.boxplot(job_pro['Avg_Salary'], ax=ax[0])\n",
    "sns.distplot(job_pro['Avg_Salary'],bins=15, ax=ax[1])"
   ]
  },
  {
   "cell_type": "code",
   "execution_count": 37,
   "metadata": {},
   "outputs": [
    {
     "data": {
      "text/plain": [
       "Professional         280\n",
       "Executive            130\n",
       "Senior Executive      68\n",
       "Manager               48\n",
       "Middle Management     30\n",
       "Fresh/entry level     25\n",
       "Non-executive         22\n",
       "Junior Executive      21\n",
       "Senior Management     13\n",
       "Name: Seniority, dtype: int64"
      ]
     },
     "execution_count": 37,
     "metadata": {},
     "output_type": "execute_result"
    }
   ],
   "source": [
    "job_df1['Seniority'].value_counts()"
   ]
  },
  {
   "cell_type": "code",
   "execution_count": 38,
   "metadata": {},
   "outputs": [],
   "source": [
    "#Re-group Seniority from 9 groups to 4 groups\n",
    "\n",
    "job_df1['Seniority'] = np.where((job_df1['Seniority'] == 'Fresh/entry level') | (job_df1['Seniority'] == 'Non-executive') | (job_df1['Seniority'] == 'Junior Executive'),\n",
    "                                 'Jr Executive', job_df1['Seniority'])\n",
    "\n",
    "job_df1['Seniority'] = np.where((job_df1['Seniority'] == 'Executive') | (job_df1['Seniority'] == 'Senior Executive'),\n",
    "                                 'Sr Executive', job_df1['Seniority'])\n",
    "\n",
    "job_df1['Seniority'] = np.where((job_df1['Seniority'] == 'Manager') | (job_df1['Seniority'] == 'Middle Management') | (job_df1['Seniority'] == 'Senior Management'),\n",
    "                                 'Management', job_df1['Seniority'])\n"
   ]
  },
  {
   "cell_type": "code",
   "execution_count": 39,
   "metadata": {},
   "outputs": [
    {
     "data": {
      "image/png": "[encoded data removed]",
      "text/plain": [
       "<Figure size 1080x360 with 1 Axes>"
      ]
     },
     "metadata": {
      "image/png": {
       "height": 398,
       "width": 1074
      },
      "needs_background": "light"
     },
     "output_type": "display_data"
    }
   ],
   "source": [
    "senior_order = ('Management','Sr Executive','Professional', 'Jr Executive')\n",
    "\n",
    "sns.catplot(x='Seniority', y='Avg_Salary',data=job_df1, kind='bar', aspect=3, \n",
    "               order=senior_order).set_xticklabels(rotation=55, horizontalalignment='right')\n",
    "plt.show();"
   ]
  },
  {
   "cell_type": "code",
   "execution_count": 40,
   "metadata": {},
   "outputs": [
    {
     "data": {
      "text/html": [
       "<div>\n",
       "<style scoped>\n",
       "    .dataframe tbody tr th:only-of-type {\n",
       "        vertical-align: middle;\n",
       "    }\n",
       "\n",
       "    .dataframe tbody tr th {\n",
       "        vertical-align: top;\n",
       "    }\n",
       "\n",
       "    .dataframe thead th {\n",
       "        text-align: right;\n",
       "    }\n",
       "</style>\n",
       "<table border=\"1\" class=\"dataframe\">\n",
       "  <thead>\n",
       "    <tr style=\"text-align: right;\">\n",
       "      <th></th>\n",
       "      <th>Job_Id</th>\n",
       "      <th>Emp_Type</th>\n",
       "      <th>Job_Title</th>\n",
       "      <th>Company</th>\n",
       "      <th>Date_Posted</th>\n",
       "      <th>Year_Experience</th>\n",
       "      <th>Seniority</th>\n",
       "      <th>Category</th>\n",
       "      <th>Requirements</th>\n",
       "      <th>Min_Salary</th>\n",
       "      <th>Max_Salary</th>\n",
       "      <th>Avg_Salary</th>\n",
       "      <th>Salary_range</th>\n",
       "    </tr>\n",
       "  </thead>\n",
       "  <tbody>\n",
       "    <tr>\n",
       "      <th>635</th>\n",
       "      <td>MCF-2020-0047963</td>\n",
       "      <td>Contract</td>\n",
       "      <td>Project Manager</td>\n",
       "      <td>HUDSON RPO (SINGAPORE) PTE. LTD.</td>\n",
       "      <td>Posted 26 Feb 2020</td>\n",
       "      <td>5 years  exp</td>\n",
       "      <td>Management</td>\n",
       "      <td>Others</td>\n",
       "      <td>Manage Medium to Large scale projects Manag...</td>\n",
       "      <td>7000.0</td>\n",
       "      <td>13000.0</td>\n",
       "      <td>10000.0</td>\n",
       "      <td>High</td>\n",
       "    </tr>\n",
       "    <tr>\n",
       "      <th>636</th>\n",
       "      <td>MCF-2020-0047534</td>\n",
       "      <td>Full Time</td>\n",
       "      <td>Product Manager</td>\n",
       "      <td>DATHENA SCIENCE PTE. LTD.</td>\n",
       "      <td>Posted 26 Feb 2020</td>\n",
       "      <td></td>\n",
       "      <td>Jr Executive</td>\n",
       "      <td>Design, Engineering, Information Technology, O...</td>\n",
       "      <td>As a product manager for Dathena you will b...</td>\n",
       "      <td>4000.0</td>\n",
       "      <td>6500.0</td>\n",
       "      <td>5250.0</td>\n",
       "      <td>Low</td>\n",
       "    </tr>\n",
       "  </tbody>\n",
       "</table>\n",
       "</div>"
      ],
      "text/plain": [
       "               Job_Id   Emp_Type        Job_Title  \\\n",
       "635  MCF-2020-0047963   Contract  Project Manager   \n",
       "636  MCF-2020-0047534  Full Time  Product Manager   \n",
       "\n",
       "                              Company         Date_Posted Year_Experience  \\\n",
       "635  HUDSON RPO (SINGAPORE) PTE. LTD.  Posted 26 Feb 2020    5 years  exp   \n",
       "636         DATHENA SCIENCE PTE. LTD.  Posted 26 Feb 2020                   \n",
       "\n",
       "        Seniority                                           Category  \\\n",
       "635    Management                                             Others   \n",
       "636  Jr Executive  Design, Engineering, Information Technology, O...   \n",
       "\n",
       "                                          Requirements  Min_Salary  \\\n",
       "635     Manage Medium to Large scale projects Manag...      7000.0   \n",
       "636     As a product manager for Dathena you will b...      4000.0   \n",
       "\n",
       "     Max_Salary  Avg_Salary Salary_range  \n",
       "635     13000.0     10000.0         High  \n",
       "636      6500.0      5250.0          Low  "
      ]
     },
     "execution_count": 40,
     "metadata": {},
     "output_type": "execute_result"
    }
   ],
   "source": [
    "#perform data cleaning on every row and columms\n",
    "clean_list = \"(Â|Ã¢Â€Â™️)\"\n",
    "job_df1['Requirements']=job_df1[\"Requirements\"].str.replace(clean_list, \"\")\n",
    "job_df1.tail(2)"
   ]
  },
  {
   "cell_type": "code",
   "execution_count": 41,
   "metadata": {},
   "outputs": [
    {
     "data": {
      "text/plain": [
       "array([nan, '10', '5', '3', '2', '4', '1', '7', '8', '6', '15', '9', '12',\n",
       "       '20'], dtype=object)"
      ]
     },
     "execution_count": 41,
     "metadata": {},
     "output_type": "execute_result"
    }
   ],
   "source": [
    "#extract only number from string\n",
    "job_df1['Year_Experience'] = job_df1['Year_Experience'].str.extract('(\\d+)')\n",
    "job_df1['Year_Experience'].unique()"
   ]
  },
  {
   "cell_type": "code",
   "execution_count": 42,
   "metadata": {},
   "outputs": [
    {
     "data": {
      "text/plain": [
       "(627, 13)"
      ]
     },
     "execution_count": 42,
     "metadata": {},
     "output_type": "execute_result"
    }
   ],
   "source": [
    "job_df1[~job_df1['Emp_Type'].str.contains('Part Time')]\n",
    "#remove job type with specific keywords\n",
    "type_key = ['PART TIME','TEMPORARY','INTERNSHIP','FLEXI','FREELANCE']\n",
    "key = '|'.join(type_key)\n",
    "non_type = job_df1['Emp_Type'].str.upper().str.contains(key)\n",
    "job_df = job_df1[~non_type]\n",
    "job_df.shape"
   ]
  },
  {
   "cell_type": "code",
   "execution_count": 43,
   "metadata": {},
   "outputs": [],
   "source": [
    "clean_list = \"(Full Time|Permanent, Full Time)\"\n",
    "job_df['Emp_Type']=job_df['Emp_Type'].str.replace(clean_list, \"Permanent\")\n",
    "\n",
    "clean_list = \"(Contract, Full Time)\"\n",
    "job_df['Emp_Type']=job_df['Emp_Type'].str.replace(clean_list, \"Contract\")\n",
    "\n",
    "clean_list = \"(Contract, Permanent, Full Time)\"\n",
    "job_df['Emp_Type']=job_df['Emp_Type'].str.replace(clean_list, \"Cont_Perm\")"
   ]
  },
  {
   "cell_type": "code",
   "execution_count": 44,
   "metadata": {},
   "outputs": [
    {
     "data": {
      "text/plain": [
       "Permanent              379\n",
       "Contract, Permanent    211\n",
       "Contract                37\n",
       "Name: Emp_Type, dtype: int64"
      ]
     },
     "execution_count": 44,
     "metadata": {},
     "output_type": "execute_result"
    }
   ],
   "source": [
    "job_df['Emp_Type'].value_counts()"
   ]
  },
  {
   "cell_type": "code",
   "execution_count": 45,
   "metadata": {},
   "outputs": [],
   "source": [
    "job_df = job_df.drop(columns=['Date_Posted'])"
   ]
  },
  {
   "cell_type": "code",
   "execution_count": 46,
   "metadata": {},
   "outputs": [
    {
     "data": {
      "text/html": [
       "<div>\n",
       "<style scoped>\n",
       "    .dataframe tbody tr th:only-of-type {\n",
       "        vertical-align: middle;\n",
       "    }\n",
       "\n",
       "    .dataframe tbody tr th {\n",
       "        vertical-align: top;\n",
       "    }\n",
       "\n",
       "    .dataframe thead th {\n",
       "        text-align: right;\n",
       "    }\n",
       "</style>\n",
       "<table border=\"1\" class=\"dataframe\">\n",
       "  <thead>\n",
       "    <tr style=\"text-align: right;\">\n",
       "      <th></th>\n",
       "      <th>Job_Id</th>\n",
       "      <th>Emp_Type</th>\n",
       "      <th>Job_Title</th>\n",
       "      <th>Company</th>\n",
       "      <th>Year_Experience</th>\n",
       "      <th>Seniority</th>\n",
       "      <th>Category</th>\n",
       "      <th>Requirements</th>\n",
       "      <th>Min_Salary</th>\n",
       "      <th>Max_Salary</th>\n",
       "      <th>Avg_Salary</th>\n",
       "      <th>Salary_range</th>\n",
       "    </tr>\n",
       "  </thead>\n",
       "  <tbody>\n",
       "    <tr>\n",
       "      <th>632</th>\n",
       "      <td>MCF-2020-0049341</td>\n",
       "      <td>Permanent</td>\n",
       "      <td>User Experience Designer</td>\n",
       "      <td>PCCW SOLUTIONS SINGAPORE PTE. LTD.</td>\n",
       "      <td>8</td>\n",
       "      <td>Professional</td>\n",
       "      <td>Telecommunications</td>\n",
       "      <td>Acquire profound understanding of the Telco...</td>\n",
       "      <td>5000.0</td>\n",
       "      <td>9000.0</td>\n",
       "      <td>7000.0</td>\n",
       "      <td>Med</td>\n",
       "    </tr>\n",
       "    <tr>\n",
       "      <th>633</th>\n",
       "      <td>MCF-2020-0049160</td>\n",
       "      <td>Contract, Permanent</td>\n",
       "      <td>Research Engineer, Social and Cognitive Comput...</td>\n",
       "      <td>A*STAR RESEARCH ENTITIES</td>\n",
       "      <td>NaN</td>\n",
       "      <td>Jr Executive</td>\n",
       "      <td>Engineering, Information Technology, Sciences ...</td>\n",
       "      <td>Artificial Intelligence Systems  Physics an...</td>\n",
       "      <td>3000.0</td>\n",
       "      <td>6000.0</td>\n",
       "      <td>4500.0</td>\n",
       "      <td>Low</td>\n",
       "    </tr>\n",
       "    <tr>\n",
       "      <th>634</th>\n",
       "      <td>MCF-2020-0047979</td>\n",
       "      <td>Permanent</td>\n",
       "      <td>Project Manager</td>\n",
       "      <td>HUDSON RPO (SINGAPORE) PTE. LTD.</td>\n",
       "      <td>5</td>\n",
       "      <td>Management</td>\n",
       "      <td>Others</td>\n",
       "      <td>Manage Medium to Large scale projects Manag...</td>\n",
       "      <td>7000.0</td>\n",
       "      <td>13000.0</td>\n",
       "      <td>10000.0</td>\n",
       "      <td>High</td>\n",
       "    </tr>\n",
       "    <tr>\n",
       "      <th>635</th>\n",
       "      <td>MCF-2020-0047963</td>\n",
       "      <td>Contract</td>\n",
       "      <td>Project Manager</td>\n",
       "      <td>HUDSON RPO (SINGAPORE) PTE. LTD.</td>\n",
       "      <td>5</td>\n",
       "      <td>Management</td>\n",
       "      <td>Others</td>\n",
       "      <td>Manage Medium to Large scale projects Manag...</td>\n",
       "      <td>7000.0</td>\n",
       "      <td>13000.0</td>\n",
       "      <td>10000.0</td>\n",
       "      <td>High</td>\n",
       "    </tr>\n",
       "    <tr>\n",
       "      <th>636</th>\n",
       "      <td>MCF-2020-0047534</td>\n",
       "      <td>Permanent</td>\n",
       "      <td>Product Manager</td>\n",
       "      <td>DATHENA SCIENCE PTE. LTD.</td>\n",
       "      <td>NaN</td>\n",
       "      <td>Jr Executive</td>\n",
       "      <td>Design, Engineering, Information Technology, O...</td>\n",
       "      <td>As a product manager for Dathena you will b...</td>\n",
       "      <td>4000.0</td>\n",
       "      <td>6500.0</td>\n",
       "      <td>5250.0</td>\n",
       "      <td>Low</td>\n",
       "    </tr>\n",
       "  </tbody>\n",
       "</table>\n",
       "</div>"
      ],
      "text/plain": [
       "               Job_Id             Emp_Type  \\\n",
       "632  MCF-2020-0049341            Permanent   \n",
       "633  MCF-2020-0049160  Contract, Permanent   \n",
       "634  MCF-2020-0047979            Permanent   \n",
       "635  MCF-2020-0047963             Contract   \n",
       "636  MCF-2020-0047534            Permanent   \n",
       "\n",
       "                                             Job_Title  \\\n",
       "632                           User Experience Designer   \n",
       "633  Research Engineer, Social and Cognitive Comput...   \n",
       "634                                    Project Manager   \n",
       "635                                    Project Manager   \n",
       "636                                    Product Manager   \n",
       "\n",
       "                                Company Year_Experience     Seniority  \\\n",
       "632  PCCW SOLUTIONS SINGAPORE PTE. LTD.               8  Professional   \n",
       "633            A*STAR RESEARCH ENTITIES             NaN  Jr Executive   \n",
       "634    HUDSON RPO (SINGAPORE) PTE. LTD.               5    Management   \n",
       "635    HUDSON RPO (SINGAPORE) PTE. LTD.               5    Management   \n",
       "636           DATHENA SCIENCE PTE. LTD.             NaN  Jr Executive   \n",
       "\n",
       "                                              Category  \\\n",
       "632                                 Telecommunications   \n",
       "633  Engineering, Information Technology, Sciences ...   \n",
       "634                                             Others   \n",
       "635                                             Others   \n",
       "636  Design, Engineering, Information Technology, O...   \n",
       "\n",
       "                                          Requirements  Min_Salary  \\\n",
       "632     Acquire profound understanding of the Telco...      5000.0   \n",
       "633     Artificial Intelligence Systems  Physics an...      3000.0   \n",
       "634     Manage Medium to Large scale projects Manag...      7000.0   \n",
       "635     Manage Medium to Large scale projects Manag...      7000.0   \n",
       "636     As a product manager for Dathena you will b...      4000.0   \n",
       "\n",
       "     Max_Salary  Avg_Salary Salary_range  \n",
       "632      9000.0      7000.0          Med  \n",
       "633      6000.0      4500.0          Low  \n",
       "634     13000.0     10000.0         High  \n",
       "635     13000.0     10000.0         High  \n",
       "636      6500.0      5250.0          Low  "
      ]
     },
     "execution_count": 46,
     "metadata": {},
     "output_type": "execute_result"
    }
   ],
   "source": [
    "clean_list = \"(/|and)\"\n",
    "job_df['Category']=job_df['Category'].str.replace(clean_list, \",\")\n",
    "job_df.tail()"
   ]
  },
  {
   "cell_type": "code",
   "execution_count": 47,
   "metadata": {},
   "outputs": [],
   "source": [
    "#count number of different categories inside category column\n",
    "job_df['Cat_num'] = job_df['Category'].str.count(',')"
   ]
  },
  {
   "cell_type": "code",
   "execution_count": 48,
   "metadata": {},
   "outputs": [],
   "source": [
    "multiple_cat = job_df['Cat_num']>5\n",
    "df = job_df[~multiple_cat]"
   ]
  },
  {
   "cell_type": "code",
   "execution_count": 49,
   "metadata": {},
   "outputs": [
    {
     "data": {
      "text/plain": [
       "(598, 13)"
      ]
     },
     "execution_count": 49,
     "metadata": {},
     "output_type": "execute_result"
    }
   ],
   "source": [
    "#remove job cat with specific keywords\n",
    "rare_cat_key = ['HUMAN','SOCIAL','THERAPY','TAXATION','CUSTOMER','INTERIOR', 'ADMIN','BUILDING',\n",
    "                'SECRETARIAL','INVESTIGATION', 'AUDITING', 'ENVIRONMENT','SALES', 'MARKETING',\n",
    "                'ADVERTISING','CONSTRUCTION', 'DESIGN','LEGAL','HOSPITALITY','PROFESSIONAL']\n",
    "key = '|'.join(rare_cat_key)\n",
    "rare_cat = df['Category'].str.upper().str.contains(key)\n",
    "df1 = df[~rare_cat]\n",
    "df1.shape"
   ]
  },
  {
   "cell_type": "code",
   "execution_count": 50,
   "metadata": {},
   "outputs": [
    {
     "data": {
      "text/plain": [
       "(467, 12)"
      ]
     },
     "execution_count": 50,
     "metadata": {},
     "output_type": "execute_result"
    }
   ],
   "source": [
    "#remove job title with specific keywords\n",
    "rare_title_key = ['DESIGNER','PROJECT','TECHNICIAN','EQUIP','DEVELOPMENT','COMPLIANCE',\n",
    "                  'TRADER','PORTFOLIO','PROFESSIONAL','CREDIT','INVESTOR',\n",
    "                  'DESIGN', 'LEGAL','SOFTWARE']\n",
    "key = '|'.join(rare_title_key)\n",
    "rare_title = df1['Job_Title'].str.upper().str.contains(key)\n",
    "df2 = df1[~rare_title]\n",
    "df2 = df2.drop(columns='Cat_num')\n",
    "df2.shape"
   ]
  },
  {
   "cell_type": "code",
   "execution_count": 51,
   "metadata": {},
   "outputs": [
    {
     "data": {
      "text/html": [
       "<div>\n",
       "<style scoped>\n",
       "    .dataframe tbody tr th:only-of-type {\n",
       "        vertical-align: middle;\n",
       "    }\n",
       "\n",
       "    .dataframe tbody tr th {\n",
       "        vertical-align: top;\n",
       "    }\n",
       "\n",
       "    .dataframe thead th {\n",
       "        text-align: right;\n",
       "    }\n",
       "</style>\n",
       "<table border=\"1\" class=\"dataframe\">\n",
       "  <thead>\n",
       "    <tr style=\"text-align: right;\">\n",
       "      <th></th>\n",
       "      <th>Job_Id</th>\n",
       "      <th>Emp_Type</th>\n",
       "      <th>Job_Title</th>\n",
       "      <th>Company</th>\n",
       "      <th>Year_Experience</th>\n",
       "      <th>Seniority</th>\n",
       "      <th>Category</th>\n",
       "      <th>Requirements</th>\n",
       "      <th>Min_Salary</th>\n",
       "      <th>Max_Salary</th>\n",
       "      <th>Avg_Salary</th>\n",
       "      <th>Salary_range</th>\n",
       "    </tr>\n",
       "  </thead>\n",
       "  <tbody>\n",
       "    <tr>\n",
       "      <th>462</th>\n",
       "      <td>MCF-2020-0050095</td>\n",
       "      <td>Permanent</td>\n",
       "      <td>DevOps Engineer</td>\n",
       "      <td>UCARE.IO PTE. LTD.</td>\n",
       "      <td>2</td>\n",
       "      <td>Sr Executive</td>\n",
       "      <td>Information Technology</td>\n",
       "      <td>Develop and lead the code deployment proces...</td>\n",
       "      <td>4000.0</td>\n",
       "      <td>8000.0</td>\n",
       "      <td>6000.0</td>\n",
       "      <td>Med</td>\n",
       "    </tr>\n",
       "    <tr>\n",
       "      <th>463</th>\n",
       "      <td>MCF-2020-0049508</td>\n",
       "      <td>Permanent</td>\n",
       "      <td>Technology Manager</td>\n",
       "      <td>SIMPLIFYNEXT PTE. LTD.</td>\n",
       "      <td>8</td>\n",
       "      <td>Management</td>\n",
       "      <td>Consulting, Information Technology</td>\n",
       "      <td>Manage project teams within a technical pro...</td>\n",
       "      <td>6000.0</td>\n",
       "      <td>12000.0</td>\n",
       "      <td>9000.0</td>\n",
       "      <td>High</td>\n",
       "    </tr>\n",
       "    <tr>\n",
       "      <th>464</th>\n",
       "      <td>MCF-2020-0048653</td>\n",
       "      <td>Permanent</td>\n",
       "      <td>Senior Research Scientist in Artificial Intell...</td>\n",
       "      <td>NANYANG TECHNOLOGICAL UNIVERSITY</td>\n",
       "      <td>3</td>\n",
       "      <td>Professional</td>\n",
       "      <td>Education , Training</td>\n",
       "      <td>Cognitive, Emotional and Social Learning (C...</td>\n",
       "      <td>8050.0</td>\n",
       "      <td>16050.0</td>\n",
       "      <td>12050.0</td>\n",
       "      <td>High</td>\n",
       "    </tr>\n",
       "    <tr>\n",
       "      <th>465</th>\n",
       "      <td>MCF-2020-0048630</td>\n",
       "      <td>Permanent</td>\n",
       "      <td>Research Scientist in Artificial Intelligence ...</td>\n",
       "      <td>NANYANG TECHNOLOGICAL UNIVERSITY</td>\n",
       "      <td>3</td>\n",
       "      <td>Professional</td>\n",
       "      <td>Education , Training</td>\n",
       "      <td>Cognitive, Emotional and Social Learning (C...</td>\n",
       "      <td>4600.0</td>\n",
       "      <td>9200.0</td>\n",
       "      <td>6900.0</td>\n",
       "      <td>Med</td>\n",
       "    </tr>\n",
       "    <tr>\n",
       "      <th>466</th>\n",
       "      <td>MCF-2020-0049160</td>\n",
       "      <td>Contract, Permanent</td>\n",
       "      <td>Research Engineer, Social and Cognitive Comput...</td>\n",
       "      <td>A*STAR RESEARCH ENTITIES</td>\n",
       "      <td>NaN</td>\n",
       "      <td>Jr Executive</td>\n",
       "      <td>Engineering, Information Technology, Sciences ...</td>\n",
       "      <td>Artificial Intelligence Systems  Physics an...</td>\n",
       "      <td>3000.0</td>\n",
       "      <td>6000.0</td>\n",
       "      <td>4500.0</td>\n",
       "      <td>Low</td>\n",
       "    </tr>\n",
       "  </tbody>\n",
       "</table>\n",
       "</div>"
      ],
      "text/plain": [
       "               Job_Id             Emp_Type  \\\n",
       "462  MCF-2020-0050095            Permanent   \n",
       "463  MCF-2020-0049508            Permanent   \n",
       "464  MCF-2020-0048653            Permanent   \n",
       "465  MCF-2020-0048630            Permanent   \n",
       "466  MCF-2020-0049160  Contract, Permanent   \n",
       "\n",
       "                                             Job_Title  \\\n",
       "462                                    DevOps Engineer   \n",
       "463                                 Technology Manager   \n",
       "464  Senior Research Scientist in Artificial Intell...   \n",
       "465  Research Scientist in Artificial Intelligence ...   \n",
       "466  Research Engineer, Social and Cognitive Comput...   \n",
       "\n",
       "                              Company Year_Experience     Seniority  \\\n",
       "462                UCARE.IO PTE. LTD.               2  Sr Executive   \n",
       "463            SIMPLIFYNEXT PTE. LTD.               8    Management   \n",
       "464  NANYANG TECHNOLOGICAL UNIVERSITY               3  Professional   \n",
       "465  NANYANG TECHNOLOGICAL UNIVERSITY               3  Professional   \n",
       "466          A*STAR RESEARCH ENTITIES             NaN  Jr Executive   \n",
       "\n",
       "                                              Category  \\\n",
       "462                             Information Technology   \n",
       "463                 Consulting, Information Technology   \n",
       "464                               Education , Training   \n",
       "465                               Education , Training   \n",
       "466  Engineering, Information Technology, Sciences ...   \n",
       "\n",
       "                                          Requirements  Min_Salary  \\\n",
       "462     Develop and lead the code deployment proces...      4000.0   \n",
       "463     Manage project teams within a technical pro...      6000.0   \n",
       "464     Cognitive, Emotional and Social Learning (C...      8050.0   \n",
       "465     Cognitive, Emotional and Social Learning (C...      4600.0   \n",
       "466     Artificial Intelligence Systems  Physics an...      3000.0   \n",
       "\n",
       "     Max_Salary  Avg_Salary Salary_range  \n",
       "462      8000.0      6000.0          Med  \n",
       "463     12000.0      9000.0         High  \n",
       "464     16050.0     12050.0         High  \n",
       "465      9200.0      6900.0          Med  \n",
       "466      6000.0      4500.0          Low  "
      ]
     },
     "execution_count": 51,
     "metadata": {},
     "output_type": "execute_result"
    }
   ],
   "source": [
    "df2 = df2.reset_index()\n",
    "df2 = df2.drop(columns='index')\n",
    "df2.tail()"
   ]
  },
  {
   "cell_type": "code",
   "execution_count": 52,
   "metadata": {},
   "outputs": [],
   "source": [
    "req_empty = []\n",
    "\n",
    "for i in range (len(df2)):\n",
    "    \n",
    "    if((len(df2['Requirements'][i]))<5):\n",
    "        req_empty.append(i)"
   ]
  },
  {
   "cell_type": "code",
   "execution_count": 53,
   "metadata": {},
   "outputs": [
    {
     "name": "stdout",
     "output_type": "stream",
     "text": [
      "(361, 12)\n"
     ]
    },
    {
     "data": {
      "text/html": [
       "<div>\n",
       "<style scoped>\n",
       "    .dataframe tbody tr th:only-of-type {\n",
       "        vertical-align: middle;\n",
       "    }\n",
       "\n",
       "    .dataframe tbody tr th {\n",
       "        vertical-align: top;\n",
       "    }\n",
       "\n",
       "    .dataframe thead th {\n",
       "        text-align: right;\n",
       "    }\n",
       "</style>\n",
       "<table border=\"1\" class=\"dataframe\">\n",
       "  <thead>\n",
       "    <tr style=\"text-align: right;\">\n",
       "      <th></th>\n",
       "      <th>Job_Id</th>\n",
       "      <th>Emp_Type</th>\n",
       "      <th>Job_Title</th>\n",
       "      <th>Company</th>\n",
       "      <th>Year_Experience</th>\n",
       "      <th>Seniority</th>\n",
       "      <th>Category</th>\n",
       "      <th>Requirements</th>\n",
       "      <th>Min_Salary</th>\n",
       "      <th>Max_Salary</th>\n",
       "      <th>Avg_Salary</th>\n",
       "      <th>Salary_range</th>\n",
       "    </tr>\n",
       "  </thead>\n",
       "  <tbody>\n",
       "    <tr>\n",
       "      <th>359</th>\n",
       "      <td>MCF-2020-0048630</td>\n",
       "      <td>Permanent</td>\n",
       "      <td>Research Scientist in Artificial Intelligence ...</td>\n",
       "      <td>NANYANG TECHNOLOGICAL UNIVERSITY</td>\n",
       "      <td>3</td>\n",
       "      <td>Professional</td>\n",
       "      <td>Education , Training</td>\n",
       "      <td>Cognitive, Emotional and Social Learning (C...</td>\n",
       "      <td>4600.0</td>\n",
       "      <td>9200.0</td>\n",
       "      <td>6900.0</td>\n",
       "      <td>Med</td>\n",
       "    </tr>\n",
       "    <tr>\n",
       "      <th>360</th>\n",
       "      <td>MCF-2020-0049160</td>\n",
       "      <td>Contract, Permanent</td>\n",
       "      <td>Research Engineer, Social and Cognitive Comput...</td>\n",
       "      <td>A*STAR RESEARCH ENTITIES</td>\n",
       "      <td>NaN</td>\n",
       "      <td>Jr Executive</td>\n",
       "      <td>Engineering, Information Technology, Sciences ...</td>\n",
       "      <td>Artificial Intelligence Systems  Physics an...</td>\n",
       "      <td>3000.0</td>\n",
       "      <td>6000.0</td>\n",
       "      <td>4500.0</td>\n",
       "      <td>Low</td>\n",
       "    </tr>\n",
       "  </tbody>\n",
       "</table>\n",
       "</div>"
      ],
      "text/plain": [
       "               Job_Id             Emp_Type  \\\n",
       "359  MCF-2020-0048630            Permanent   \n",
       "360  MCF-2020-0049160  Contract, Permanent   \n",
       "\n",
       "                                             Job_Title  \\\n",
       "359  Research Scientist in Artificial Intelligence ...   \n",
       "360  Research Engineer, Social and Cognitive Comput...   \n",
       "\n",
       "                              Company Year_Experience     Seniority  \\\n",
       "359  NANYANG TECHNOLOGICAL UNIVERSITY               3  Professional   \n",
       "360          A*STAR RESEARCH ENTITIES             NaN  Jr Executive   \n",
       "\n",
       "                                              Category  \\\n",
       "359                               Education , Training   \n",
       "360  Engineering, Information Technology, Sciences ...   \n",
       "\n",
       "                                          Requirements  Min_Salary  \\\n",
       "359     Cognitive, Emotional and Social Learning (C...      4600.0   \n",
       "360     Artificial Intelligence Systems  Physics an...      3000.0   \n",
       "\n",
       "     Max_Salary  Avg_Salary Salary_range  \n",
       "359      9200.0      6900.0          Med  \n",
       "360      6000.0      4500.0          Low  "
      ]
     },
     "execution_count": 53,
     "metadata": {},
     "output_type": "execute_result"
    }
   ],
   "source": [
    "#clean & remove row without requirements\n",
    "df2['Requirements']=df2['Requirements'].str.replace('(\\n)', '')\n",
    "df2 = df2.drop(req_empty)\n",
    "df3 = df2.copy()\n",
    "df3 = df3.reset_index()\n",
    "df3 = df3.drop(columns='index')\n",
    "print(df3.shape)\n",
    "df3.tail(2)"
   ]
  },
  {
   "cell_type": "code",
   "execution_count": null,
   "metadata": {},
   "outputs": [],
   "source": [
    "stacked = pd.DataFrame(df3['Category'].str.split(',').tolist()).stack()\n",
    "cat_count = pd.DataFrame(stacked.value_counts(), columns=['Count']).reset_index()"
   ]
  },
  {
   "cell_type": "code",
   "execution_count": null,
   "metadata": {},
   "outputs": [],
   "source": [
    "cat_count1 = []\n",
    "\n",
    "for i in range (len(cat_count)):\n",
    "    cat_count1.append(cat_count['index'][i].lstrip())\n",
    "    \n",
    "cat_clean = list(dict.fromkeys(cat_count1))\n",
    "cat_clean"
   ]
  },
  {
   "cell_type": "code",
   "execution_count": null,
   "metadata": {},
   "outputs": [],
   "source": [
    "#remove comma from cell with string\n",
    "clean_list = \"(,)\"\n",
    "for col in df3.columns.difference(['Year_Experience','Min_Salary','Max_Salary','Avg_Salary']):\n",
    "    df3[col]=df3[col].str.replace(clean_list, \"\")\n",
    "df3.tail(2)"
   ]
  },
  {
   "cell_type": "code",
   "execution_count": null,
   "metadata": {},
   "outputs": [],
   "source": [
    "#remove extra whitespace between string\n",
    "df4 = df3.apply(lambda x: x.str.strip() if x.dtype == \"object\" else x)\n",
    "df4['Year_Experience'] = df4['Year_Experience'].fillna(0)"
   ]
  },
  {
   "cell_type": "code",
   "execution_count": null,
   "metadata": {},
   "outputs": [],
   "source": [
    "df4.head()"
   ]
  },
  {
   "cell_type": "markdown",
   "metadata": {},
   "source": [
    "df4.to_csv('JOB_DATA_v6.csv', index=False)"
   ]
  },
  {
   "cell_type": "code",
   "execution_count": null,
   "metadata": {},
   "outputs": [],
   "source": [
    "#Dummified Seniority columns to use as predictor features\n",
    "seniority_cat=df4['Seniority'].str.get_dummies()\n",
    "salary_cat=df4['Salary_range'].str.get_dummies()"
   ]
  },
  {
   "cell_type": "code",
   "execution_count": null,
   "metadata": {},
   "outputs": [],
   "source": [
    "df = pd.concat([df4, seniority_cat, salary_cat], axis=1)\n",
    "df.shape"
   ]
  },
  {
   "cell_type": "markdown",
   "metadata": {},
   "source": [
    "# QUESTION 1: Factors that impact salary"
   ]
  },
  {
   "cell_type": "code",
   "execution_count": null,
   "metadata": {},
   "outputs": [],
   "source": [
    "from sklearn.feature_extraction.text import CountVectorizer, TfidfVectorizer\n",
    "from sklearn.feature_extraction import stop_words\n",
    "from nltk.corpus import stopwords\n",
    "\n",
    "import nltk\n",
    "nltk.download('stopwords')"
   ]
  },
  {
   "cell_type": "code",
   "execution_count": null,
   "metadata": {},
   "outputs": [],
   "source": [
    "#stop words were added to filter some generic recurring business terms.\n",
    "stop = stopwords.words('english')\n",
    "stop += ['regret','shortlisted', 'candidates','notified','etc', 'take', 'hands','added','able','writting',\n",
    "         'year','years','least', 'related','using', 'and', 'ability','work','skills','advantage','written'\n",
    "        'develop','good','team','design','knowledge','experience','following','areas', 'ability','and','in','to']"
   ]
  },
  {
   "cell_type": "code",
   "execution_count": null,
   "metadata": {},
   "outputs": [],
   "source": [
    "def freq_words(word_count, features):\n",
    "\n",
    "    num_word = np.asarray(word_count.sum(axis=0)).reshape(-1)\n",
    "    most_count = num_word.argsort()[::-1]\n",
    "    key_word = pd.Series(num_word[most_count], \n",
    "                           index=features[most_count])\n",
    "\n",
    "    return key_word"
   ]
  },
  {
   "cell_type": "code",
   "execution_count": null,
   "metadata": {},
   "outputs": [],
   "source": [
    "#most common words for requirements\n",
    "cvt      =  CountVectorizer(lowercase=True, strip_accents='unicode',\n",
    "                       max_features=50000, min_df=1, max_df=0.9,\n",
    "                       stop_words=stop, ngram_range=(1,2))\n",
    "vect_word    =  cvt.fit_transform(df['Requirements'])\n",
    "features  =  np.array(cvt.get_feature_names()) \n",
    "\n",
    "key_word = freq_words(vect_word, features)\n",
    "key_word[key_word<5]"
   ]
  },
  {
   "cell_type": "code",
   "execution_count": null,
   "metadata": {},
   "outputs": [],
   "source": [
    "new_stop = key_word[key_word<5].index\n",
    "stop.extend(new_stop)"
   ]
  },
  {
   "cell_type": "code",
   "execution_count": null,
   "metadata": {},
   "outputs": [],
   "source": [
    "#word count function\n",
    "\n",
    "def word_count(df_col):\n",
    "\n",
    "    str_counts = 0\n",
    "    sum_str = 0\n",
    "\n",
    "    for i in range (len(df_col)):    \n",
    "        str_counts = len(df_col[i].split())\n",
    "        sum_str = sum_str + str_counts\n",
    "\n",
    "    print(sum_str)"
   ]
  },
  {
   "cell_type": "code",
   "execution_count": null,
   "metadata": {},
   "outputs": [],
   "source": [
    "word_count(df4['Requirements'])"
   ]
  },
  {
   "cell_type": "code",
   "execution_count": null,
   "metadata": {},
   "outputs": [],
   "source": [
    "df5 = df4.copy()"
   ]
  },
  {
   "cell_type": "code",
   "execution_count": null,
   "metadata": {},
   "outputs": [],
   "source": [
    "#stop word filter\n",
    "\n",
    "pat = r'\\b(?:{})\\b'.format('|'.join(stop))\n",
    "df5['Requirements'] = df5['Requirements'].str.replace(pat, '')\n",
    "df5['Requirements'] = df5['Requirements'].map(lambda x: x.strip())\n",
    "df5['Requirements'] = df5['Requirements'].replace({' +':' '},regex=True)"
   ]
  },
  {
   "cell_type": "code",
   "execution_count": null,
   "metadata": {},
   "outputs": [],
   "source": [
    "word_count(df5['Requirements'])"
   ]
  },
  {
   "cell_type": "code",
   "execution_count": null,
   "metadata": {},
   "outputs": [],
   "source": [
    "from collections import Counter\n",
    "import re\n",
    "\n",
    "rows_list = []\n",
    "word_df = pd.DataFrame()\n",
    "\n",
    "for i in range (len(df5['Requirements'])): \n",
    "    \n",
    "    words = re.findall('\\w+', df5['Requirements'][i])\n",
    "#    print(words[:10])\n",
    "    top_10 = Counter(words).most_common(10)\n",
    "    counts = Counter(words).values()\n",
    "#    rows_list.append(top_10)\n",
    "#   print(rows_list)\n",
    "    df = pd.DataFrame(top_10, columns = ['Word', 'Counts'])\n",
    "    word_df = pd.concat([word_df, df])\n",
    "    \n",
    "word_df = word_df.reset_index()\n",
    "word_df.shape\n",
    "#dict1 = pd.DataFrame(rows_list)\n",
    "#dict1"
   ]
  },
  {
   "cell_type": "code",
   "execution_count": null,
   "metadata": {},
   "outputs": [],
   "source": [
    "word_df.head()"
   ]
  },
  {
   "cell_type": "code",
   "execution_count": null,
   "metadata": {},
   "outputs": [],
   "source": [
    "word_df = word_df.drop(columns=['index'])"
   ]
  },
  {
   "cell_type": "code",
   "execution_count": null,
   "metadata": {},
   "outputs": [],
   "source": [
    "df_word = word_df.groupby('Word')['Counts'].sum()\n",
    "df_word = df_word.sort_values(ascending=False)\n",
    "print(df_word.shape)\n",
    "df_word.head(20)"
   ]
  },
  {
   "cell_type": "markdown",
   "metadata": {},
   "source": [
    "df5.to_csv('JOB_DATA_v8.csv', index=False, encoding='utf-8')"
   ]
  },
  {
   "cell_type": "markdown",
   "metadata": {},
   "source": [
    "Checking keyword with countvetorizer with number of features set to 1500, minimun appearance of 5 times from different row and maximum apperance of not more than 70% in the overall dataset. Common word for data related job such as data, skills, knowledge, ability still can be observed after the setting the parameters."
   ]
  },
  {
   "cell_type": "code",
   "execution_count": null,
   "metadata": {},
   "outputs": [],
   "source": [
    "#most common ngrams for requirements\n",
    "cvt = CountVectorizer(lowercase=True, strip_accents='unicode',\n",
    "                       max_features=1500, min_df=5, max_df=0.6,\n",
    "                       stop_words=stop, ngram_range=(2,2))\n",
    "vect_word = cvt.fit_transform(df5['Requirements'])\n",
    "features  =  np.array(cvt.get_feature_names())\n",
    "\n",
    "key_word = freq_words(vect_word, features)\n",
    "key_word[:20]"
   ]
  },
  {
   "cell_type": "markdown",
   "metadata": {},
   "source": [
    "Limit ngram to 2, data science related keywords can be observed such as machine learning, big data and computer science"
   ]
  },
  {
   "cell_type": "code",
   "execution_count": null,
   "metadata": {},
   "outputs": [],
   "source": [
    "tfid = TfidfVectorizer(lowercase=True, strip_accents='unicode',\n",
    "                       max_features=1500, min_df=5, max_df=0.7,\n",
    "                       stop_words=stop, ngram_range=(2,2))\n",
    "tfid_word = tfid.fit_transform(df5['Requirements'])\n",
    "features  =  np.array(tfid.get_feature_names())\n",
    "\n",
    "key_word = freq_words(tfid_word, features)\n",
    "key_word[:10]"
   ]
  },
  {
   "cell_type": "markdown",
   "metadata": {},
   "source": [
    "Tried with TFID vectorizer on ngam=2 but result shows no siginifiant different from Count vectorizer, hence for the modeling will just stick with Count Vectorizer"
   ]
  },
  {
   "cell_type": "code",
   "execution_count": null,
   "metadata": {},
   "outputs": [],
   "source": [
    "#CountVectorizer job requirements columns\n",
    "cvec = CountVectorizer(lowercase=True, strip_accents='unicode',\n",
    "                       max_features=1500, min_df=5, max_df=0.7, \n",
    "                       stop_words=stop,ngram_range=(2,3))\n",
    "cvec.fit(df['Requirements'])"
   ]
  },
  {
   "cell_type": "code",
   "execution_count": null,
   "metadata": {},
   "outputs": [],
   "source": [
    "print(df.shape)\n",
    "#df = df.drop(columns='Job_Id')\n",
    "df.tail(2)"
   ]
  },
  {
   "cell_type": "code",
   "execution_count": null,
   "metadata": {},
   "outputs": [],
   "source": [
    "df[df['Salary_range'].isnull()]"
   ]
  },
  {
   "cell_type": "code",
   "execution_count": null,
   "metadata": {},
   "outputs": [],
   "source": [
    "sal_no_range = df['Salary_range'].isnull()\n",
    "df1 = df[~sal_no_range].reset_index()\n",
    "df1 = df1.drop(columns='index')"
   ]
  },
  {
   "cell_type": "code",
   "execution_count": null,
   "metadata": {},
   "outputs": [],
   "source": [
    "df1.head()"
   ]
  },
  {
   "cell_type": "code",
   "execution_count": null,
   "metadata": {},
   "outputs": [],
   "source": [
    "#creating predictor and target dataset\n",
    "model_data = df1.drop(columns=['Job_Title','Company','Seniority','Category','Min_Salary',\n",
    "                               'Max_Salary','Emp_Type', 'Avg_Salary'])\n",
    "\n",
    "nlp = pd.DataFrame(cvec.transform(model_data['Requirements']).todense(),columns=cvec.get_feature_names())\n",
    "\n",
    "senior_nlp = pd.concat([model_data, nlp], axis=1)"
   ]
  },
  {
   "cell_type": "code",
   "execution_count": null,
   "metadata": {},
   "outputs": [],
   "source": [
    "print(model_data.shape)\n",
    "print(nlp.shape)\n",
    "print(senior_nlp.shape)"
   ]
  },
  {
   "cell_type": "code",
   "execution_count": null,
   "metadata": {},
   "outputs": [],
   "source": [
    "nlp.head()"
   ]
  },
  {
   "cell_type": "code",
   "execution_count": null,
   "metadata": {},
   "outputs": [],
   "source": [
    "X = senior_nlp.drop(columns=['Salary_range','Requirements'])\n",
    "X_nlp = nlp\n",
    "y = senior_nlp['Salary_range'].values\n",
    "X.shape"
   ]
  },
  {
   "cell_type": "code",
   "execution_count": null,
   "metadata": {},
   "outputs": [],
   "source": [
    "#Data with dummified 'seniority' and countvectorized 'requirements'\n",
    "X_train, X_test, y_train, y_test = train_test_split(X, y, test_size=0.3, random_state=42)"
   ]
  },
  {
   "cell_type": "code",
   "execution_count": null,
   "metadata": {},
   "outputs": [],
   "source": [
    "print('X_Train',X_train.shape)\n",
    "print('y_Train',y_train.shape)\n",
    "print('X_Test',X_test.shape)\n",
    "print('y_Test',y_test.shape)"
   ]
  },
  {
   "cell_type": "code",
   "execution_count": null,
   "metadata": {},
   "outputs": [],
   "source": [
    "#Data with countvectorized 'requirements' only\n",
    "X_train_nlp, X_test_nlp, y_train_nlp, y_test_nlp = train_test_split(X_nlp, y, test_size=0.3, random_state=42)"
   ]
  },
  {
   "cell_type": "code",
   "execution_count": null,
   "metadata": {},
   "outputs": [],
   "source": [
    "print('X_Train_nlp',X_train_nlp.shape)\n",
    "print('y_Train_nlp',y_train_nlp.shape)\n",
    "print('X_Test_nlp',X_test_nlp.shape)\n",
    "print('y_Test_nlp',y_test_nlp.shape)"
   ]
  },
  {
   "cell_type": "markdown",
   "metadata": {},
   "source": [
    "### Choosing the best model (Logistic, AdaBoost or RandomForest)"
   ]
  },
  {
   "cell_type": "code",
   "execution_count": null,
   "metadata": {},
   "outputs": [],
   "source": [
    "from sklearn.tree import DecisionTreeClassifier"
   ]
  },
  {
   "cell_type": "code",
   "execution_count": null,
   "metadata": {},
   "outputs": [],
   "source": [
    "dtc = DecisionTreeClassifier(max_depth=4, random_state=42)\n",
    "dtc = dtc.fit(X_train , y_train)\n",
    "\n",
    "dtc1 = DecisionTreeClassifier(max_depth=4, random_state=42)\n",
    "dtc_nlp = dtc1.fit(X_train_nlp , y_train_nlp)"
   ]
  },
  {
   "cell_type": "code",
   "execution_count": null,
   "metadata": {},
   "outputs": [],
   "source": [
    "print(classification_report(y_test,dtc.predict(X_test),target_names=[\"Low\", \"Med\", \"High\"]))"
   ]
  },
  {
   "cell_type": "code",
   "execution_count": null,
   "metadata": {},
   "outputs": [],
   "source": [
    "pd.DataFrame(confusion_matrix(y_test,dtc.predict(X_test)),\n",
    "             index=['Actual Low','Actual Med', 'Actual High'],\n",
    "             columns=['Pred Low','Pred Med','Pred High'])"
   ]
  },
  {
   "cell_type": "code",
   "execution_count": null,
   "metadata": {},
   "outputs": [],
   "source": [
    "print(classification_report(y_test_nlp,dtc_nlp.predict(X_test_nlp),target_names=[\"Low\", \"Med\", \"High\"]))"
   ]
  },
  {
   "cell_type": "code",
   "execution_count": null,
   "metadata": {},
   "outputs": [],
   "source": [
    "pd.DataFrame(confusion_matrix(y_test_nlp,dtc_nlp.predict(X_test_nlp)),\n",
    "             index=['Actual Low','Actual Med', 'Actual High'],\n",
    "             columns=['Pred Low','Pred Med','Pred High'])"
   ]
  },
  {
   "cell_type": "markdown",
   "metadata": {},
   "source": [
    "#Logistic regression model (can't use on multiclass target)\n",
    "from sklearn.linear_model import LogisticRegression\n",
    "lr = LogisticRegression()\n",
    "lr.fit(X_train, y_train)\n",
    "print('CV score on NLP+Seniority dummy data:', np.mean(cross_val_score(lr, X_train, y_train, cv=5, scoring='roc_auc')))\n",
    "print('CV score on NLP data:', np.mean(cross_val_score(lr, X_train_nlp, y_train_nlp, cv=5, scoring='roc_auc')))"
   ]
  },
  {
   "cell_type": "markdown",
   "metadata": {},
   "source": [
    "#Adaboost model\n",
    "from sklearn.ensemble import AdaBoostClassifier\n",
    "Ada = AdaBoostClassifier(random_state=42)\n",
    "Ada.fit(X_train, y_train)\n",
    "print('CV score on NLP+Seniority dummy data:', np.mean(cross_val_score(Ada, X_train, y_train, cv=5, scoring='roc_auc')))\n",
    "print('CV score on NLP data:', np.mean(cross_val_score(Ada, X_train_nlp, y_train_nlp, cv=5, scoring='roc_auc')))"
   ]
  },
  {
   "cell_type": "markdown",
   "metadata": {},
   "source": [
    "#RandomForest model\n",
    "from sklearn.ensemble import RandomForestClassifier\n",
    "rfc=RandomForestClassifier(random_state=42)\n",
    "rfc.fit(X_train,y_train)\n",
    "print('CV score on NLP+Seniority dummy data:', np.mean(cross_val_score(rfc, X_train, y_train, cv=5, scoring='roc_auc')))\n",
    "print('CV score on NLP data:', np.mean(cross_val_score(rfc, X_train_nlp, y_train_nlp, cv=5, scoring='roc_auc')))"
   ]
  },
  {
   "cell_type": "markdown",
   "metadata": {},
   "source": [
    "Data consists of dummified seniority plus CountVectorized requirements provide better cross val score across all models. Logistic regression model performed better in cross val score compare to ensemble models (AdaBoost and RandomForest)."
   ]
  },
  {
   "cell_type": "markdown",
   "metadata": {},
   "source": [
    "### Logistic regression model with hyperparameter tune and classfication report"
   ]
  },
  {
   "cell_type": "code",
   "execution_count": null,
   "metadata": {},
   "outputs": [],
   "source": [
    "#hyperparameter tune for logistic regression\n",
    "lr_params = {'penalty': ['l1','l2'], 'C': [0.001,0.01,0.1,1,10,100,1000]}\n",
    "gs_lr = GridSearchCV(lr, param_grid=lr_params, cv=5, scoring='roc_auc', n_jobs=-1)\n",
    "gs_lr.fit(X_train,y_train)\n",
    "\n",
    "lr_c2=gs_lr.best_estimator_\n",
    "lr_c2.fit(X_train,y_train)\n",
    "\n",
    "print('CV score on train data:', np.mean(cross_val_score(lr_c2, X_train, y_train, cv=5, scoring='roc_auc')))\n",
    "print('CV score on test data:', np.mean(cross_val_score(lr_c2, X_test, y_test, cv=5, scoring='roc_auc')))"
   ]
  },
  {
   "cell_type": "code",
   "execution_count": null,
   "metadata": {},
   "outputs": [],
   "source": [
    "pd.DataFrame(confusion_matrix(y_test,lr_c2.predict(X_test)),\n",
    "             index=['Actual Low Salary','Actual High Salary'],\n",
    "             columns=['Predicted Low Salary','Predicted High Salary'])"
   ]
  },
  {
   "cell_type": "code",
   "execution_count": null,
   "metadata": {},
   "outputs": [],
   "source": [
    "print(classification_report(y_test,lr_c2.predict(X_test),target_names=[\"Low Salary\", \"High Salary\"]))"
   ]
  },
  {
   "cell_type": "markdown",
   "metadata": {},
   "source": [
    "Both class under train/test data are balance, so AUC score was chosen as valuation parameter. In overall the model is able to predict better than the baseline.\n",
    "Recall for low salary indicates 23 out of 75 low salary jobs are predicted as high salary which is the major concern for bonus question. This will be handled in the next part."
   ]
  },
  {
   "cell_type": "code",
   "execution_count": null,
   "metadata": {},
   "outputs": [],
   "source": [
    "features = np.array(X_train.columns)\n",
    "lr_coefs = pd.DataFrame({'coef':lr_c2.coef_[0], 'abs coef':abs(lr_c2.coef_[0])},index=features)\n",
    "lr_coefs = lr_coefs.sort_values('coef',ascending=False)\n",
    "lr_coefs.head(5)"
   ]
  },
  {
   "cell_type": "code",
   "execution_count": null,
   "metadata": {},
   "outputs": [],
   "source": [
    "lr_coefs.tail(5)"
   ]
  },
  {
   "cell_type": "markdown",
   "metadata": {},
   "source": [
    "Logisitic regression model is able to provide both positive and negative coefficient, which allow us to find out features that contribute to high salary and low salary as well.\n",
    "From the features, apart from seniority level, education level such as phD holder vs diploma, work experience and skill such as hadoop have a direct impact on the salary."
   ]
  },
  {
   "cell_type": "markdown",
   "metadata": {},
   "source": [
    "### Random Forest model with hyperparameter tune and classfication report"
   ]
  },
  {
   "cell_type": "code",
   "execution_count": null,
   "metadata": {},
   "outputs": [],
   "source": [
    "rfc_params={\n",
    " 'max_depth': [10, 20, 30, 40, 50, 60, 70, 80, 90, 100, None],\n",
    " 'n_estimators': [50,100,150,200]}\n",
    "\n",
    "gs_rfc=GridSearchCV(rfc, rfc_params, cv=5, scoring='roc_auc', n_jobs=-1)\n",
    "gs_rfc.fit(X_train,y_train)\n",
    "\n",
    "rfc2=gs_rfc.best_estimator_\n",
    "rfc2.fit(X_train,y_train)\n",
    "\n",
    "print('CV score on train data:', np.mean(cross_val_score(rfc2, X_train, y_train, cv=5, scoring='roc_auc')))\n",
    "print('CV score on test data:', np.mean(cross_val_score(rfc2, X_test, y_test, cv=5, scoring='roc_auc')))"
   ]
  },
  {
   "cell_type": "code",
   "execution_count": null,
   "metadata": {},
   "outputs": [],
   "source": [
    "pd.DataFrame(confusion_matrix(y_test,rfc2.predict(X_test)),\n",
    "             index=['Actual Low Salary','Actual High Salary'],\n",
    "             columns=['Predicted Low Salary','Predicted High Salary'])"
   ]
  },
  {
   "cell_type": "code",
   "execution_count": null,
   "metadata": {},
   "outputs": [],
   "source": [
    "print(classification_report(y_test,rfc2.predict(X_test),target_names=[\"Low Salary\", \"High Salary\"]))"
   ]
  },
  {
   "cell_type": "markdown",
   "metadata": {},
   "source": [
    "From the test data cross val score, random forest is slightly lower compare to logistic regression but higher precision and recall score"
   ]
  },
  {
   "cell_type": "code",
   "execution_count": null,
   "metadata": {},
   "outputs": [],
   "source": [
    "features = np.array(X_train.columns)\n",
    "rf_coefs = pd.DataFrame({'coef':rfc2.feature_importances_},index=features)\n",
    "rf_coefs.sort_values('coef',ascending = False).head(10)"
   ]
  },
  {
   "cell_type": "markdown",
   "metadata": {},
   "source": [
    "Random Forest model importance feature also indicates certain features which appeared in logisitic regression model such as diploma, hadoop, modeling and seniority level"
   ]
  },
  {
   "cell_type": "markdown",
   "metadata": {},
   "source": [
    "### AdaBoost model with hyperparameter tune and classfication report"
   ]
  },
  {
   "cell_type": "code",
   "execution_count": null,
   "metadata": {},
   "outputs": [],
   "source": [
    "ada_params = {'n_estimators' : [50,100,150,200,250,500],'learning_rate' : [.5,.75,1.0,1.25,1.5,1.75,2.0]}\n",
    "gs_ada = GridSearchCV(Ada, param_grid=ada_params, cv=5, scoring='roc_auc', n_jobs=-1)\n",
    "gs_ada.fit(X_train,y_train)\n",
    "\n",
    "ada_c2=gs_ada.best_estimator_\n",
    "ada_c2.fit(X_train,y_train)\n",
    "\n",
    "print('CV score on train data:', np.mean(cross_val_score(ada_c2, X_train, y_train, cv=5, scoring='roc_auc')))\n",
    "print('CV score on test data:', np.mean(cross_val_score(ada_c2, X_test, y_test, cv=5, scoring='roc_auc')))"
   ]
  },
  {
   "cell_type": "code",
   "execution_count": null,
   "metadata": {},
   "outputs": [],
   "source": [
    "pd.DataFrame(confusion_matrix(y_test,ada_c2.predict(X_test)),\n",
    "             index=['Actual Low Salary','Actual High Salary'],\n",
    "             columns=['Predicted Low Salary','Predicted High Salary'])"
   ]
  },
  {
   "cell_type": "code",
   "execution_count": null,
   "metadata": {},
   "outputs": [],
   "source": [
    "print(classification_report(y_test,ada_c2.predict(X_test),target_names=[\"Low Salary\", \"High Salary\"]))"
   ]
  },
  {
   "cell_type": "markdown",
   "metadata": {},
   "source": [
    "Adaboost test data cross val score ranked second but with the highest precision and recall score among all"
   ]
  },
  {
   "cell_type": "code",
   "execution_count": null,
   "metadata": {},
   "outputs": [],
   "source": [
    "features = np.array(X_train.columns)\n",
    "ada_coefs = pd.DataFrame({'coef':ada_c2.feature_importances_},index=features)\n",
    "ada_coefs.sort_values('coef',ascending = False).head(10)"
   ]
  },
  {
   "cell_type": "markdown",
   "metadata": {},
   "source": [
    "With no suprise that seniority play a big part as predictor, phD is being captured by Adaboost as one of the top predictor which is the same as logisitic regression model"
   ]
  },
  {
   "cell_type": "code",
   "execution_count": null,
   "metadata": {},
   "outputs": [],
   "source": [
    "#ROC curve and AUC score for all 3 models\n",
    "\n",
    "y_score_lr = lr_c2.predict_proba(X_test)[:,1]\n",
    "y_score_ada = ada_c2.predict_proba(X_test)[:,1]\n",
    "y_score_rf = rfc2.predict_proba(X_test)[:,1]\n",
    "\n",
    "FPR1, TPR1, THR1 = roc_curve(y_test,y_score_lr)\n",
    "FPR2, TPR2, THR2 = roc_curve(y_test,y_score_ada)\n",
    "FPR3, TPR3, THR3 = roc_curve(y_test,y_score_rf)\n",
    "ROC_AUC1=auc(FPR1,TPR1)\n",
    "ROC_AUC2=auc(FPR2,TPR2)\n",
    "ROC_AUC3=auc(FPR3,TPR3)\n",
    "\n",
    "plt.plot(FPR1, TPR1, label='Logistic Regression ROC curve (area = %0.3f)' % ROC_AUC1, linewidth=4)\n",
    "plt.plot(FPR2, TPR2, label='AdaBoost ROC curve (area = %0.3f)' % ROC_AUC2, linewidth=4)\n",
    "plt.plot(FPR3, TPR3, label='RandomForest ROC curve (area = %0.3f)' % ROC_AUC3, linewidth=4)\n",
    "\n",
    "plt.plot([0, 1], [0, 1], 'k--', linewidth=3)\n",
    "plt.xlim([-0.01, 1.0])\n",
    "plt.ylim([0.0, 1.05])\n",
    "plt.xlabel('False Positive Rate', fontsize=12)\n",
    "plt.ylabel('True Positive Rate', fontsize=12)\n",
    "plt.title('ROC curve for High Salary detection', fontsize=18)\n",
    "plt.legend(loc=\"lower right\")\n",
    "plt.show()"
   ]
  },
  {
   "cell_type": "markdown",
   "metadata": {},
   "source": [
    "Based on AUC score, logistic regression is the highest among 3 models but Adaboost model turn out to have higher precision and recall score which is better for prediction. Logistic regression on the other hand is able to provide positive and negative coeffient which is important to determine which features contribute to higher salary."
   ]
  },
  {
   "cell_type": "code",
   "execution_count": null,
   "metadata": {},
   "outputs": [],
   "source": [
    "#Top 10 features from all 3 models\n",
    "Ada_feat = ada_coefs.sort_values('coef',ascending = False).head(10).index\n",
    "Logit_reg = lr_coefs.sort_values('abs coef',ascending=False).head(10).index\n",
    "rf_feat = rf_coefs.sort_values('coef',ascending = False).head(10).index\n",
    "\n",
    "sal_features = pd.DataFrame({'AdaBoost model':Ada_feat, 'Logistic model':Logit_reg, 'Random Forest':rf_feat})\n",
    "sal_features"
   ]
  },
  {
   "cell_type": "code",
   "execution_count": null,
   "metadata": {},
   "outputs": [],
   "source": [
    "#Positive and negative coefficient chart from logistic regression model\n",
    "imp_coefs = pd.concat([lr_coefs.sort_values('coef',ascending = True).head(5),\n",
    "                     lr_coefs.sort_values('coef',ascending = True).tail(5)])\n",
    "imp_coefs['coef'].plot(kind = \"barh\")\n"
   ]
  },
  {
   "cell_type": "markdown",
   "metadata": {},
   "source": [
    "## Question 1 conclusion\n",
    "\n",
    "### Factos that impact salary:\n",
    "\n",
    "In conclusion, all 3 models AUC are better than baseline\n",
    "\n",
    "Logistic regression model topped the AUC score but Adaboost has better precision and recall score. Logistic regression model is able to provide better insight due to positive and negative coefficient.\n",
    "\n",
    "Top 5 job requirements which have positive coefficient for higher salary are PhD, managerial level, modeling skill, knowledge in Hadoop and work experience is a must.\n",
    "\n",
    "Top 5 job requirements which have negative coefficient on the salary are diploma, seniority level which is below management and senior executive\n",
    "\n",
    "We can conclude that in overall seniority features is one of the main factor for salary above or below median. \n",
    "Other than seniority, education level and specific skills such as modeling skill, statistical skill and Hadoop are also part of the greatest importance feature\n"
   ]
  },
  {
   "cell_type": "markdown",
   "metadata": {},
   "source": [
    "### BONUS PROBLEM\n",
    "\n",
    "Your boss would rather tell a client incorrectly that they would get a lower salary job than tell a client incorrectly that they would get a high salary job. Adjust one of your models to ease his mind, and explain what it is doing and any tradeoffs. Plot the ROC curve."
   ]
  },
  {
   "cell_type": "markdown",
   "metadata": {},
   "source": [
    "For this problem, AdaBoost model is selected for high precision and recall score. In this care, we will try to increase the recall score for low salary (means less false positive). \n",
    "\n",
    "Report below from question 1 Adaboost model, with Low Salary recall socre at 0.77\n",
    "\n",
    "Low Salary 0.72 (precision), 0.77 (recall), 0.75 (score)\n",
    "  \n",
    "High Salary 0.81 (precision), 0.76  (recall), 0.78  (score) "
   ]
  },
  {
   "cell_type": "code",
   "execution_count": null,
   "metadata": {},
   "outputs": [],
   "source": [
    "#confusion matrix from question 1 AdaBoost prediction\n",
    "pd.DataFrame(confusion_matrix(y_test,ada_c2.predict(X_test)),\n",
    "             index=['Actual Low Salary','Actual High Salary'],\n",
    "             columns=['Predicted Low Salary','Predicted High Salary'])"
   ]
  },
  {
   "cell_type": "markdown",
   "metadata": {},
   "source": [
    "#### Adjusting prediction threshold value to improve recall score"
   ]
  },
  {
   "cell_type": "code",
   "execution_count": null,
   "metadata": {},
   "outputs": [],
   "source": [
    "#re-predict y based on threshold value given\n",
    "def re_predict (y, threshold):\n",
    "        if y >= threshold:\n",
    "            return 1\n",
    "        else:\n",
    "            return 0"
   ]
  },
  {
   "cell_type": "code",
   "execution_count": null,
   "metadata": {},
   "outputs": [],
   "source": [
    "#adjusted threshold value from 0.50 to 0.51\n",
    "pred_y = ada_c2.predict_proba(X_test)\n",
    "new_pred = []\n",
    "for i in range(len(pred_y)):\n",
    "    new_pred.append(re_predict(pred_y[i,1], 0.51))"
   ]
  },
  {
   "cell_type": "code",
   "execution_count": null,
   "metadata": {},
   "outputs": [],
   "source": [
    "pd.DataFrame(confusion_matrix(y_test,new_pred),\n",
    "             index=['Actual Low Salary','Actual High Salary'],\n",
    "             columns=['Predicted Low Salary','Predicted High Salary'])"
   ]
  },
  {
   "cell_type": "code",
   "execution_count": null,
   "metadata": {},
   "outputs": [],
   "source": [
    "print(classification_report(y_test,new_pred,target_names=[\"Low Salary\", \"High Salary\"]))"
   ]
  },
  {
   "cell_type": "markdown",
   "metadata": {},
   "source": [
    "By tuning the thresold value from 0.5 to 0.51, we managed to increase the recall score for low salary from 0.77 to 0.92 and meet the objective - lower rate of predicting low salary as high salary. Now the model became more sensitive in predicting low salary.\n",
    "\n",
    "The tradeoffs for tuning the threshold is losing the precision for low salary, more high salary jobs are now predicted as low salary."
   ]
  },
  {
   "cell_type": "code",
   "execution_count": null,
   "metadata": {},
   "outputs": [],
   "source": [
    "FPR1, TPR1, THR1 = roc_curve(y_test, pred_y[:,1])\n",
    "FPR2, TPR2, THR2 = roc_curve(y_test, new_pred)\n",
    "ROC_AUC1=auc(FPR1,TPR1)\n",
    "ROC_AUC2=auc(FPR2,TPR2)\n",
    "\n",
    "plt.plot(FPR1, TPR1, label='AdaBoost 0.50 threshold (area = %0.3f)' % ROC_AUC1, linewidth=4)\n",
    "plt.plot(FPR2, TPR2, label='AdaBoost 0.51 threshold (area = %0.3f)' % ROC_AUC2, linewidth=4)\n",
    "\n",
    "plt.plot([0, 1], [0, 1], 'k--', linewidth=3)\n",
    "plt.xlim([-0.01, 1.0])\n",
    "plt.ylim([0.0, 1.05])\n",
    "plt.xlabel('False Positive Rate', fontsize=12)\n",
    "plt.ylabel('True Positive Rate', fontsize=12)\n",
    "plt.title('ROC curve for different threshold value', fontsize=18)\n",
    "plt.legend(loc=\"lower right\")\n",
    "plt.show()"
   ]
  },
  {
   "cell_type": "markdown",
   "metadata": {},
   "source": [
    "Plotting out the ROC curve with default 0.50 threshold and adjusted 0.51 threshold. AUC score falls significantly from 0.82 to 0.66 indicating both high salary and low salary distribution are overlaping more than before. The adjusted model only has 66% of chance to distinguish between high and low salary class."
   ]
  },
  {
   "cell_type": "markdown",
   "metadata": {},
   "source": [
    "### Question 2:\n",
    "Identify features in the data related to job postings that can distinguish job titles from each other. \n",
    "What components of a job posting distinguish data scientists from other data jobs?"
   ]
  },
  {
   "cell_type": "code",
   "execution_count": null,
   "metadata": {},
   "outputs": [],
   "source": [
    "job_title = job_clean[['Job_Title','Requirements']]"
   ]
  },
  {
   "cell_type": "code",
   "execution_count": null,
   "metadata": {},
   "outputs": [],
   "source": [
    "#job titles containing keywords below are considered as data scientists role\n",
    "title_key = ['SCIENCE','SCIENCTIST','MACHINE','DEEP','NLP','ANALYST','ANALYTIC']\n",
    "key = '|'.join(title_key)"
   ]
  },
  {
   "cell_type": "code",
   "execution_count": null,
   "metadata": {},
   "outputs": [],
   "source": [
    "#1 for data science role, 0 for others\n",
    "job_title[\"data_science\"] = np.where(job_title['Job_Title'].str.upper().str.contains(key), 1, 0)"
   ]
  },
  {
   "cell_type": "code",
   "execution_count": null,
   "metadata": {},
   "outputs": [],
   "source": [
    "job_title.head()"
   ]
  },
  {
   "cell_type": "code",
   "execution_count": null,
   "metadata": {},
   "outputs": [],
   "source": [
    "job_title['data_science'].value_counts()"
   ]
  },
  {
   "cell_type": "code",
   "execution_count": null,
   "metadata": {},
   "outputs": [],
   "source": [
    "#baseline to predict data science job is 0.11, which indicate this is a imbalance data\n",
    "job_title[job_title['data_science']==1].count().Job_Title/len(job_title['data_science'])"
   ]
  },
  {
   "cell_type": "code",
   "execution_count": null,
   "metadata": {},
   "outputs": [],
   "source": [
    "from sklearn.feature_extraction.text import CountVectorizer, TfidfVectorizer\n",
    "from sklearn.feature_extraction import stop_words\n",
    "from nltk.corpus import stopwords\n",
    "\n",
    "#CountVectorizer job requirements columns\n",
    "stop = stopwords.words('english')\n",
    "stop += ['regret','shortlisted', 'candidates','notified','etc', 'take', 'hands',\n",
    "         'related','least','able','good','preferred','skill','experience','degree',\n",
    "         'hours', 'work', 'gce','last']\n",
    "\n",
    "cvec = CountVectorizer(lowercase=True, strip_accents='unicode',\n",
    "                       max_features=1500, min_df=5, max_df=0.3, \n",
    "                       stop_words=stop,ngram_range=(1,2))\n",
    "cvec.fit(job_title['Requirements'])"
   ]
  },
  {
   "cell_type": "code",
   "execution_count": null,
   "metadata": {},
   "outputs": [],
   "source": [
    "nlp = pd.DataFrame(cvec.transform(job_title['Requirements']).todense(),\n",
    "                   columns=cvec.get_feature_names())"
   ]
  },
  {
   "cell_type": "code",
   "execution_count": null,
   "metadata": {},
   "outputs": [],
   "source": [
    "X = nlp\n",
    "y = job_title['data_science'].values"
   ]
  },
  {
   "cell_type": "code",
   "execution_count": null,
   "metadata": {},
   "outputs": [],
   "source": [
    "#Data with dummified 'seniority' and countvectorized 'requirements'\n",
    "X_train, X_test, y_train, y_test = train_test_split(X, y, test_size=0.2, random_state=42)"
   ]
  },
  {
   "cell_type": "code",
   "execution_count": null,
   "metadata": {},
   "outputs": [],
   "source": [
    "from sklearn.utils import class_weight\n",
    "class_weights = dict({0:1.,1:15.})\n",
    "\n",
    "from sklearn.linear_model import LogisticRegression\n",
    "from sklearn.ensemble import RandomForestClassifier\n",
    "\n",
    "lr = LogisticRegression()\n",
    "lr.fit(X_train, y_train)\n",
    "\n",
    "rfc = RandomForestClassifier(class_weight=class_weights, random_state=42)\n",
    "rfc.fit(X_train, y_train)\n",
    "\n",
    "print('Logistic reg auc score:', np.mean(cross_val_score(lr, X_train, y_train, cv=5, scoring ='roc_auc')))\n",
    "print('Logistic reg f1 score:', np.mean(cross_val_score(lr, X_train, y_train, cv=5, scoring ='f1')))\n",
    "print('RandomForest auc score:', np.mean(cross_val_score(rfc, X_train, y_train, cv=5, scoring ='roc_auc')))\n",
    "print('RandomForest f1 score:', np.mean(cross_val_score(rfc, X_train, y_train, cv=5, scoring ='f1')))"
   ]
  },
  {
   "cell_type": "markdown",
   "metadata": {},
   "source": [
    "Both models gave AUC socre of more than 0.80 but due to imbalance class, f1 score will be use to train the model"
   ]
  },
  {
   "cell_type": "markdown",
   "metadata": {},
   "source": [
    "### Hyperparameter for logistic regression and random forest model\n",
    "Using f1 score for gridsearch and scoring instead of auc score due to imbalance data on DS class"
   ]
  },
  {
   "cell_type": "code",
   "execution_count": null,
   "metadata": {},
   "outputs": [],
   "source": [
    "#hyperparameter tune for logistic regression (gridsearch based on f1 score)\n",
    "lr_params = {'penalty': ['l1','l2'], 'C': [0.001,0.01,0.1,1,10,100,1000]}\n",
    "gs_lrf = GridSearchCV(lr, param_grid=lr_params, cv=5, scoring='f1', n_jobs=-1)\n",
    "gs_lrf.fit(X_train,y_train)\n",
    "\n",
    "lr_c2f=gs_lrf.best_estimator_\n",
    "lr_c2f.fit(X_train,y_train)\n",
    "\n",
    "print('Cross val f1 score on train data:', np.mean(cross_val_score(lr_c2f, X_train, y_train, cv=5, scoring='f1')))"
   ]
  },
  {
   "cell_type": "code",
   "execution_count": null,
   "metadata": {},
   "outputs": [],
   "source": [
    "pd.DataFrame(confusion_matrix(y_test,lr_c2f.predict(X_test)),\n",
    "             index=['Actual Other job','Actual DS job'],\n",
    "             columns=['Predicted Other job','Predicted DS job'])"
   ]
  },
  {
   "cell_type": "code",
   "execution_count": null,
   "metadata": {},
   "outputs": [],
   "source": [
    "print(classification_report(y_test,lr_c2f.predict(X_test),target_names=[\"Other job\", \"DS job\"]))"
   ]
  },
  {
   "cell_type": "markdown",
   "metadata": {},
   "source": [
    "Imbalance class has caused the model to be bias toward majority class (other job), precision score is only 0.55 but still significantly better than baseline socre"
   ]
  },
  {
   "cell_type": "code",
   "execution_count": null,
   "metadata": {},
   "outputs": [],
   "source": [
    "features = np.array(X_train.columns)\n",
    "lrf_coefs = pd.DataFrame({'coef':lr_c2f.coef_[0]},index=features)\n",
    "lrf_coefs = lrf_coefs.sort_values('coef',ascending=False)\n",
    "lrf_coefs.head(10)"
   ]
  },
  {
   "cell_type": "markdown",
   "metadata": {},
   "source": [
    "In the industry, keywords such as python and deep learning can be used to distinguish data scientist job"
   ]
  },
  {
   "cell_type": "code",
   "execution_count": null,
   "metadata": {},
   "outputs": [],
   "source": [
    "#hyperparameter tune for random forest\n",
    "rfc_params={\n",
    "             'max_depth': [10, 20, 30, 40, 50, 60, 70, 80, 90, 100, None],\n",
    "             'n_estimators': [50,100,150,200],\n",
    "           }\n",
    "\n",
    "gs_rfc=GridSearchCV(rfc, rfc_params, cv=5, scoring='f1', n_jobs=-1)\n",
    "gs_rfc.fit(X_train,y_train)\n",
    "\n",
    "rfc2=gs_rfc.best_estimator_\n",
    "rfc2.fit(X_train,y_train)\n",
    "\n",
    "print('Random forest best parameters:', rfc2)\n",
    "print('Cross val f1 score on train data:', np.mean(cross_val_score(rfc2, X_train, y_train, cv=5, scoring='f1')))"
   ]
  },
  {
   "cell_type": "code",
   "execution_count": null,
   "metadata": {},
   "outputs": [],
   "source": [
    "pd.DataFrame(confusion_matrix(y_test,rfc2.predict(X_test)),\n",
    "             index=['Actual Other job','Actual DS job'],\n",
    "             columns=['Predicted Other job','Predicted DS job'])"
   ]
  },
  {
   "cell_type": "code",
   "execution_count": null,
   "metadata": {},
   "outputs": [],
   "source": [
    "print(classification_report(y_test,rfc2.predict(X_test),target_names=[\"Other job\", \"DS job\"]))"
   ]
  },
  {
   "cell_type": "markdown",
   "metadata": {},
   "source": [
    "Random Forest model also showing bias toward majority class eventhough we train the model with f1 score. By looking at the overall score this model has average of 0.87 but low recall rate is still the main problem."
   ]
  },
  {
   "cell_type": "code",
   "execution_count": null,
   "metadata": {},
   "outputs": [],
   "source": [
    "features = np.array(X_train.columns)\n",
    "rf_coefs = pd.DataFrame({'coef':rfc2.feature_importances_},index=features)\n",
    "rf_coefs.sort_values('coef',ascending = False).head(10)"
   ]
  },
  {
   "cell_type": "markdown",
   "metadata": {},
   "source": [
    "Same as logistic regression model, we are still able to spot some of the data scientist job requirement keywords such as SQL, computer science and Python."
   ]
  },
  {
   "cell_type": "code",
   "execution_count": null,
   "metadata": {},
   "outputs": [],
   "source": [
    "#Top 10 features for salary high and low prediction.\n",
    "Logit_reg = lrf_coefs.sort_values('coef',ascending=False).head(10).index\n",
    "rf_feat = rf_coefs.sort_values('coef',ascending = False).head(10).index\n",
    "\n",
    "DS_features = pd.DataFrame({'Logistic model':Logit_reg, 'Random Forest':rf_feat})\n",
    "DS_features"
   ]
  },
  {
   "cell_type": "markdown",
   "metadata": {},
   "source": [
    "From the logistic regression model coefficient and random forest important features, we can conclude that specific features that distinguished data science job from other job are a computer science degree, deep learning skill, strong in analytical, Python and SQL programming."
   ]
  },
  {
   "cell_type": "markdown",
   "metadata": {},
   "source": [
    "### Latent Dirichlet Allocation as topic modeling "
   ]
  },
  {
   "cell_type": "code",
   "execution_count": null,
   "metadata": {},
   "outputs": [],
   "source": [
    "from sklearn.feature_extraction.text import CountVectorizer\n",
    "tf_vectorizer = CountVectorizer(strip_accents = 'unicode', stop_words = stop,\n",
    "                                lowercase = True, max_df = 0.3, min_df = 5, ngram_range=(1,3))\n",
    "dtm = tf_vectorizer.fit_transform(job_title['Requirements'])"
   ]
  },
  {
   "cell_type": "code",
   "execution_count": null,
   "metadata": {},
   "outputs": [],
   "source": [
    "import pyLDAvis\n",
    "import pyLDAvis.sklearn\n",
    "from sklearn.decomposition import LatentDirichletAllocation\n",
    "\n",
    "lda_tf = LatentDirichletAllocation(n_components=7, random_state=42)\n",
    "lda_tf.fit(dtm)"
   ]
  },
  {
   "cell_type": "code",
   "execution_count": null,
   "metadata": {},
   "outputs": [],
   "source": [
    "display_data = pyLDAvis.sklearn.prepare(lda_tf, dtm, tf_vectorizer)"
   ]
  },
  {
   "cell_type": "code",
   "execution_count": null,
   "metadata": {},
   "outputs": [],
   "source": [
    "#Terms under Topic 1 are relevant to Data Scientist job requirements\n",
    "#pyLDAvis.display(display_data)\n",
    "pyLDAvis.show(display_data)"
   ]
  },
  {
   "cell_type": "markdown",
   "metadata": {},
   "source": [
    "Latent Dirichlet Allocation was used as topic modeling or an unsupervised method to ascertain the topics of the content in the job requirements \n",
    "Topic 1 seems to be relevant to data scientist job requirements, most of the major requirements are appeared under topic 1. \n",
    "Tools and programming:  Python, SQL, Hadoop, Spark and Scala.\n",
    "DS skill: Machine learning, programming, analytical skills.\n",
    "Education: Computer Science, statistics and mathematics"
   ]
  },
  {
   "cell_type": "code",
   "execution_count": null,
   "metadata": {},
   "outputs": [],
   "source": [
    "topic1 = display_data.topic_info\n",
    "topic1 = topic1[topic1['Category']=='Topic1']\n",
    "title_term = list(topic1['Term'])"
   ]
  },
  {
   "cell_type": "code",
   "execution_count": null,
   "metadata": {},
   "outputs": [],
   "source": [
    "title_term"
   ]
  },
  {
   "cell_type": "markdown",
   "metadata": {},
   "source": [
    "### Executive summary\n",
    "\n",
    "There are two objectives for this project, first is to predict the salary of data science job based on infomation present in online job advert (mycareersfuture.sg) and second is to find the components of a job posting that distinguish data scientists from other data jobs.\n",
    "Total of 3960 jobs data related jobs were scrapped though mycareerfuture.sg but only 838 are categorized as data science related job.\n",
    "\n",
    "Salaries were divided into two classes for prediction:\n",
    "LOW salaries (below median, ie SGD 6000) and HIGH salaries (above median, ie SGD 6000)\n",
    "\n",
    "Important features that determine a low vs. high paying data science job are Seniority level of the posted job, with managerial level and senior executive at the HIGH salaries range. Education level is also one of the feature with phD holder and diploma holder significantly defined the salaries range as well. Skills such as modeling skill, statistical skill and Hadoop are also the key toward HIGH salaries range.\n",
    "\n",
    "The second objective is to distinguish data scientists job from other data jobs, keyword such as computer science degree, deep learning skill, strong in analytical, Python and SQL programming are used to predict Data Scientist jobs. \n",
    "\n",
    "The terms from topic modeling also suggest that tools, skills and educations below strongly distinguished data science job from others:\n",
    "Tools: Python, SQL, Hadoop, Spark and Scala\n",
    "Skills Machine learning, programming, analytical skills.\n",
    "Educations: Computer Science, statistics and mathematics"
   ]
  },
  {
   "cell_type": "code",
   "execution_count": null,
   "metadata": {},
   "outputs": [],
   "source": [
    "topic1.head(20).sort_values('Freq', ascending = True)"
   ]
  },
  {
   "cell_type": "code",
   "execution_count": null,
   "metadata": {},
   "outputs": [],
   "source": [
    "topic1.tail(20).sort_values('Freq', ascending = True)"
   ]
  },
  {
   "cell_type": "code",
   "execution_count": null,
   "metadata": {},
   "outputs": [],
   "source": [
    "from wordcloud import WordCloud, STOPWORDS\n",
    "import matplotlib.pyplot as plt\n",
    "stopwords = list(set(STOPWORDS))\n",
    "stopwords += ['proven','environment','required','written','including','minimum','proven','selection',\n",
    "              'salesforce','star','without notice','may include','exhaustive','amended','include additional',\n",
    "             'policies', 'criteria','may', 'include', 'without', 'prevailing','equivalent', 'notice', 'time',\n",
    "             'term', 'qualification', 'based','Name', 'dtype','tools', 'object', 'additional', 'build', 'recruitment',\n",
    "             'management','excellent','length','software', 'project', 'communication', 'practical', 'qualifications']\n",
    "\n",
    "def show_wordcloud(data, title = None):\n",
    "    wordcloud = WordCloud(\n",
    "        background_color='white',\n",
    "        stopwords=stopwords,\n",
    "        max_words=200,\n",
    "        max_font_size=40, \n",
    "        scale=3,\n",
    "    ).generate(str(data))\n",
    "\n",
    "    fig = plt.figure(1, figsize=(12, 12))\n",
    "    plt.axis('off')\n",
    "    if title: \n",
    "        fig.suptitle(title, fontsize=20)\n",
    "        fig.subplots_adjust(top=2.3)\n",
    "\n",
    "    plt.imshow(wordcloud)\n",
    "    plt.show()\n",
    "\n",
    "show_wordcloud(top_1['Term'])"
   ]
  },
  {
   "cell_type": "code",
   "execution_count": null,
   "metadata": {},
   "outputs": [],
   "source": [
    "top_1 = topic1[['Freq', 'Term']]"
   ]
  },
  {
   "cell_type": "code",
   "execution_count": null,
   "metadata": {},
   "outputs": [],
   "source": [
    "top_1.info()"
   ]
  },
  {
   "cell_type": "code",
   "execution_count": null,
   "metadata": {},
   "outputs": [],
   "source": [
    "import matplotlib.pyplot as plt\n",
    "from wordcloud import WordCloud\n",
    "\n",
    "wordcloud = WordCloud()\n",
    "wordcloud.generate(top_1)\n",
    "plt.figure()\n",
    "plt.imshow(wordcloud, interpolation=\"bilinear\")\n",
    "plt.axis(\"off\")\n",
    "plt.show()"
   ]
  },
  {
   "cell_type": "code",
   "execution_count": null,
   "metadata": {},
   "outputs": [],
   "source": [
    "d = {}\n",
    "for a, x in top_1.values:\n",
    "    d[a] = x\n",
    "\n",
    "import matplotlib.pyplot as plt\n",
    "from wordcloud import WordCloud\n",
    "\n",
    "wordcloud = WordCloud()\n",
    "wordcloud.generate_from_frequencies(frequencies=d)\n",
    "plt.figure()\n",
    "plt.imshow(wordcloud, interpolation=\"bilinear\")\n",
    "plt.axis(\"off\")\n",
    "plt.show()"
   ]
  },
  {
   "cell_type": "code",
   "execution_count": null,
   "metadata": {},
   "outputs": [],
   "source": []
  }
 ],
 "metadata": {
  "kernelspec": {
   "display_name": "Python 3",
   "language": "python",
   "name": "python3"
  },
  "language_info": {
   "codemirror_mode": {
    "name": "ipython",
    "version": 3
   },
   "file_extension": ".py",
   "mimetype": "text/x-python",
   "name": "python",
   "nbconvert_exporter": "python",
   "pygments_lexer": "ipython3",
   "version": "3.7.6"
  }
 },
 "nbformat": 4,
 "nbformat_minor": 2
}
