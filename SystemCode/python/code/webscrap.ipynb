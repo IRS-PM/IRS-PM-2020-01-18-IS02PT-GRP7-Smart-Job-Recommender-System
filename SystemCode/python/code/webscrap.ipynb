{
 "cells": [
  {
   "cell_type": "code",
   "execution_count": 2,
   "metadata": {},
   "outputs": [],
   "source": [
    "import requests\n",
    "from bs4 import BeautifulSoup\n",
    "import time\n",
    "import numpy as np\n",
    "import urllib\n",
    "import os\n",
    "import pandas as pd\n",
    "from selenium import webdriver\n",
    "from time import sleep\n",
    "import re\n",
    "from selenium.webdriver.common.keys import Keys"
   ]
  },
  {
   "cell_type": "code",
   "execution_count": 3,
   "metadata": {},
   "outputs": [],
   "source": [
    "def page_scrap (job_url):\n",
    "    \n",
    "    driver = webdriver.Chrome(executable_path=\"/Users/yesplum/desktop/GApro/chromedriver/chromedriver\")\n",
    "    driver.get(job_url)\n",
    "    sleep(5)\n",
    "    html = driver.page_source\n",
    "    sleep(3)\n",
    "    driver.close()\n",
    "    soup = BeautifulSoup(html, 'lxml', from_encoding=\"utf-8\")\n",
    "    \n",
    "    job_title = []\n",
    "    company = []\n",
    "    job_id = []\n",
    "    seniority = []\n",
    "    job_cat = []\n",
    "    salary = []\n",
    "    requirements = []\n",
    "    post_date = []\n",
    "    emp_type = []\n",
    "    salary_range = []\n",
    "    salary_type = []\n",
    "    experience = []\n",
    "    \n",
    "\n",
    "    for entry in soup.find_all('h1', {'id': \"job_title\"}):\n",
    "        job_title.append(entry.renderContents())\n",
    "\n",
    "    for entry in soup.find_all('p', {'class': \"f6 fw6 mv0 black-80 mr2 di ttu\"}):\n",
    "        company.append(entry.renderContents())\n",
    "\n",
    "    for entry in soup.find_all('span', {'class': \"black-60 db f6 fw4 mv1\"}):\n",
    "        job_id.append(entry.renderContents())\n",
    "        \n",
    "    for entry in soup.find_all('p', {'id': \"employment_type\"}):\n",
    "        emp_type.append(entry.renderContents())\n",
    "    \n",
    "    for entry in soup.find_all('p', {'id': \"seniority\"}):\n",
    "        seniority.append(entry.renderContents())\n",
    "\n",
    "    for entry in soup.find_all('p', {'id': \"job-categories\"}):\n",
    "        job_cat.append(entry.renderContents()) \n",
    "\n",
    "    for entry in soup.find_all('span', {'id': \"last_posted_date\"}):\n",
    "        post_date.append(entry.renderContents()) \n",
    "         \n",
    "    for entry in soup.find_all('span', {'class': \"salary_range dib f2-5 fw6 black-80\"}):\n",
    "        salary_range.append(entry.renderContents()) \n",
    "        \n",
    "    for entry in soup.find_all('span', {'class': \"salary_type dib f5 fw4 black-60 pr1 i pb\"}):\n",
    "        salary_type.append(entry.renderContents())       \n",
    "        \n",
    "    for entry in soup.find_all('p', {'id': \"min_experience\"}):\n",
    "        experience.append(entry.renderContents())            \n",
    " \n",
    "        \n",
    "    salary_all = soup.find_all(\"span\", attrs={'class': 'dib'})\n",
    "    list_of_inner_text = [x.text for x in salary_all]\n",
    "    salary_text = '/ '.join(list_of_inner_text)\n",
    "    salary.append(salary_text)\n",
    "\n",
    "    requirement_all = soup.find(\"div\", attrs={'id': 'description-content'}).findAll('ul')\n",
    "    list_of_inner_text = [x.text for x in requirement_all]\n",
    "    requirements_text = ', '.join(list_of_inner_text)\n",
    "    requirements.append(requirements_text)    \n",
    "    \n",
    "\n",
    "    data = pd.DataFrame(columns = ['Job_Id','Emp_Type','Job_Title','Company','Date_Posted',\n",
    "                                   'Salary_Range','Salary_Type','Year_Experience',\n",
    "                                   'Seniority','Category','Requirements'])\n",
    "\n",
    "    data = data.append({'Job_Id':job_id,'Emp_Type':emp_type,'Job_Title':job_title,'Company':company,\n",
    "                        'Date_Posted':post_date,'Salary_Range':salary_range,\n",
    "                        'Salary_Type':salary_type,'Year_Experience':experience,\n",
    "                        'Seniority':seniority,'Category':job_cat,'Requirements':requirements},ignore_index=True) \n",
    "\n",
    "    return data"
   ]
  },
  {
   "cell_type": "code",
   "execution_count": 89,
   "metadata": {
    "scrolled": true
   },
   "outputs": [
    {
     "name": "stdout",
     "output_type": "stream",
     "text": [
      "https://www.mycareersfuture.sg/search?search=Machine%20Learning&sortBy=new_posting_date&page=0\n"
     ]
    },
    {
     "name": "stderr",
     "output_type": "stream",
     "text": [
      "/Users/yesplum/opt/anaconda3/lib/python3.7/site-packages/bs4/__init__.py:203: UserWarning: You provided Unicode markup but also provided a value for from_encoding. Your from_encoding will be ignored.\n",
      "  warnings.warn(\"You provided Unicode markup but also provided a value for from_encoding. Your from_encoding will be ignored.\")\n"
     ]
    },
    {
     "name": "stdout",
     "output_type": "stream",
     "text": [
      "https://www.mycareersfuture.sg/search?search=Machine%20Learning&sortBy=new_posting_date&page=1\n",
      "https://www.mycareersfuture.sg/search?search=Machine%20Learning&sortBy=new_posting_date&page=2\n",
      "https://www.mycareersfuture.sg/search?search=Machine%20Learning&sortBy=new_posting_date&page=3\n",
      "https://www.mycareersfuture.sg/search?search=Machine%20Learning&sortBy=new_posting_date&page=4\n",
      "https://www.mycareersfuture.sg/search?search=Machine%20Learning&sortBy=new_posting_date&page=5\n",
      "https://www.mycareersfuture.sg/search?search=Machine%20Learning&sortBy=new_posting_date&page=6\n",
      "https://www.mycareersfuture.sg/search?search=Machine%20Learning&sortBy=new_posting_date&page=7\n",
      "https://www.mycareersfuture.sg/search?search=Machine%20Learning&sortBy=new_posting_date&page=8\n",
      "https://www.mycareersfuture.sg/search?search=Machine%20Learning&sortBy=new_posting_date&page=9\n",
      "https://www.mycareersfuture.sg/search?search=Machine%20Learning&sortBy=new_posting_date&page=10\n",
      "https://www.mycareersfuture.sg/search?search=Machine%20Learning&sortBy=new_posting_date&page=11\n",
      "https://www.mycareersfuture.sg/search?search=Machine%20Learning&sortBy=new_posting_date&page=12\n",
      "https://www.mycareersfuture.sg/search?search=Machine%20Learning&sortBy=new_posting_date&page=13\n",
      "https://www.mycareersfuture.sg/search?search=Machine%20Learning&sortBy=new_posting_date&page=14\n",
      "https://www.mycareersfuture.sg/search?search=Machine%20Learning&sortBy=new_posting_date&page=15\n",
      "https://www.mycareersfuture.sg/search?search=Machine%20Learning&sortBy=new_posting_date&page=16\n",
      "https://www.mycareersfuture.sg/search?search=Machine%20Learning&sortBy=new_posting_date&page=17\n",
      "https://www.mycareersfuture.sg/search?search=Machine%20Learning&sortBy=new_posting_date&page=18\n",
      "https://www.mycareersfuture.sg/search?search=Machine%20Learning&sortBy=new_posting_date&page=19\n",
      "https://www.mycareersfuture.sg/search?search=Machine%20Learning&sortBy=new_posting_date&page=20\n",
      "https://www.mycareersfuture.sg/search?search=Machine%20Learning&sortBy=new_posting_date&page=21\n",
      "https://www.mycareersfuture.sg/search?search=Machine%20Learning&sortBy=new_posting_date&page=22\n",
      "https://www.mycareersfuture.sg/search?search=Machine%20Learning&sortBy=new_posting_date&page=23\n",
      "https://www.mycareersfuture.sg/search?search=Machine%20Learning&sortBy=new_posting_date&page=24\n",
      "https://www.mycareersfuture.sg/search?search=Machine%20Learning&sortBy=new_posting_date&page=25\n",
      "https://www.mycareersfuture.sg/search?search=Machine%20Learning&sortBy=new_posting_date&page=26\n",
      "https://www.mycareersfuture.sg/search?search=Machine%20Learning&sortBy=new_posting_date&page=27\n",
      "https://www.mycareersfuture.sg/search?search=Machine%20Learning&sortBy=new_posting_date&page=28\n",
      "https://www.mycareersfuture.sg/search?search=Machine%20Learning&sortBy=new_posting_date&page=29\n"
     ]
    }
   ],
   "source": [
    "driver = webdriver.Chrome(executable_path=\"/Users/yesplum/desktop/GApro/chromedriver/chromedriver\")\n",
    "driver.get(\"https://www.mycareersfuture.sg/\")\n",
    "elem = driver.find_element_by_name(\"search-text\")\n",
    "elem.send_keys(\"Machine Learning\") #job search keyword\n",
    "#\"data science\",\"artificial\", \"IoT\", \"Industry 4.0\", \"fintech\"\n",
    "#\"Machine Learning\"\n",
    "elem.send_keys(Keys.RETURN)\n",
    "sleep(5)\n",
    "current_url = driver.current_url\n",
    "sleep(5)\n",
    "driver.close()\n",
    "\n",
    "y=0\n",
    "links = []\n",
    "\n",
    "for page in range(30):\n",
    "    \n",
    "    new_next_url = current_url.replace('page=' + str(y),'page=' +str(page))\n",
    "    print(new_next_url)\n",
    "\n",
    "    driver2 = webdriver.Chrome(executable_path=\"/Users/yesplum/desktop/GApro/chromedriver/chromedriver\")\n",
    "    driver2.get(new_next_url)\n",
    "    sleep(8)\n",
    "    html1 = driver2.page_source \n",
    "    driver2.close()\n",
    "\n",
    "    soup = BeautifulSoup(html1, 'lxml', from_encoding=\"utf-8\")\n",
    "\n",
    "    for entry in soup.find_all(\"a\", attrs={'class': re.compile(r'JobCard')}):\n",
    "        link = entry.get('href')\n",
    "        links.append(link)"
   ]
  },
  {
   "cell_type": "code",
   "execution_count": 90,
   "metadata": {},
   "outputs": [
    {
     "data": {
      "text/plain": [
       "593"
      ]
     },
     "execution_count": 90,
     "metadata": {},
     "output_type": "execute_result"
    }
   ],
   "source": [
    "len(links)"
   ]
  },
  {
   "cell_type": "code",
   "execution_count": 97,
   "metadata": {},
   "outputs": [
    {
     "data": {
      "text/plain": [
       "['/job/consultant-ultimate-asset-asia-pacific-c99857a236428944dfbf8adc82fb7ce9']"
      ]
     },
     "execution_count": 97,
     "metadata": {},
     "output_type": "execute_result"
    }
   ],
   "source": [
    "links[239:240]"
   ]
  },
  {
   "cell_type": "code",
   "execution_count": 98,
   "metadata": {},
   "outputs": [],
   "source": [
    "links1 = links[240:].copy()"
   ]
  },
  {
   "cell_type": "markdown",
   "metadata": {},
   "source": [
    "#save links into csv file\n",
    "import csv\n",
    "\n",
    "with open('AI_26Mar_links.csv', 'w') as myfile:\n",
    "    wr = csv.writer(myfile, quoting=csv.QUOTE_ALL,delimiter='\\n')\n",
    "    wr.writerow(links)"
   ]
  },
  {
   "cell_type": "markdown",
   "metadata": {},
   "source": [
    "links = pd.read_csv('IOT_26Mar_links.csv', header=None)\n",
    "links.iloc[0:1]"
   ]
  },
  {
   "cell_type": "code",
   "execution_count": 99,
   "metadata": {},
   "outputs": [
    {
     "name": "stderr",
     "output_type": "stream",
     "text": [
      "/Users/yesplum/opt/anaconda3/lib/python3.7/site-packages/bs4/__init__.py:203: UserWarning: You provided Unicode markup but also provided a value for from_encoding. Your from_encoding will be ignored.\n",
      "  warnings.warn(\"You provided Unicode markup but also provided a value for from_encoding. Your from_encoding will be ignored.\")\n"
     ]
    }
   ],
   "source": [
    "job_df = pd.DataFrame()\n",
    "\n",
    "for i in range (len(links1)):\n",
    "    job_url  =  \"https://www.mycareersfuture.sg%s\" % links1[i]\n",
    "    temp_df = page_scrap(job_url)\n",
    "    job_df = job_df.append(temp_df, ignore_index=True)"
   ]
  },
  {
   "cell_type": "code",
   "execution_count": 100,
   "metadata": {},
   "outputs": [
    {
     "data": {
      "text/html": [
       "<div>\n",
       "<style scoped>\n",
       "    .dataframe tbody tr th:only-of-type {\n",
       "        vertical-align: middle;\n",
       "    }\n",
       "\n",
       "    .dataframe tbody tr th {\n",
       "        vertical-align: top;\n",
       "    }\n",
       "\n",
       "    .dataframe thead th {\n",
       "        text-align: right;\n",
       "    }\n",
       "</style>\n",
       "<table border=\"1\" class=\"dataframe\">\n",
       "  <thead>\n",
       "    <tr style=\"text-align: right;\">\n",
       "      <th></th>\n",
       "      <th>Job_Id</th>\n",
       "      <th>Emp_Type</th>\n",
       "      <th>Job_Title</th>\n",
       "      <th>Company</th>\n",
       "      <th>Date_Posted</th>\n",
       "      <th>Salary_Range</th>\n",
       "      <th>Salary_Type</th>\n",
       "      <th>Year_Experience</th>\n",
       "      <th>Seniority</th>\n",
       "      <th>Category</th>\n",
       "      <th>Requirements</th>\n",
       "    </tr>\n",
       "  </thead>\n",
       "  <tbody>\n",
       "    <tr>\n",
       "      <th>351</th>\n",
       "      <td>[b'JOB-2018-0215413']</td>\n",
       "      <td>[b'Full Time']</td>\n",
       "      <td>[b'Data Analytics Lead']</td>\n",
       "      <td>[b'GOVERNMENT TECHNOLOGY AGENCY']</td>\n",
       "      <td>[b'Posted 06 Dec 2019']</td>\n",
       "      <td>[b'&lt;div class=\"lh-solid\"&gt;&lt;span class=\"dib\"&gt;$5,...</td>\n",
       "      <td>[b'Monthly']</td>\n",
       "      <td>[]</td>\n",
       "      <td>[b'']</td>\n",
       "      <td>[b'Information Technology, Public / Civil Serv...</td>\n",
       "      <td>[ Chart and drive the data analytics strategy ...</td>\n",
       "    </tr>\n",
       "    <tr>\n",
       "      <th>352</th>\n",
       "      <td>[b'JOB-2019-0209966']</td>\n",
       "      <td>[b'Full Time']</td>\n",
       "      <td>[b'DevOps Engineer, Government Digital Services']</td>\n",
       "      <td>[b'GOVERNMENT TECHNOLOGY AGENCY']</td>\n",
       "      <td>[b'Posted 10 Oct 2019']</td>\n",
       "      <td>[b'&lt;div class=\"lh-solid\"&gt;&lt;span class=\"dib\"&gt;$5,...</td>\n",
       "      <td>[b'Monthly']</td>\n",
       "      <td>[]</td>\n",
       "      <td>[b'Middle Management']</td>\n",
       "      <td>[b'Information Technology, Public / Civil Serv...</td>\n",
       "      <td>[ Manage the development of the internal engin...</td>\n",
       "    </tr>\n",
       "  </tbody>\n",
       "</table>\n",
       "</div>"
      ],
      "text/plain": [
       "                    Job_Id        Emp_Type  \\\n",
       "351  [b'JOB-2018-0215413']  [b'Full Time']   \n",
       "352  [b'JOB-2019-0209966']  [b'Full Time']   \n",
       "\n",
       "                                             Job_Title  \\\n",
       "351                           [b'Data Analytics Lead']   \n",
       "352  [b'DevOps Engineer, Government Digital Services']   \n",
       "\n",
       "                               Company              Date_Posted  \\\n",
       "351  [b'GOVERNMENT TECHNOLOGY AGENCY']  [b'Posted 06 Dec 2019']   \n",
       "352  [b'GOVERNMENT TECHNOLOGY AGENCY']  [b'Posted 10 Oct 2019']   \n",
       "\n",
       "                                          Salary_Range   Salary_Type  \\\n",
       "351  [b'<div class=\"lh-solid\"><span class=\"dib\">$5,...  [b'Monthly']   \n",
       "352  [b'<div class=\"lh-solid\"><span class=\"dib\">$5,...  [b'Monthly']   \n",
       "\n",
       "    Year_Experience               Seniority  \\\n",
       "351              []                   [b'']   \n",
       "352              []  [b'Middle Management']   \n",
       "\n",
       "                                              Category  \\\n",
       "351  [b'Information Technology, Public / Civil Serv...   \n",
       "352  [b'Information Technology, Public / Civil Serv...   \n",
       "\n",
       "                                          Requirements  \n",
       "351  [ Chart and drive the data analytics strategy ...  \n",
       "352  [ Manage the development of the internal engin...  "
      ]
     },
     "execution_count": 100,
     "metadata": {},
     "output_type": "execute_result"
    }
   ],
   "source": [
    "job_df.tail(2)"
   ]
  },
  {
   "cell_type": "code",
   "execution_count": 101,
   "metadata": {},
   "outputs": [],
   "source": [
    "job_df.to_csv('ML_27Mar2020b.csv')"
   ]
  },
  {
   "cell_type": "code",
   "execution_count": null,
   "metadata": {},
   "outputs": [],
   "source": []
  }
 ],
 "metadata": {
  "kernelspec": {
   "display_name": "Python 3",
   "language": "python",
   "name": "python3"
  },
  "language_info": {
   "codemirror_mode": {
    "name": "ipython",
    "version": 3
   },
   "file_extension": ".py",
   "mimetype": "text/x-python",
   "name": "python",
   "nbconvert_exporter": "python",
   "pygments_lexer": "ipython3",
   "version": "3.7.6"
  }
 },
 "nbformat": 4,
 "nbformat_minor": 2
}
